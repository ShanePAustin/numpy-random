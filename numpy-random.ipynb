{
 "cells": [
  {
   "cell_type": "markdown",
   "metadata": {},
   "source": [
    "# The numpy.random package"
   ]
  },
  {
   "cell_type": "markdown",
   "metadata": {},
   "source": [
    "## Overview of the numpy-random package"
   ]
  },
  {
   "cell_type": "markdown",
   "metadata": {},
   "source": [
    "## This Document\n",
    "\n",
    "This notebook is an investigation into random number genration and the functionality of the numpy.random python package, the project brief is outlined below:\n",
    "\n",
    "The following assignment concerns the numpy.random package in Python. You are required to create a Jupyter notebook explaining the use of the package, including detailed explanations of at least five of the distributions provided for in the package.\n",
    "    There are four distinct tasks to be carried out in your Jupyter notebook.\n",
    "    \n",
    "      1. Explain the overall purpose of the package.\n",
    "      2. Explain the use of the “Simple random data” and “Permutations” functions.\n",
    "      3. Explain the use and purpose of at least five “Distributions” functions.\n",
    "      4. Explain the use of seeds in generating pseudorandom numbers.\n",
    "\n",
    "## NumPy\n",
    "\n",
    "NumPy short for Numerical Python is an open source Python Library, consisting of multidimensional array objects and a collection of routines for processing the arrays [1]. It has become the standard for working with numerical data in Python and is used in most fields of science and engineering. The NumPy API is used extensively in other Python libraries such as Pandas, SciPy, Matplotlib, scikit-learn and many other data science packages [2].\n",
    "\n",
    "The NumPy package allows convenient and efficient manipulation of data, especially with the processing of large datasets as NumPy arrays work much faster than the standard Python list structure. The package also includes optimized functions for improved efficiency dealing with complex algebraic operations, this makes programs easier to code, fater to run and more efficient in terms of memory usage. \n",
    "\n",
    "## NumPy.random\n",
    "\n",
    "Random number generation (RNG) is an important aspect of many areas or computing, including crytopgraphy, machine learning, computer simulations and many other applications. RNG is also particularly useful in computer simulations used for tetsing and debugging programs, an example could be the tesitng of sorting algorithms using a series of randomly generated integers.    \n",
    "\n",
    "numpy.random is a sub package of NumPy used fo generating random numbers and utilising statistical probability distrubutions for the replication of \"real-life\" data.\n",
    "\n",
    "    Numpy’s random number routines produce pseudo random numbers using combinations of a BitGenerator to create sequences and a Generator to use those sequences to sample from different statistical distributions:\n",
    "\n",
    "    * BitGenerators: Objects that generate random numbers. These are typically unsigned integer words filled with sequences of either 32 or 64 random bits.\n",
    "\n",
    "    * Generators: Objects that transform sequences of random bits from a BitGenerator into sequences of numbers that follow a specific probability distribution (such as uniform, Normal or Binomial) within a specified interval [5].  \n",
    "\n",
    "-----\n",
    "\n"
   ]
  },
  {
   "cell_type": "markdown",
   "metadata": {},
   "source": [
    "## Modules\n",
    "\n",
    "The libraries below were imported for use within this notebook:"
   ]
  },
  {
   "cell_type": "code",
   "execution_count": 1,
   "metadata": {},
   "outputs": [],
   "source": [
    "#Import Libraries\n",
    "\n",
    "#Import NumPy\n",
    "import numpy as np\n",
    "\n",
    "#Import Matplotlib\n",
    "import matplotlib.pyplot as plt\n",
    "\n",
    "import seaborn as sns"
   ]
  },
  {
   "cell_type": "code",
   "execution_count": 2,
   "metadata": {},
   "outputs": [
    {
     "name": "stdout",
     "output_type": "stream",
     "text": [
      "0.8095773536016565\n"
     ]
    }
   ],
   "source": [
    "#creating a variable for Random Number Generation\n",
    "rng = np.random.default_rng()\n",
    "\n",
    "#test the variable\n",
    "print(rng.random())"
   ]
  },
  {
   "cell_type": "markdown",
   "metadata": {},
   "source": [
    "--------\n",
    "## Simple Random Data\n",
    "\n",
    "This section will review the basic functions of RNG within NumPy, the current documentation refers to 4 data types:\n",
    "\n",
    "* Integer\n",
    "* Random\n",
    "* Choice\n",
    "* Bytes"
   ]
  },
  {
   "cell_type": "markdown",
   "metadata": {},
   "source": [
    "### Integers\n",
    "\n",
    "[random.Generator.integers(low, high=None, size=None, dtype=np.int64, endpoint=False)](https://numpy.org/doc/stable/reference/random/generated/numpy.random.Generator.integers.html#numpy.random.Generator.integers)\n",
    "\n",
    "The generation of random integers with a given range and size."
   ]
  },
  {
   "cell_type": "markdown",
   "metadata": {},
   "source": [
    "* The example below generates a random integer between 0-9 (of range 10)"
   ]
  },
  {
   "cell_type": "code",
   "execution_count": 3,
   "metadata": {},
   "outputs": [
    {
     "data": {
      "text/plain": [
       "2"
      ]
     },
     "execution_count": 3,
     "metadata": {},
     "output_type": "execute_result"
    }
   ],
   "source": [
    "#Generate an integer between 0-9\n",
    "rng.integers(10)"
   ]
  },
  {
   "cell_type": "markdown",
   "metadata": {},
   "source": [
    "* The example below is simulating the roll of 10, 6 sided dice, defining the low end and high end of the range as well as the size to the sample."
   ]
  },
  {
   "cell_type": "code",
   "execution_count": 4,
   "metadata": {},
   "outputs": [
    {
     "data": {
      "text/plain": [
       "array([1, 6, 1, 6, 5, 4, 6, 1, 2, 1], dtype=int64)"
      ]
     },
     "execution_count": 4,
     "metadata": {},
     "output_type": "execute_result"
    }
   ],
   "source": [
    "#Roll 10 dice\n",
    "#Generate 10 ranmdom integers between 1-6\n",
    "rng.integers(1,7, size=10)"
   ]
  },
  {
   "cell_type": "markdown",
   "metadata": {},
   "source": [
    "* Generate 4 x 4 array of integers between 1 and 6 "
   ]
  },
  {
   "cell_type": "code",
   "execution_count": 5,
   "metadata": {},
   "outputs": [
    {
     "data": {
      "text/plain": [
       "array([[2, 3, 5, 6],\n",
       "       [5, 5, 3, 1],\n",
       "       [2, 3, 1, 5],\n",
       "       [2, 4, 2, 4]], dtype=int64)"
      ]
     },
     "execution_count": 5,
     "metadata": {},
     "output_type": "execute_result"
    }
   ],
   "source": [
    "#Generate 4 arrays of 4 random numbers between 1-6\n",
    "rng.integers(1, 7, size=(4,4))"
   ]
  },
  {
   "cell_type": "markdown",
   "metadata": {},
   "source": [
    "* The use of endpoint=True makes the range inclusive"
   ]
  },
  {
   "cell_type": "code",
   "execution_count": 6,
   "metadata": {},
   "outputs": [
    {
     "data": {
      "text/plain": [
       "array([[2, 2, 4, 2, 5, 6, 7, 2],\n",
       "       [4, 3, 3, 7, 5, 7, 2, 2],\n",
       "       [7, 1, 3, 4, 4, 5, 2, 1],\n",
       "       [7, 6, 5, 6, 7, 6, 3, 2],\n",
       "       [2, 5, 3, 3, 3, 5, 2, 6],\n",
       "       [3, 5, 4, 5, 1, 1, 6, 5],\n",
       "       [5, 1, 1, 3, 2, 4, 2, 5],\n",
       "       [4, 6, 3, 4, 3, 3, 1, 2]], dtype=int64)"
      ]
     },
     "execution_count": 6,
     "metadata": {},
     "output_type": "execute_result"
    }
   ],
   "source": [
    "#Generate 8 arrays of 8 random numbers between 1-7\n",
    "#\"endpoint=True\" makes the range inclusive\n",
    "rng.integers(1, 7, size=(8,8), endpoint=True )"
   ]
  },
  {
   "cell_type": "markdown",
   "metadata": {},
   "source": [
    "This function produces data using uniform distribution as shown in the plots below: (The higher the sample size the more evident the uniform distribution appears)."
   ]
  },
  {
   "cell_type": "code",
   "execution_count": 49,
   "metadata": {},
   "outputs": [
    {
     "data": {
      "image/png": "[encoded data removed]",
      "text/plain": [
       "<Figure size 432x288 with 1 Axes>"
      ]
     },
     "metadata": {},
     "output_type": "display_data"
    }
   ],
   "source": [
    "#Replicate the roll of 100 dice\n",
    "dice = rng.integers(1,7, size = 100)\n",
    "#Plot histogram of the results\n",
    "sns.histplot(dice, kde = True)\n",
    "plt.show()"
   ]
  },
  {
   "cell_type": "markdown",
   "metadata": {},
   "source": [
    "Clearly show the uniform distrubution of the number generation"
   ]
  },
  {
   "cell_type": "code",
   "execution_count": 50,
   "metadata": {},
   "outputs": [
    {
     "data": {
      "image/png": "[encoded data removed]",
      "text/plain": [
       "<Figure size 432x288 with 1 Axes>"
      ]
     },
     "metadata": {},
     "output_type": "display_data"
    }
   ],
   "source": [
    "#Replicate the roll of 100000 dice\n",
    "dice = rng.integers(1,7, size = 1000)\n",
    "sns.histplot(dice, kde = True)\n",
    "plt.show()"
   ]
  },
  {
   "cell_type": "markdown",
   "metadata": {},
   "source": []
  },
  {
   "cell_type": "code",
   "execution_count": null,
   "metadata": {},
   "outputs": [],
   "source": []
  },
  {
   "cell_type": "markdown",
   "metadata": {},
   "source": [
    "### Random\n",
    "\n",
    "[random.Generator.random(size=None, dtype=np.float64, out=None)](https://numpy.org/doc/stable/reference/random/generated/numpy.random.Generator.random.html#numpy.random.Generator.random)\n",
    "\n",
    "The generation of random floats with a given range and size."
   ]
  },
  {
   "cell_type": "markdown",
   "metadata": {},
   "source": [
    "Generate 10 random floats between 0-1"
   ]
  },
  {
   "cell_type": "code",
   "execution_count": 9,
   "metadata": {},
   "outputs": [
    {
     "data": {
      "text/plain": [
       "array([0.95870421, 0.73446095, 0.02359508, 0.93675003, 0.38031302,\n",
       "       0.45825757, 0.38473342, 0.42198193, 0.14052179, 0.06984042])"
      ]
     },
     "execution_count": 9,
     "metadata": {},
     "output_type": "execute_result"
    }
   ],
   "source": [
    "#Generate 10 random floats between 0-1\n",
    "rng.random(10)"
   ]
  },
  {
   "cell_type": "code",
   "execution_count": 10,
   "metadata": {},
   "outputs": [
    {
     "data": {
      "text/plain": [
       "array([[0.39865541, 0.43235563],\n",
       "       [0.48550626, 0.28309457],\n",
       "       [0.40673854, 0.65864381],\n",
       "       [0.48992243, 0.84131058],\n",
       "       [0.62687781, 0.96210682],\n",
       "       [0.77728953, 0.72982298],\n",
       "       [0.40852089, 0.97111584],\n",
       "       [0.7193617 , 0.48080342],\n",
       "       [0.90056541, 0.57612355],\n",
       "       [0.02643016, 0.39196299]])"
      ]
     },
     "execution_count": 10,
     "metadata": {},
     "output_type": "execute_result"
    }
   ],
   "source": [
    "#Generate 10 arrays of 2 random floats between 0-1\n",
    "rng.random((10,2))"
   ]
  },
  {
   "cell_type": "code",
   "execution_count": 11,
   "metadata": {},
   "outputs": [
    {
     "data": {
      "text/plain": [
       "array([[0.68821854, 0.28823039, 0.14599978, 0.04253706, 0.0455898 ,\n",
       "        0.88737028, 0.26029063, 0.66486863, 0.25648366, 0.57933915],\n",
       "       [0.82934908, 0.46140602, 0.37617738, 0.90900608, 0.56831212,\n",
       "        0.36606914, 0.72492048, 0.66147816, 0.16233538, 0.98728385]])"
      ]
     },
     "execution_count": 11,
     "metadata": {},
     "output_type": "execute_result"
    }
   ],
   "source": [
    "#Generate 2 arrays of 10 random floats between 0-1\n",
    "rng.random((2,10))"
   ]
  },
  {
   "cell_type": "code",
   "execution_count": 12,
   "metadata": {},
   "outputs": [
    {
     "data": {
      "text/plain": [
       "array([[2.64377421, 2.5460064 ],\n",
       "       [2.90964271, 2.54975762],\n",
       "       [2.06464291, 2.70826819],\n",
       "       [2.28731208, 2.27413526],\n",
       "       [2.88880876, 2.55187523]])"
      ]
     },
     "execution_count": 12,
     "metadata": {},
     "output_type": "execute_result"
    }
   ],
   "source": [
    "#Generate 5 arrays of 2 random floats between 2-3\n",
    "#+2 increases the range bounds from 0-1 to 2-3\n",
    "rng.random((5,2)) + 2"
   ]
  },
  {
   "cell_type": "code",
   "execution_count": null,
   "metadata": {},
   "outputs": [],
   "source": []
  },
  {
   "cell_type": "markdown",
   "metadata": {},
   "source": [
    "### Choice\n",
    "\n",
    "[random.Generator.choice(a, size=None, replace=True, p=None, axis=0, shuffle=True)](https://numpy.org/doc/stable/reference/random/generated/numpy.random.Generator.choice.html#numpy.random.Generator.choice)\n",
    "\n",
    "\n",
    "\n",
    "Can set probabilities of a given array\n",
    "\n"
   ]
  },
  {
   "cell_type": "code",
   "execution_count": 13,
   "metadata": {},
   "outputs": [
    {
     "data": {
      "text/plain": [
       "array([4, 4, 3, 4, 4, 1], dtype=int64)"
      ]
     },
     "execution_count": 13,
     "metadata": {},
     "output_type": "execute_result"
    }
   ],
   "source": [
    "#Generate 6 integers between 0-5\n",
    "rng.choice(6,6)"
   ]
  },
  {
   "cell_type": "code",
   "execution_count": 14,
   "metadata": {},
   "outputs": [
    {
     "data": {
      "text/plain": [
       "array([4, 1, 0, 3, 5, 2], dtype=int64)"
      ]
     },
     "execution_count": 14,
     "metadata": {},
     "output_type": "execute_result"
    }
   ],
   "source": [
    "#\"replace=False\" means no duplicates are allowed\n",
    "rng.choice(6,6, replace=False)"
   ]
  },
  {
   "cell_type": "markdown",
   "metadata": {},
   "source": [
    "The probablities of each element being generated can be altered"
   ]
  },
  {
   "cell_type": "code",
   "execution_count": 15,
   "metadata": {},
   "outputs": [
    {
     "data": {
      "text/plain": [
       "array([2, 4, 1, 2, 1, 4, 1, 1, 4, 2, 2, 1, 1, 5, 1, 4, 4, 4, 2, 1, 2, 2,\n",
       "       4, 1, 1], dtype=int64)"
      ]
     },
     "execution_count": 15,
     "metadata": {},
     "output_type": "execute_result"
    }
   ],
   "source": [
    "#The chances of each element appearing can be changed with p=[]\n",
    "#This generates 25 integers between 0-5 \n",
    "#with 0-50% chance of certain numbers appearing\n",
    "rng.choice(6,25, p= [0, 0.5, 0.2, 0, 0.2, 0.1])"
   ]
  },
  {
   "cell_type": "markdown",
   "metadata": {},
   "source": [
    "The altered probablities can be seen in the following 2 plots, the first displaying a uniform distrubution and the second shows the affect of adjusted probabilities."
   ]
  },
  {
   "cell_type": "code",
   "execution_count": 16,
   "metadata": {},
   "outputs": [
    {
     "data": {
      "image/png": "[encoded data removed]",
      "text/plain": [
       "<Figure size 432x288 with 1 Axes>"
      ]
     },
     "metadata": {
      "needs_background": "light"
     },
     "output_type": "display_data"
    }
   ],
   "source": [
    "#Generate 100000 numbers from 0-9\n",
    "arr = rng.choice((10),100000)\n",
    "#Plot the Histogram\n",
    "plt.hist(arr)\n",
    "plt.show()"
   ]
  },
  {
   "cell_type": "code",
   "execution_count": 17,
   "metadata": {},
   "outputs": [
    {
     "data": {
      "image/png": "[encoded data removed]",
      "text/plain": [
       "<Figure size 432x288 with 1 Axes>"
      ]
     },
     "metadata": {
      "needs_background": "light"
     },
     "output_type": "display_data"
    }
   ],
   "source": [
    "#Generates 100,000 integers between 0-9 with probabilties between 0-40%\n",
    "arr = rng.choice(10,100000, p= [0.05, 0.4, 0.1, 0, 0.01, 0.1, 0.04, 0.2, 0.08, 0.02])\n",
    "#Plot the Histogram\n",
    "plt.hist(arr)\n",
    "plt.show()"
   ]
  },
  {
   "cell_type": "markdown",
   "metadata": {},
   "source": [
    "Choice can be used on arrays of strings."
   ]
  },
  {
   "cell_type": "code",
   "execution_count": 18,
   "metadata": {},
   "outputs": [
    {
     "data": {
      "image/png": "[encoded data removed]",
      "text/plain": [
       "<Figure size 432x288 with 1 Axes>"
      ]
     },
     "metadata": {
      "needs_background": "light"
     },
     "output_type": "display_data"
    }
   ],
   "source": [
    "#Create an array of colours\n",
    "colour = [\"red\", \"orange\", \"yellow\", \"green\", \"blue\", \"indigo\", \"violet\"]\n",
    "#Alter the probabilites of the colours appearing\n",
    "rainbow = rng.choice(colour,10000, p= [0.1, 0.3, 0.2, 0, 0.2, 0.1, 0.1])\n",
    "#Plot the Histogram\n",
    "plt.hist(rainbow)\n",
    "plt.show()"
   ]
  },
  {
   "cell_type": "markdown",
   "metadata": {},
   "source": [
    "### Bytes\n",
    "\n",
    "[random.Generator.bytes(length)](https://numpy.org/doc/stable/reference/random/generated/numpy.random.Generator.bytes.html#numpy.random.Generator.bytes)\n",
    "\n",
    "Return Random bytes\n",
    "\n"
   ]
  },
  {
   "cell_type": "code",
   "execution_count": 19,
   "metadata": {},
   "outputs": [
    {
     "data": {
      "text/plain": [
       "b'\\x05\\xc3\\x82\\x84X'"
      ]
     },
     "execution_count": 19,
     "metadata": {},
     "output_type": "execute_result"
    }
   ],
   "source": [
    "rng.bytes(5)"
   ]
  },
  {
   "cell_type": "code",
   "execution_count": 20,
   "metadata": {},
   "outputs": [
    {
     "data": {
      "text/plain": [
       "b'\\xf2\\nj(\\xda\\\\\\x17\\x91\\x08\\n\\x0bP~0\\xcb\\xf1\\xa3Pr\\xe00?\\x16m\\xc4Z\\x02)\\xa7\\xb5#\\x94\\xc2\\xb3\\xc0\\x81\\x14\\x0b\\xbah3\\x1d\\x1bH\\x92\\xd296a\\xc3'"
      ]
     },
     "execution_count": 20,
     "metadata": {},
     "output_type": "execute_result"
    }
   ],
   "source": [
    "rng.bytes(50)"
   ]
  },
  {
   "cell_type": "markdown",
   "metadata": {},
   "source": [
    "## Permutations\n",
    "\n",
    ">\"In mathematics, a permutation of a set is, loosely speaking, an arrangement of its members into a sequence or linear order, or if the set is already ordered, a rearrangement of its elements. The word \"permutation\" also refers to the act or process of changing the linear order of an ordered set\" [6].\n",
    "        \n",
    "Numpy.random allows for the modification of the sequence of arrays using the following functions:\n",
    "\n",
    "* Shuffle\n",
    "* Permutation\n",
    "* Permuted\n"
   ]
  },
  {
   "cell_type": "markdown",
   "metadata": {},
   "source": [
    "### Shuffle\n",
    "\n",
    "[random.Generator.shuffle(x, axis=0)](https://numpy.org/doc/stable/reference/random/generated/numpy.random.Generator.shuffle.html#numpy.random.Generator.shuffle)\n",
    "\n",
    "Modify an array or sequence in-place by shuffling its contents.\n",
    "\n",
    "The order of sub-arrays is changed but their contents remains the same."
   ]
  },
  {
   "cell_type": "code",
   "execution_count": 21,
   "metadata": {},
   "outputs": [
    {
     "name": "stdout",
     "output_type": "stream",
     "text": [
      "[7 8 7 5 2 7 0 9 1 5]\n",
      "[7 9 5 8 2 7 5 1 7 0]\n"
     ]
    }
   ],
   "source": [
    "#Generate 10 integers between 0-9\n",
    "arr = rng.integers(10, size=10)\n",
    "print(arr)\n",
    "\n",
    "#Shuffle and display form previous array\n",
    "rng.shuffle(arr)\n",
    "print(arr)"
   ]
  },
  {
   "cell_type": "markdown",
   "metadata": {},
   "source": [
    "Shuffle can work between multidimensional arrays, with reshape"
   ]
  },
  {
   "cell_type": "code",
   "execution_count": 22,
   "metadata": {},
   "outputs": [
    {
     "data": {
      "text/plain": [
       "array([[16, 17, 18, 19],\n",
       "       [ 8,  9, 10, 11],\n",
       "       [ 4,  5,  6,  7],\n",
       "       [ 0,  1,  2,  3],\n",
       "       [12, 13, 14, 15]])"
      ]
     },
     "execution_count": 22,
     "metadata": {},
     "output_type": "execute_result"
    }
   ],
   "source": [
    "#Generate 5 arrays of 4 ascending numbers \n",
    "arr = np.arange(20).reshape((5,4))\n",
    "\n",
    "#Shuffle and order of the arrays\n",
    "rng.shuffle(arr)\n",
    "arr"
   ]
  },
  {
   "cell_type": "markdown",
   "metadata": {},
   "source": [
    "Adding axis=1 shuffles the content within the first array"
   ]
  },
  {
   "cell_type": "code",
   "execution_count": 23,
   "metadata": {},
   "outputs": [
    {
     "data": {
      "text/plain": [
       "array([[ 0,  1,  3,  2],\n",
       "       [ 4,  5,  7,  6],\n",
       "       [ 8,  9, 11, 10],\n",
       "       [12, 13, 15, 14],\n",
       "       [16, 17, 19, 18]])"
      ]
     },
     "execution_count": 23,
     "metadata": {},
     "output_type": "execute_result"
    }
   ],
   "source": [
    "#Generate 5 arrays of 4 ascending numbers \n",
    "arr = np.arange(20).reshape((5,4))\n",
    "\n",
    "#Shuffle the contents of the first array\n",
    "rng.shuffle(arr, axis=1)\n",
    "arr"
   ]
  },
  {
   "cell_type": "markdown",
   "metadata": {},
   "source": [
    "Shuffle can also work on strings and more complex arrays. Below code simulates creating a deck of 52 cards and shuffling the order."
   ]
  },
  {
   "cell_type": "code",
   "execution_count": 24,
   "metadata": {},
   "outputs": [
    {
     "data": {
      "text/plain": [
       "[('A', '♣'),\n",
       " ('2', '♣'),\n",
       " ('3', '♣'),\n",
       " ('4', '♣'),\n",
       " ('5', '♣'),\n",
       " ('6', '♣'),\n",
       " ('7', '♣'),\n",
       " ('8', '♣'),\n",
       " ('9', '♣'),\n",
       " ('10', '♣'),\n",
       " ('J', '♣'),\n",
       " ('Q', '♣'),\n",
       " ('K', '♣'),\n",
       " ('A', '♥'),\n",
       " ('2', '♥'),\n",
       " ('3', '♥'),\n",
       " ('4', '♥'),\n",
       " ('5', '♥'),\n",
       " ('6', '♥'),\n",
       " ('7', '♥'),\n",
       " ('8', '♥'),\n",
       " ('9', '♥'),\n",
       " ('10', '♥'),\n",
       " ('J', '♥'),\n",
       " ('Q', '♥'),\n",
       " ('K', '♥'),\n",
       " ('A', '♠'),\n",
       " ('2', '♠'),\n",
       " ('3', '♠'),\n",
       " ('4', '♠'),\n",
       " ('5', '♠'),\n",
       " ('6', '♠'),\n",
       " ('7', '♠'),\n",
       " ('8', '♠'),\n",
       " ('9', '♠'),\n",
       " ('10', '♠'),\n",
       " ('J', '♠'),\n",
       " ('Q', '♠'),\n",
       " ('K', '♠'),\n",
       " ('A', '♦'),\n",
       " ('2', '♦'),\n",
       " ('3', '♦'),\n",
       " ('4', '♦'),\n",
       " ('5', '♦'),\n",
       " ('6', '♦'),\n",
       " ('7', '♦'),\n",
       " ('8', '♦'),\n",
       " ('9', '♦'),\n",
       " ('10', '♦'),\n",
       " ('J', '♦'),\n",
       " ('Q', '♦'),\n",
       " ('K', '♦')]"
      ]
     },
     "execution_count": 24,
     "metadata": {},
     "output_type": "execute_result"
    }
   ],
   "source": [
    "#Create the 2 arrays for a deck of cards\n",
    "#Unicode for the Suit symbols\n",
    "suits = [\"\\u2663\", \"\\u2665\", \"\\u2660\", \"\\u2666\"]\n",
    "faces = [ \"A\", \"2\", \"3\", \"4\", \"5\", \"6\", \"7\", \"8\", \"9\", \"10\", \"J\", \"Q\", \"K\"]\n",
    "\n",
    "#Generate a deck of cards by looping through the arrays above\n",
    "deck = []\n",
    "for suit in suits:\n",
    "    for face in faces:\n",
    "        deck.append((face, suit))\n",
    "        \n",
    "#Display the deck     \n",
    "deck"
   ]
  },
  {
   "cell_type": "code",
   "execution_count": 25,
   "metadata": {},
   "outputs": [
    {
     "data": {
      "text/plain": [
       "[('6', '♠'),\n",
       " ('10', '♦'),\n",
       " ('J', '♦'),\n",
       " ('4', '♥'),\n",
       " ('K', '♥'),\n",
       " ('K', '♠'),\n",
       " ('Q', '♠'),\n",
       " ('10', '♣'),\n",
       " ('7', '♦'),\n",
       " ('A', '♥'),\n",
       " ('A', '♠'),\n",
       " ('Q', '♦'),\n",
       " ('4', '♠'),\n",
       " ('7', '♣'),\n",
       " ('K', '♦'),\n",
       " ('10', '♠'),\n",
       " ('Q', '♥'),\n",
       " ('3', '♦'),\n",
       " ('8', '♥'),\n",
       " ('8', '♦'),\n",
       " ('5', '♠'),\n",
       " ('4', '♣'),\n",
       " ('9', '♣'),\n",
       " ('6', '♣'),\n",
       " ('A', '♦'),\n",
       " ('9', '♥'),\n",
       " ('7', '♥'),\n",
       " ('5', '♣'),\n",
       " ('5', '♥'),\n",
       " ('2', '♠'),\n",
       " ('10', '♥'),\n",
       " ('8', '♠'),\n",
       " ('2', '♣'),\n",
       " ('5', '♦'),\n",
       " ('J', '♠'),\n",
       " ('8', '♣'),\n",
       " ('9', '♠'),\n",
       " ('9', '♦'),\n",
       " ('6', '♦'),\n",
       " ('2', '♥'),\n",
       " ('Q', '♣'),\n",
       " ('6', '♥'),\n",
       " ('J', '♣'),\n",
       " ('3', '♥'),\n",
       " ('3', '♣'),\n",
       " ('J', '♥'),\n",
       " ('3', '♠'),\n",
       " ('A', '♣'),\n",
       " ('4', '♦'),\n",
       " ('K', '♣'),\n",
       " ('7', '♠'),\n",
       " ('2', '♦')]"
      ]
     },
     "execution_count": 25,
     "metadata": {},
     "output_type": "execute_result"
    }
   ],
   "source": [
    "#Use Shuffle to reorganise the deck array\n",
    "rng.shuffle(deck)\n",
    "deck"
   ]
  },
  {
   "cell_type": "markdown",
   "metadata": {},
   "source": [
    "After the deck has been shuffled you can extract defined cards from the list to replicate dealing a hand."
   ]
  },
  {
   "cell_type": "code",
   "execution_count": 26,
   "metadata": {},
   "outputs": [
    {
     "name": "stdout",
     "output_type": "stream",
     "text": [
      "Player 1: ('6', '♠') ('J', '♦') ('K', '♥') ('Q', '♠') ('7', '♦') ('A', '♠')\n",
      "Player 2: ('10', '♦') ('4', '♥') ('K', '♠') ('10', '♣') ('A', '♥') ('Q', '♦')\n"
     ]
    }
   ],
   "source": [
    "#Index every other card starting at 0 and 1 for 12 cards\n",
    "hand1 = deck[0:12:2]\n",
    "hand2 = deck[1:12:2]\n",
    "\n",
    "#Display player hand\n",
    "print(\"Player 1:\", *hand1)\n",
    "print(\"Player 2:\", *hand2)"
   ]
  },
  {
   "cell_type": "code",
   "execution_count": null,
   "metadata": {},
   "outputs": [],
   "source": []
  },
  {
   "cell_type": "markdown",
   "metadata": {},
   "source": [
    "### Permutation\n",
    "\n",
    "[random.Generator.permutation(x, axis=0)](https://numpy.org/doc/stable/reference/random/generated/numpy.random.Generator.permutation.html#numpy.random.Generator.permutation)\n",
    "\n",
    "Randomly permute a sequence, or return a permuted range."
   ]
  },
  {
   "cell_type": "markdown",
   "metadata": {},
   "source": [
    "The permutation() method returns a re-arranged array (and leaves the original array un-changed),this method will keep the original array intact and will return a shuffled array.\n",
    "\n",
    "The shuffle() method makes changes to the original array, and you are only left with the shuffled array.[7]\n",
    "\n",
    "The code below shows the original array changing using the shuffle function"
   ]
  },
  {
   "cell_type": "code",
   "execution_count": 27,
   "metadata": {},
   "outputs": [
    {
     "name": "stdout",
     "output_type": "stream",
     "text": [
      "[6 1 2 8 3 9 1 9 9 7]\n",
      "[7 1 9 2 1 9 9 3 8 6]\n"
     ]
    }
   ],
   "source": [
    "#Generate an array of 10 integers\n",
    "arr = rng.integers(10, size=10)\n",
    "print(arr)\n",
    "\n",
    "#Shuffle and show the new array\n",
    "rng.shuffle(arr)\n",
    "print(arr)"
   ]
  },
  {
   "cell_type": "markdown",
   "metadata": {},
   "source": [
    "This code shows the original array is not changed when using permutation"
   ]
  },
  {
   "cell_type": "code",
   "execution_count": 28,
   "metadata": {},
   "outputs": [
    {
     "name": "stdout",
     "output_type": "stream",
     "text": [
      "[8 2 6 2 1 4 2 7 3 1]\n",
      "[4 1 2 2 6 3 8 1 7 2]\n",
      "[8 2 6 2 1 4 2 7 3 1]\n"
     ]
    }
   ],
   "source": [
    "#Generate an array of 10 integers\n",
    "arr = rng.integers(10, size=10)\n",
    "print(arr)\n",
    "\n",
    "#Shuffle and show the original array has been retained\n",
    "print(rng.permutation(arr))\n",
    "print(arr)"
   ]
  },
  {
   "cell_type": "code",
   "execution_count": 29,
   "metadata": {},
   "outputs": [
    {
     "name": "stdout",
     "output_type": "stream",
     "text": [
      "[[ 0  1  2  3]\n",
      " [ 4  5  6  7]\n",
      " [12 13 14 15]\n",
      " [ 8  9 10 11]\n",
      " [16 17 18 19]]\n",
      "-----------------\n",
      "[[ 0  1  2  3]\n",
      " [ 4  5  6  7]\n",
      " [ 8  9 10 11]\n",
      " [12 13 14 15]\n",
      " [16 17 18 19]]\n"
     ]
    }
   ],
   "source": [
    "#Generate 5 arrays of 4 ascending numbers \n",
    "arr = np.arange(20).reshape((5,4))\n",
    "\n",
    "#Shuffle the order of the arrays\n",
    "print(rng.permutation(arr))\n",
    "print(\"-----------------\")\n",
    "print(arr)"
   ]
  },
  {
   "cell_type": "code",
   "execution_count": 30,
   "metadata": {},
   "outputs": [
    {
     "name": "stdout",
     "output_type": "stream",
     "text": [
      "[[ 0  2  3  1]\n",
      " [ 4  6  7  5]\n",
      " [ 8 10 11  9]\n",
      " [12 14 15 13]\n",
      " [16 18 19 17]]\n",
      "-----------------\n",
      "[[ 0  1  2  3]\n",
      " [ 4  5  6  7]\n",
      " [ 8  9 10 11]\n",
      " [12 13 14 15]\n",
      " [16 17 18 19]]\n"
     ]
    }
   ],
   "source": [
    "#Generate 5 arrays of 4 ascending numbers \n",
    "arr = np.arange(20).reshape((5,4))\n",
    "\n",
    "#Shuffle the order of the first array\n",
    "print(rng.permutation(arr, axis=1))\n",
    "print(\"-----------------\")\n",
    "print(arr)"
   ]
  },
  {
   "cell_type": "markdown",
   "metadata": {},
   "source": [
    "### Permuted\n",
    "\n",
    "[random.Generator.permuted(x, axis=None, out=None)](https://numpy.org/doc/stable/reference/random/generated/numpy.random.Generator.permuted.html)\n",
    "\n",
    "Like permutation where the output can be stored as a variable and overwrite the original\n"
   ]
  },
  {
   "cell_type": "markdown",
   "metadata": {},
   "source": [
    "* The code below permuted works in the same way as permutation above. The original array is left unchanged"
   ]
  },
  {
   "cell_type": "code",
   "execution_count": 31,
   "metadata": {},
   "outputs": [
    {
     "name": "stdout",
     "output_type": "stream",
     "text": [
      "[[ 1  3  0  2]\n",
      " [ 5  6  7  4]\n",
      " [ 9  8 10 11]\n",
      " [12 13 15 14]\n",
      " [16 18 19 17]]\n",
      "-----------------\n",
      "[[ 0  1  2  3]\n",
      " [ 4  5  6  7]\n",
      " [ 8  9 10 11]\n",
      " [12 13 14 15]\n",
      " [16 17 18 19]]\n"
     ]
    }
   ],
   "source": [
    "#Generate 5 arrays of 4 ascending numbers \n",
    "arr = np.arange(20).reshape((5,4))\n",
    "\n",
    "#Shuffle the order of the first array\n",
    "arr2 = rng.permuted(arr,axis=1)\n",
    "\n",
    "print(arr2)\n",
    "print(\"-----------------\")\n",
    "print(arr)"
   ]
  },
  {
   "cell_type": "markdown",
   "metadata": {},
   "source": [
    "The code here uses the out parameter to update the output and replaces the original array"
   ]
  },
  {
   "cell_type": "code",
   "execution_count": 32,
   "metadata": {},
   "outputs": [
    {
     "name": "stdout",
     "output_type": "stream",
     "text": [
      "[[ 1  0  2  3]\n",
      " [ 5  7  4  6]\n",
      " [10  8 11  9]\n",
      " [14 12 15 13]\n",
      " [18 16 17 19]]\n",
      "-----------------\n",
      "[[ 1  0  2  3]\n",
      " [ 5  7  4  6]\n",
      " [10  8 11  9]\n",
      " [14 12 15 13]\n",
      " [18 16 17 19]]\n"
     ]
    }
   ],
   "source": [
    "#Generate 5 arrays of 4 ascending numbers \n",
    "arr = np.arange(20).reshape((5,4))\n",
    "\n",
    "#Shuffle the order of the first array\n",
    "arr2 = rng.permuted(arr,axis=1, out=arr)\n",
    "\n",
    "print(arr2)\n",
    "print(\"-----------------\")\n",
    "print(arr)"
   ]
  },
  {
   "cell_type": "markdown",
   "metadata": {},
   "source": [
    "* Verification that the arrays are the same"
   ]
  },
  {
   "cell_type": "code",
   "execution_count": 33,
   "metadata": {},
   "outputs": [
    {
     "data": {
      "text/plain": [
       "True"
      ]
     },
     "execution_count": 33,
     "metadata": {},
     "output_type": "execute_result"
    }
   ],
   "source": [
    "arr is arr2"
   ]
  },
  {
   "cell_type": "markdown",
   "metadata": {},
   "source": [
    "## Distributions\n",
    "\n",
    "The distribution of a statistical data set (or a population) is a function showing all the possible values of the data and how often they occur. Data distributions are widely used in statistics, to organise the data into an easily visualised way. There are many different defined types of distribution and are classified based on the type of data, discrete vs continuous. \n",
    "\n",
    "Discrete data is information that can only take certain values, one which may take on only a countable number of distinct values and thus can be quantified. For example, when you roll a die, the possible outcomes can only be 1, 2, 3, 4, 5 or 6\n",
    "\n",
    "Continuous data is data that takes an infinite number of possible values. Height, weight, temperature and length are all examples of continuous data.\n",
    "\n",
    "The following will review 5 different distributions built into NumPy:\n",
    "\n",
    "1. Uniform\n",
    "2. Normal\n",
    "3. Binomial\n",
    "4. Exponential\n",
    "5. Poisson\n",
    "\n"
   ]
  },
  {
   "cell_type": "markdown",
   "metadata": {},
   "source": [
    "### Uniform\n",
    "\n",
    "[random.uniform(low=0.0, high=1.0, size=None)](https://numpy.org/doc/stable/reference/random/generated/numpy.random.uniform.html)\n",
    "\n",
    "In probability theory and statistics, the discrete uniform distribution is a symmetric probability distribution wherein a finite number of values are equally likely to be observed. [8]\n",
    "\n",
    "A simple example of the discrete uniform distribution is throwing a fair dice. The possible values are 1, 2, 3, 4, 5, 6, and each time the die is thrown the probability of a given score is 1/6. If two dice are thrown and their values added, the resulting distribution is no longer uniform because not all sums have equal probability (and is discussed below)."
   ]
  },
  {
   "cell_type": "markdown",
   "metadata": {},
   "source": [
    "Below is an example of discrete uniform distribution as discussed above "
   ]
  },
  {
   "cell_type": "code",
   "execution_count": 34,
   "metadata": {},
   "outputs": [
    {
     "data": {
      "image/png": "[encoded data removed]",
      "text/plain": [
       "<Figure size 432x288 with 1 Axes>"
      ]
     },
     "metadata": {
      "needs_background": "light"
     },
     "output_type": "display_data"
    }
   ],
   "source": [
    "data = rng.integers(1,7, size=1000)\n",
    "plt.hist(data)\n",
    "plt.show()"
   ]
  },
  {
   "cell_type": "markdown",
   "metadata": {},
   "source": [
    "Using the Uniform distrubtion built into NumPy is an example of continuous uniform distribution."
   ]
  },
  {
   "cell_type": "code",
   "execution_count": 35,
   "metadata": {},
   "outputs": [
    {
     "data": {
      "text/plain": [
       "array([3.99422991, 1.88377509, 6.65684796, ..., 2.19006352, 3.41173962,\n",
       "       3.34400427])"
      ]
     },
     "execution_count": 35,
     "metadata": {},
     "output_type": "execute_result"
    }
   ],
   "source": [
    "data = rng.uniform(1,7, size = 10000)\n",
    "data"
   ]
  },
  {
   "cell_type": "code",
   "execution_count": 36,
   "metadata": {},
   "outputs": [
    {
     "data": {
      "image/png": "[encoded data removed]",
      "text/plain": [
       "<Figure size 432x288 with 1 Axes>"
      ]
     },
     "metadata": {
      "needs_background": "light"
     },
     "output_type": "display_data"
    }
   ],
   "source": [
    "plt.hist(data)\n",
    "plt.show()"
   ]
  },
  {
   "cell_type": "code",
   "execution_count": 37,
   "metadata": {},
   "outputs": [],
   "source": [
    "data = rng.uniform(-1,0,1000)"
   ]
  },
  {
   "cell_type": "code",
   "execution_count": 38,
   "metadata": {},
   "outputs": [
    {
     "data": {
      "image/png": "[encoded data removed]",
      "text/plain": [
       "<Figure size 432x288 with 1 Axes>"
      ]
     },
     "metadata": {
      "needs_background": "light"
     },
     "output_type": "display_data"
    }
   ],
   "source": [
    "plt.hist(data, bins=15)\n",
    "plt.show()"
   ]
  },
  {
   "cell_type": "code",
   "execution_count": 43,
   "metadata": {},
   "outputs": [
    {
     "data": {
      "image/png": "[encoded data removed]",
      "text/plain": [
       "<Figure size 432x288 with 1 Axes>"
      ]
     },
     "metadata": {},
     "output_type": "display_data"
    }
   ],
   "source": [
    "data = rng.uniform(-1,0,100000)\n",
    "sns.histplot(data, kde = True)\n",
    "plt.show()"
   ]
  },
  {
   "cell_type": "code",
   "execution_count": null,
   "metadata": {},
   "outputs": [],
   "source": []
  },
  {
   "cell_type": "code",
   "execution_count": null,
   "metadata": {},
   "outputs": [],
   "source": []
  },
  {
   "cell_type": "code",
   "execution_count": null,
   "metadata": {},
   "outputs": [],
   "source": []
  },
  {
   "cell_type": "markdown",
   "metadata": {},
   "source": [
    "### Normal\n",
    "\n",
    "[random.normal(loc=0.0, scale=1.0, size=None)](https://numpy.org/doc/stable/reference/random/generated/numpy.random.normal.html)\n",
    "\n",
    "Normal distribution is also known as Gaussian distribution. It is a symmetrical bell shape curve with higher frequency (probability density) around the central value. The frequency sharply decreasing as values are away from the central value on either side.\n",
    "\n",
    "The case where μ(mu) = 0 and σ(sigma) = 1 is called the standard normal distribution."
   ]
  },
  {
   "cell_type": "code",
   "execution_count": 40,
   "metadata": {},
   "outputs": [
    {
     "data": {
      "image/png": "[encoded data removed]",
      "text/plain": [
       "<Figure size 432x288 with 1 Axes>"
      ]
     },
     "metadata": {},
     "output_type": "display_data"
    }
   ],
   "source": [
    "height = np.random.normal(64.5, 2.5, 1000)\n",
    "\n",
    "sns.set_theme(); \n",
    "ax = sns.histplot(height, kde = True)\n"
   ]
  },
  {
   "cell_type": "code",
   "execution_count": null,
   "metadata": {},
   "outputs": [],
   "source": []
  },
  {
   "cell_type": "code",
   "execution_count": null,
   "metadata": {},
   "outputs": [],
   "source": []
  },
  {
   "cell_type": "code",
   "execution_count": 41,
   "metadata": {},
   "outputs": [
    {
     "data": {
      "image/png": "[encoded data removed]",
      "text/plain": [
       "<Figure size 432x288 with 1 Axes>"
      ]
     },
     "metadata": {},
     "output_type": "display_data"
    }
   ],
   "source": [
    "mu, sigma = 0, 0.1 # mean and standard deviation\n",
    "s = np.random.normal(mu, sigma, 1000)\n",
    "ax = sns.histplot(s, kde = True)\n"
   ]
  },
  {
   "cell_type": "code",
   "execution_count": null,
   "metadata": {},
   "outputs": [],
   "source": []
  },
  {
   "cell_type": "markdown",
   "metadata": {},
   "source": [
    "### Binomial\n"
   ]
  },
  {
   "cell_type": "markdown",
   "metadata": {},
   "source": [
    "### Exponential"
   ]
  },
  {
   "cell_type": "markdown",
   "metadata": {},
   "source": [
    "### Poisson"
   ]
  },
  {
   "cell_type": "markdown",
   "metadata": {},
   "source": [
    "## Seeds"
   ]
  },
  {
   "cell_type": "markdown",
   "metadata": {},
   "source": [
    "## References\n",
    "\n",
    "[2]. https://numpy.org/doc/stable/user/absolute_beginners.html\n",
    "\n",
    "[1] https://www.mygreatlearning.com/blog/python-numpy-tutorial/\n",
    "\n",
    "https://numpy.org/doc/stable/user/whatisnumpy.html\n",
    "\n",
    "https://numpy.org/doc/stable/reference/random/generator.html\n",
    "\n",
    "https://machinelearningmastery.com/statistical-data-distributions/\n",
    "\n",
    "https://numpy.org/doc/stable/reference/random/generated/numpy.random.Generator.integers.html\n",
    "\n",
    "https://numpy.org/doc/stable/reference/random/generated/numpy.random.Generator.random.html\n",
    "\n",
    "https://numpy.org/doc/stable/reference/random/generated/numpy.random.Generator.choice.html\n",
    "\n",
    "https://numpy.org/doc/stable/reference/random/generated/numpy.random.Generator.bytes.html\n",
    "\n",
    "https://numpy.org/doc/stable/reference/random/generated/numpy.random.Generator.shuffle.html\n",
    "\n",
    "https://numpy.org/doc/stable/reference/random/generated/numpy.random.Generator.permutation.html\n",
    "\n",
    "https://numpy.org/doc/stable/reference/random/generated/numpy.random.Generator.permuted.html\n",
    "\n",
    "https://www.datacamp.com/community/tutorials/probability-distributions-python\n",
    "\n",
    "https://www.analyticsvidhya.com/blog/2017/09/6-probability-distributions-data-science/\n",
    "\n",
    "https://numpy.org/doc/stable/reference/random/generated/numpy.random.Generator.uniform.html\n",
    "\n",
    "[8] https://en.wikipedia.org/wiki/Discrete_uniform_distribution\n",
    "\n",
    "[5] https://numpy.org/doc/stable/reference/random/index.html\n",
    "\n",
    "[6] https://en.wikipedia.org/wiki/Permutation\n",
    "\n",
    "[7] https://newbedev.com/shuffle-vs-permute-numpy\n",
    "\n",
    "https://numpy.org/doc/stable/reference/random/generated/numpy.random.uniform.html\n",
    "\n",
    "https://numpy.org/doc/stable/reference/random/generated/numpy.random.normal.html"
   ]
  },
  {
   "cell_type": "code",
   "execution_count": null,
   "metadata": {},
   "outputs": [],
   "source": []
  }
 ],
 "metadata": {
  "kernelspec": {
   "display_name": "Python 3",
   "language": "python",
   "name": "python3"
  },
  "language_info": {
   "codemirror_mode": {
    "name": "ipython",
    "version": 3
   },
   "file_extension": ".py",
   "mimetype": "text/x-python",
   "name": "python",
   "nbconvert_exporter": "python",
   "pygments_lexer": "ipython3",
   "version": "3.8.5"
  }
 },
 "nbformat": 4,
 "nbformat_minor": 4
}
