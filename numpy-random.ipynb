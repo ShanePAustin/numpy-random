{
 "cells": [
  {
   "cell_type": "markdown",
   "metadata": {},
   "source": [
    "# The numpy.random package"
   ]
  },
  {
   "cell_type": "markdown",
   "metadata": {},
   "source": [
    "## Overview of the numpy-random package"
   ]
  },
  {
   "cell_type": "markdown",
   "metadata": {},
   "source": [
    "## This Document\n",
    "\n",
    "This notebook is an investigation into random number genration and the functionality of the numpy.random python package, the project brief is outlined below:\n",
    "\n",
    "The following assignment concerns the numpy.random package in Python. You are required to create a Jupyter notebook explaining the use of the package, including detailed explanations of at least five of the distributions provided for in the package.\n",
    "    There are four distinct tasks to be carried out in your Jupyter notebook.\n",
    "    \n",
    "      1. Explain the overall purpose of the package.\n",
    "      2. Explain the use of the “Simple random data” and “Permutations” functions.\n",
    "      3. Explain the use and purpose of at least five “Distributions” functions.\n",
    "      4. Explain the use of seeds in generating pseudorandom numbers.\n",
    "\n",
    "## NumPy\n",
    "\n",
    "NumPy short for Numerical Python is an open source Python Library, consisting of multidimensional array objects and a collection of routines for processing the arrays [1]. It has become the standard for working with numerical data in Python and is used in most fields of science and engineering. The NumPy API is used extensively in other Python libraries such as Pandas, SciPy, Matplotlib, scikit-learn and many other data science packages [2].\n",
    "\n",
    "The NumPy package allows convenient and efficient manipulation of data, especially with the processing of large datasets as NumPy arrays work much faster than the standard Python list structure. The package also includes optimized functions for improved efficiency dealing with complex algebraic operations, this makes programs easier to code, fater to run and more efficient in terms of memory usage. \n",
    "\n",
    "## NumPy.random\n",
    "\n",
    "Random number generation (RNG) is an important aspect of many areas or computing, including crytopgraphy, machine learning, computer simulations and many other applications. RNG is also particularly useful in computer simulations used for tetsing and debugging programs, an example could be the tesitng of sorting algorithms using a series of randomly generated integers.    \n",
    "\n",
    "numpy.random is a sub package of NumPy used fo generating random numbers and utilising statistical probability distrubutions for the replication of \"real-life\" data.\n",
    "\n",
    "    Numpy’s random number routines produce pseudo random numbers using combinations of a BitGenerator to create sequences and a Generator to use those sequences to sample from different statistical distributions:\n",
    "\n",
    "    * BitGenerators: Objects that generate random numbers. These are typically unsigned integer words filled with sequences of either 32 or 64 random bits.\n",
    "\n",
    "    * Generators: Objects that transform sequences of random bits from a BitGenerator into sequences of numbers that follow a specific probability distribution (such as uniform, Normal or Binomial) within a specified interval [5].  \n",
    "\n",
    "-----\n",
    "\n"
   ]
  },
  {
   "cell_type": "markdown",
   "metadata": {},
   "source": [
    "## Modules\n",
    "\n",
    "The libraries below were imported for use within this notebook:"
   ]
  },
  {
   "cell_type": "code",
   "execution_count": 105,
   "metadata": {},
   "outputs": [],
   "source": [
    "#Import Libraries\n",
    "\n",
    "#Import NumPy\n",
    "import numpy as np\n",
    "\n",
    "#Import Matplotlib\n",
    "import matplotlib.pyplot as plt\n",
    "\n",
    "import seaborn as sns\n",
    "\n",
    "import pandas as pd"
   ]
  },
  {
   "cell_type": "code",
   "execution_count": 2,
   "metadata": {},
   "outputs": [
    {
     "name": "stdout",
     "output_type": "stream",
     "text": [
      "0.4847500734254523\n"
     ]
    }
   ],
   "source": [
    "#creating a variable for Random Number Generation\n",
    "rng = np.random.default_rng()\n",
    "\n",
    "#test the variable\n",
    "print(rng.random())"
   ]
  },
  {
   "cell_type": "markdown",
   "metadata": {},
   "source": [
    "--------\n",
    "## Simple Random Data\n",
    "\n",
    "This section will review the basic functions of RNG within NumPy, the current documentation refers to 4 data types:\n",
    "\n",
    "* Integer\n",
    "* Random\n",
    "* Choice\n",
    "* Bytes"
   ]
  },
  {
   "cell_type": "markdown",
   "metadata": {},
   "source": [
    "### Integers\n",
    "\n",
    "[random.Generator.integers(low, high=None, size=None, dtype=np.int64, endpoint=False)](https://numpy.org/doc/stable/reference/random/generated/numpy.random.Generator.integers.html#numpy.random.Generator.integers)\n",
    "\n",
    "The generation of random integers with a given range and size."
   ]
  },
  {
   "cell_type": "markdown",
   "metadata": {},
   "source": [
    "* The example below generates a random integer between 0-9 (of range 10)"
   ]
  },
  {
   "cell_type": "code",
   "execution_count": 3,
   "metadata": {},
   "outputs": [
    {
     "data": {
      "text/plain": [
       "5"
      ]
     },
     "execution_count": 3,
     "metadata": {},
     "output_type": "execute_result"
    }
   ],
   "source": [
    "#Generate an integer between 0-9\n",
    "rng.integers(10)"
   ]
  },
  {
   "cell_type": "markdown",
   "metadata": {},
   "source": [
    "* The example below is simulating the roll of 10, 6 sided dice, defining the low end and high end of the range as well as the size to the sample."
   ]
  },
  {
   "cell_type": "code",
   "execution_count": 4,
   "metadata": {},
   "outputs": [
    {
     "data": {
      "text/plain": [
       "array([4, 3, 4, 6, 2, 2, 5, 1, 1, 1], dtype=int64)"
      ]
     },
     "execution_count": 4,
     "metadata": {},
     "output_type": "execute_result"
    }
   ],
   "source": [
    "#Roll 10 dice\n",
    "#Generate 10 ranmdom integers between 1-6\n",
    "rng.integers(1,7, size=10)"
   ]
  },
  {
   "cell_type": "markdown",
   "metadata": {},
   "source": [
    "* Generate 4 x 4 array of integers between 1 and 6 "
   ]
  },
  {
   "cell_type": "code",
   "execution_count": 5,
   "metadata": {},
   "outputs": [
    {
     "data": {
      "text/plain": [
       "array([[4, 1, 5, 4],\n",
       "       [5, 5, 4, 5],\n",
       "       [5, 5, 1, 6],\n",
       "       [3, 5, 4, 3]], dtype=int64)"
      ]
     },
     "execution_count": 5,
     "metadata": {},
     "output_type": "execute_result"
    }
   ],
   "source": [
    "#Generate 4 arrays of 4 random numbers between 1-6\n",
    "rng.integers(1, 7, size=(4,4))"
   ]
  },
  {
   "cell_type": "markdown",
   "metadata": {},
   "source": [
    "* The use of endpoint=True makes the range inclusive"
   ]
  },
  {
   "cell_type": "code",
   "execution_count": 6,
   "metadata": {},
   "outputs": [
    {
     "data": {
      "text/plain": [
       "array([[6, 4, 1, 7, 7, 6, 7, 6],\n",
       "       [5, 7, 5, 5, 1, 1, 4, 3],\n",
       "       [3, 1, 4, 7, 5, 1, 7, 4],\n",
       "       [7, 1, 5, 3, 4, 3, 1, 1],\n",
       "       [5, 1, 4, 7, 1, 1, 7, 5],\n",
       "       [7, 6, 3, 3, 7, 2, 6, 7],\n",
       "       [5, 1, 4, 6, 5, 5, 2, 2],\n",
       "       [7, 5, 3, 4, 5, 4, 5, 1]], dtype=int64)"
      ]
     },
     "execution_count": 6,
     "metadata": {},
     "output_type": "execute_result"
    }
   ],
   "source": [
    "#Generate 8 arrays of 8 random numbers between 1-7\n",
    "#\"endpoint=True\" makes the range inclusive\n",
    "rng.integers(1, 7, size=(8,8), endpoint=True )"
   ]
  },
  {
   "cell_type": "markdown",
   "metadata": {},
   "source": [
    "This function produces data using uniform distribution as shown in the plots below: (The higher the sample size the more evident the uniform distribution appears)."
   ]
  },
  {
   "cell_type": "code",
   "execution_count": 7,
   "metadata": {},
   "outputs": [
    {
     "data": {
      "image/png": "[encoded data removed]",
      "text/plain": [
       "<Figure size 432x288 with 1 Axes>"
      ]
     },
     "metadata": {
      "needs_background": "light"
     },
     "output_type": "display_data"
    }
   ],
   "source": [
    "#Replicate the roll of 100 dice\n",
    "dice = rng.integers(1,7, size = 100)\n",
    "#Plot histogram of the results\n",
    "sns.histplot(dice, kde = True)\n",
    "plt.show()"
   ]
  },
  {
   "cell_type": "markdown",
   "metadata": {},
   "source": [
    "Clearly show the uniform distrubution of the number generation"
   ]
  },
  {
   "cell_type": "code",
   "execution_count": 8,
   "metadata": {},
   "outputs": [
    {
     "data": {
      "image/png": "[encoded data removed]",
      "text/plain": [
       "<Figure size 432x288 with 1 Axes>"
      ]
     },
     "metadata": {
      "needs_background": "light"
     },
     "output_type": "display_data"
    }
   ],
   "source": [
    "#Replicate the roll of 100000 dice\n",
    "dice = rng.integers(1,7, size = 1000)\n",
    "sns.histplot(dice, kde = True)\n",
    "plt.show()"
   ]
  },
  {
   "cell_type": "markdown",
   "metadata": {},
   "source": []
  },
  {
   "cell_type": "code",
   "execution_count": null,
   "metadata": {},
   "outputs": [],
   "source": []
  },
  {
   "cell_type": "markdown",
   "metadata": {},
   "source": [
    "### Random\n",
    "\n",
    "[random.Generator.random(size=None, dtype=np.float64, out=None)](https://numpy.org/doc/stable/reference/random/generated/numpy.random.Generator.random.html#numpy.random.Generator.random)\n",
    "\n",
    "The generation of random floats with a given range and size."
   ]
  },
  {
   "cell_type": "markdown",
   "metadata": {},
   "source": [
    "Generate 10 random floats between 0-1"
   ]
  },
  {
   "cell_type": "code",
   "execution_count": 9,
   "metadata": {},
   "outputs": [
    {
     "data": {
      "text/plain": [
       "array([0.46698814, 0.1985857 , 0.24232179, 0.36126062, 0.723039  ,\n",
       "       0.68799919, 0.73019024, 0.37096837, 0.90069955, 0.40562749])"
      ]
     },
     "execution_count": 9,
     "metadata": {},
     "output_type": "execute_result"
    }
   ],
   "source": [
    "#Generate 10 random floats between 0-1\n",
    "rng.random(10)"
   ]
  },
  {
   "cell_type": "code",
   "execution_count": 10,
   "metadata": {},
   "outputs": [
    {
     "data": {
      "text/plain": [
       "array([[0.66261556, 0.44869633],\n",
       "       [0.53173122, 0.5848985 ],\n",
       "       [0.09030681, 0.08889765],\n",
       "       [0.20025264, 0.24798234],\n",
       "       [0.07361846, 0.30554079],\n",
       "       [0.8177982 , 0.28169285],\n",
       "       [0.34742841, 0.37373753],\n",
       "       [0.46785939, 0.52533156],\n",
       "       [0.52814375, 0.72606289],\n",
       "       [0.81840039, 0.66242383]])"
      ]
     },
     "execution_count": 10,
     "metadata": {},
     "output_type": "execute_result"
    }
   ],
   "source": [
    "#Generate 10 arrays of 2 random floats between 0-1\n",
    "rng.random((10,2))"
   ]
  },
  {
   "cell_type": "code",
   "execution_count": 11,
   "metadata": {},
   "outputs": [
    {
     "data": {
      "text/plain": [
       "array([[0.40378215, 0.45482135, 0.20654271, 0.87741453, 0.63923763,\n",
       "        0.46256364, 0.78184363, 0.66241145, 0.00253505, 0.24492769],\n",
       "       [0.83253975, 0.04044752, 0.28011954, 0.70395091, 0.89353025,\n",
       "        0.57267742, 0.00316008, 0.74457037, 0.50613576, 0.76886126]])"
      ]
     },
     "execution_count": 11,
     "metadata": {},
     "output_type": "execute_result"
    }
   ],
   "source": [
    "#Generate 2 arrays of 10 random floats between 0-1\n",
    "rng.random((2,10))"
   ]
  },
  {
   "cell_type": "code",
   "execution_count": 12,
   "metadata": {},
   "outputs": [
    {
     "data": {
      "text/plain": [
       "array([[2.22370618, 2.20207728],\n",
       "       [2.18885215, 2.3228271 ],\n",
       "       [2.24380129, 2.88226216],\n",
       "       [2.11725862, 2.0101476 ],\n",
       "       [2.50763375, 2.20321735]])"
      ]
     },
     "execution_count": 12,
     "metadata": {},
     "output_type": "execute_result"
    }
   ],
   "source": [
    "#Generate 5 arrays of 2 random floats between 2-3\n",
    "#+2 increases the range bounds from 0-1 to 2-3\n",
    "rng.random((5,2)) + 2"
   ]
  },
  {
   "cell_type": "code",
   "execution_count": null,
   "metadata": {},
   "outputs": [],
   "source": []
  },
  {
   "cell_type": "markdown",
   "metadata": {},
   "source": [
    "### Choice\n",
    "\n",
    "[random.Generator.choice(a, size=None, replace=True, p=None, axis=0, shuffle=True)](https://numpy.org/doc/stable/reference/random/generated/numpy.random.Generator.choice.html#numpy.random.Generator.choice)\n",
    "\n",
    "\n",
    "\n",
    "Can set probabilities of a given array\n",
    "\n"
   ]
  },
  {
   "cell_type": "code",
   "execution_count": 13,
   "metadata": {},
   "outputs": [
    {
     "data": {
      "text/plain": [
       "array([3, 3, 4, 4, 4, 2], dtype=int64)"
      ]
     },
     "execution_count": 13,
     "metadata": {},
     "output_type": "execute_result"
    }
   ],
   "source": [
    "#Generate 6 integers between 0-5\n",
    "rng.choice(6,6)"
   ]
  },
  {
   "cell_type": "code",
   "execution_count": 14,
   "metadata": {},
   "outputs": [
    {
     "data": {
      "text/plain": [
       "array([2, 1, 0, 4, 3, 5], dtype=int64)"
      ]
     },
     "execution_count": 14,
     "metadata": {},
     "output_type": "execute_result"
    }
   ],
   "source": [
    "#\"replace=False\" means no duplicates are allowed\n",
    "rng.choice(6,6, replace=False)"
   ]
  },
  {
   "cell_type": "markdown",
   "metadata": {},
   "source": [
    "The probablities of each element being generated can be altered"
   ]
  },
  {
   "cell_type": "code",
   "execution_count": 15,
   "metadata": {},
   "outputs": [
    {
     "data": {
      "text/plain": [
       "array([4, 1, 2, 5, 4, 4, 5, 2, 1, 2, 1, 4, 1, 5, 4, 1, 1, 1, 5, 1, 1, 1,\n",
       "       4, 5, 2], dtype=int64)"
      ]
     },
     "execution_count": 15,
     "metadata": {},
     "output_type": "execute_result"
    }
   ],
   "source": [
    "#The chances of each element appearing can be changed with p=[]\n",
    "#This generates 25 integers between 0-5 \n",
    "#with 0-50% chance of certain numbers appearing\n",
    "rng.choice(6,25, p= [0, 0.5, 0.2, 0, 0.2, 0.1])"
   ]
  },
  {
   "cell_type": "markdown",
   "metadata": {},
   "source": [
    "The altered probablities can be seen in the following 2 plots, the first displaying a uniform distrubution and the second shows the affect of adjusted probabilities."
   ]
  },
  {
   "cell_type": "code",
   "execution_count": 16,
   "metadata": {},
   "outputs": [
    {
     "data": {
      "image/png": "[encoded data removed]",
      "text/plain": [
       "<Figure size 432x288 with 1 Axes>"
      ]
     },
     "metadata": {
      "needs_background": "light"
     },
     "output_type": "display_data"
    }
   ],
   "source": [
    "#Generate 100000 numbers from 0-9\n",
    "arr = rng.choice((10),100000)\n",
    "#Plot the Histogram\n",
    "plt.hist(arr)\n",
    "plt.show()"
   ]
  },
  {
   "cell_type": "code",
   "execution_count": 17,
   "metadata": {},
   "outputs": [
    {
     "data": {
      "image/png": "[encoded data removed]",
      "text/plain": [
       "<Figure size 432x288 with 1 Axes>"
      ]
     },
     "metadata": {
      "needs_background": "light"
     },
     "output_type": "display_data"
    }
   ],
   "source": [
    "#Generates 100,000 integers between 0-9 with probabilties between 0-40%\n",
    "arr = rng.choice(10,100000, p= [0.05, 0.4, 0.1, 0, 0.01, 0.1, 0.04, 0.2, 0.08, 0.02])\n",
    "#Plot the Histogram\n",
    "plt.hist(arr)\n",
    "plt.show()"
   ]
  },
  {
   "cell_type": "markdown",
   "metadata": {},
   "source": [
    "Choice can be used on arrays of strings."
   ]
  },
  {
   "cell_type": "code",
   "execution_count": 18,
   "metadata": {},
   "outputs": [
    {
     "data": {
      "image/png": "[encoded data removed]",
      "text/plain": [
       "<Figure size 432x288 with 1 Axes>"
      ]
     },
     "metadata": {
      "needs_background": "light"
     },
     "output_type": "display_data"
    }
   ],
   "source": [
    "#Create an array of colours\n",
    "colour = [\"red\", \"orange\", \"yellow\", \"green\", \"blue\", \"indigo\", \"violet\"]\n",
    "#Alter the probabilites of the colours appearing\n",
    "rainbow = rng.choice(colour,10000, p= [0.1, 0.3, 0.2, 0, 0.2, 0.1, 0.1])\n",
    "#Plot the Histogram\n",
    "plt.hist(rainbow)\n",
    "plt.show()"
   ]
  },
  {
   "cell_type": "markdown",
   "metadata": {},
   "source": [
    "### Bytes\n",
    "\n",
    "[random.Generator.bytes(length)](https://numpy.org/doc/stable/reference/random/generated/numpy.random.Generator.bytes.html#numpy.random.Generator.bytes)\n",
    "\n",
    "Return Random bytes\n",
    "\n"
   ]
  },
  {
   "cell_type": "code",
   "execution_count": 19,
   "metadata": {},
   "outputs": [
    {
     "data": {
      "text/plain": [
       "b'\\xce\\xeb\\x84\\xe6\\xdc'"
      ]
     },
     "execution_count": 19,
     "metadata": {},
     "output_type": "execute_result"
    }
   ],
   "source": [
    "rng.bytes(5)"
   ]
  },
  {
   "cell_type": "code",
   "execution_count": 20,
   "metadata": {},
   "outputs": [
    {
     "data": {
      "text/plain": [
       "b'\\x10\\xc5\\xbf\\xd0\\xa3<\\x88&p\\x166!\\xd9\\xa3\\xfc\\'\\x7fWQ\\xf2\\xc1\\x90\\xf5\\xf82\\xf1\\xe3\\xe2\"Izl\\xd5\\xc4_\\xce@e\\xbe9\\xa7\\x01\\x117C*\\xa3n\\xe0\\x97'"
      ]
     },
     "execution_count": 20,
     "metadata": {},
     "output_type": "execute_result"
    }
   ],
   "source": [
    "rng.bytes(50)"
   ]
  },
  {
   "cell_type": "markdown",
   "metadata": {},
   "source": [
    "## Permutations\n",
    "\n",
    ">\"In mathematics, a permutation of a set is, loosely speaking, an arrangement of its members into a sequence or linear order, or if the set is already ordered, a rearrangement of its elements. The word \"permutation\" also refers to the act or process of changing the linear order of an ordered set\" [6].\n",
    "        \n",
    "Numpy.random allows for the modification of the sequence of arrays using the following functions:\n",
    "\n",
    "* Shuffle\n",
    "* Permutation\n",
    "* Permuted\n"
   ]
  },
  {
   "cell_type": "markdown",
   "metadata": {},
   "source": [
    "### Shuffle\n",
    "\n",
    "[random.Generator.shuffle(x, axis=0)](https://numpy.org/doc/stable/reference/random/generated/numpy.random.Generator.shuffle.html#numpy.random.Generator.shuffle)\n",
    "\n",
    "Modify an array or sequence in-place by shuffling its contents.\n",
    "\n",
    "The order of sub-arrays is changed but their contents remains the same."
   ]
  },
  {
   "cell_type": "code",
   "execution_count": 21,
   "metadata": {},
   "outputs": [
    {
     "name": "stdout",
     "output_type": "stream",
     "text": [
      "[1 4 4 5 8 5 1 7 7 0]\n",
      "[4 7 0 5 1 7 8 4 5 1]\n"
     ]
    }
   ],
   "source": [
    "#Generate 10 integers between 0-9\n",
    "arr = rng.integers(10, size=10)\n",
    "print(arr)\n",
    "\n",
    "#Shuffle and display form previous array\n",
    "rng.shuffle(arr)\n",
    "print(arr)"
   ]
  },
  {
   "cell_type": "markdown",
   "metadata": {},
   "source": [
    "Shuffle can work between multidimensional arrays, with reshape"
   ]
  },
  {
   "cell_type": "code",
   "execution_count": 22,
   "metadata": {},
   "outputs": [
    {
     "data": {
      "text/plain": [
       "array([[ 0,  1,  2,  3],\n",
       "       [ 8,  9, 10, 11],\n",
       "       [ 4,  5,  6,  7],\n",
       "       [16, 17, 18, 19],\n",
       "       [12, 13, 14, 15]])"
      ]
     },
     "execution_count": 22,
     "metadata": {},
     "output_type": "execute_result"
    }
   ],
   "source": [
    "#Generate 5 arrays of 4 ascending numbers \n",
    "arr = np.arange(20).reshape((5,4))\n",
    "\n",
    "#Shuffle and order of the arrays\n",
    "rng.shuffle(arr)\n",
    "arr"
   ]
  },
  {
   "cell_type": "markdown",
   "metadata": {},
   "source": [
    "Adding axis=1 shuffles the content within the first array"
   ]
  },
  {
   "cell_type": "code",
   "execution_count": 23,
   "metadata": {},
   "outputs": [
    {
     "data": {
      "text/plain": [
       "array([[ 1,  3,  0,  2],\n",
       "       [ 5,  7,  4,  6],\n",
       "       [ 9, 11,  8, 10],\n",
       "       [13, 15, 12, 14],\n",
       "       [17, 19, 16, 18]])"
      ]
     },
     "execution_count": 23,
     "metadata": {},
     "output_type": "execute_result"
    }
   ],
   "source": [
    "#Generate 5 arrays of 4 ascending numbers \n",
    "arr = np.arange(20).reshape((5,4))\n",
    "\n",
    "#Shuffle the contents of the first array\n",
    "rng.shuffle(arr, axis=1)\n",
    "arr"
   ]
  },
  {
   "cell_type": "markdown",
   "metadata": {},
   "source": [
    "Shuffle can also work on strings and more complex arrays. Below code simulates creating a deck of 52 cards and shuffling the order."
   ]
  },
  {
   "cell_type": "code",
   "execution_count": 24,
   "metadata": {},
   "outputs": [
    {
     "data": {
      "text/plain": [
       "[('A', '♣'),\n",
       " ('2', '♣'),\n",
       " ('3', '♣'),\n",
       " ('4', '♣'),\n",
       " ('5', '♣'),\n",
       " ('6', '♣'),\n",
       " ('7', '♣'),\n",
       " ('8', '♣'),\n",
       " ('9', '♣'),\n",
       " ('10', '♣'),\n",
       " ('J', '♣'),\n",
       " ('Q', '♣'),\n",
       " ('K', '♣'),\n",
       " ('A', '♥'),\n",
       " ('2', '♥'),\n",
       " ('3', '♥'),\n",
       " ('4', '♥'),\n",
       " ('5', '♥'),\n",
       " ('6', '♥'),\n",
       " ('7', '♥'),\n",
       " ('8', '♥'),\n",
       " ('9', '♥'),\n",
       " ('10', '♥'),\n",
       " ('J', '♥'),\n",
       " ('Q', '♥'),\n",
       " ('K', '♥'),\n",
       " ('A', '♠'),\n",
       " ('2', '♠'),\n",
       " ('3', '♠'),\n",
       " ('4', '♠'),\n",
       " ('5', '♠'),\n",
       " ('6', '♠'),\n",
       " ('7', '♠'),\n",
       " ('8', '♠'),\n",
       " ('9', '♠'),\n",
       " ('10', '♠'),\n",
       " ('J', '♠'),\n",
       " ('Q', '♠'),\n",
       " ('K', '♠'),\n",
       " ('A', '♦'),\n",
       " ('2', '♦'),\n",
       " ('3', '♦'),\n",
       " ('4', '♦'),\n",
       " ('5', '♦'),\n",
       " ('6', '♦'),\n",
       " ('7', '♦'),\n",
       " ('8', '♦'),\n",
       " ('9', '♦'),\n",
       " ('10', '♦'),\n",
       " ('J', '♦'),\n",
       " ('Q', '♦'),\n",
       " ('K', '♦')]"
      ]
     },
     "execution_count": 24,
     "metadata": {},
     "output_type": "execute_result"
    }
   ],
   "source": [
    "#Create the 2 arrays for a deck of cards\n",
    "#Unicode for the Suit symbols\n",
    "suits = [\"\\u2663\", \"\\u2665\", \"\\u2660\", \"\\u2666\"]\n",
    "faces = [ \"A\", \"2\", \"3\", \"4\", \"5\", \"6\", \"7\", \"8\", \"9\", \"10\", \"J\", \"Q\", \"K\"]\n",
    "\n",
    "#Generate a deck of cards by looping through the arrays above\n",
    "deck = []\n",
    "for suit in suits:\n",
    "    for face in faces:\n",
    "        deck.append((face, suit))\n",
    "        \n",
    "#Display the deck     \n",
    "deck"
   ]
  },
  {
   "cell_type": "code",
   "execution_count": 25,
   "metadata": {},
   "outputs": [
    {
     "data": {
      "text/plain": [
       "[('4', '♣'),\n",
       " ('4', '♦'),\n",
       " ('8', '♥'),\n",
       " ('6', '♦'),\n",
       " ('J', '♠'),\n",
       " ('A', '♥'),\n",
       " ('5', '♠'),\n",
       " ('5', '♥'),\n",
       " ('A', '♠'),\n",
       " ('4', '♥'),\n",
       " ('4', '♠'),\n",
       " ('3', '♣'),\n",
       " ('J', '♥'),\n",
       " ('5', '♣'),\n",
       " ('J', '♣'),\n",
       " ('10', '♥'),\n",
       " ('K', '♣'),\n",
       " ('8', '♣'),\n",
       " ('K', '♥'),\n",
       " ('Q', '♣'),\n",
       " ('7', '♥'),\n",
       " ('K', '♦'),\n",
       " ('Q', '♦'),\n",
       " ('J', '♦'),\n",
       " ('2', '♣'),\n",
       " ('9', '♣'),\n",
       " ('3', '♦'),\n",
       " ('7', '♣'),\n",
       " ('6', '♥'),\n",
       " ('7', '♦'),\n",
       " ('6', '♠'),\n",
       " ('9', '♠'),\n",
       " ('10', '♣'),\n",
       " ('5', '♦'),\n",
       " ('7', '♠'),\n",
       " ('8', '♠'),\n",
       " ('K', '♠'),\n",
       " ('10', '♦'),\n",
       " ('A', '♦'),\n",
       " ('3', '♥'),\n",
       " ('8', '♦'),\n",
       " ('Q', '♠'),\n",
       " ('6', '♣'),\n",
       " ('10', '♠'),\n",
       " ('2', '♠'),\n",
       " ('3', '♠'),\n",
       " ('2', '♦'),\n",
       " ('9', '♦'),\n",
       " ('Q', '♥'),\n",
       " ('9', '♥'),\n",
       " ('2', '♥'),\n",
       " ('A', '♣')]"
      ]
     },
     "execution_count": 25,
     "metadata": {},
     "output_type": "execute_result"
    }
   ],
   "source": [
    "#Use Shuffle to reorganise the deck array\n",
    "rng.shuffle(deck)\n",
    "deck"
   ]
  },
  {
   "cell_type": "markdown",
   "metadata": {},
   "source": [
    "After the deck has been shuffled you can extract defined cards from the list to replicate dealing a hand."
   ]
  },
  {
   "cell_type": "code",
   "execution_count": 26,
   "metadata": {},
   "outputs": [
    {
     "name": "stdout",
     "output_type": "stream",
     "text": [
      "Player 1: ('4', '♣') ('8', '♥') ('J', '♠') ('5', '♠') ('A', '♠') ('4', '♠')\n",
      "Player 2: ('4', '♦') ('6', '♦') ('A', '♥') ('5', '♥') ('4', '♥') ('3', '♣')\n"
     ]
    }
   ],
   "source": [
    "#Index every other card starting at 0 and 1 for 12 cards\n",
    "hand1 = deck[0:12:2]\n",
    "hand2 = deck[1:12:2]\n",
    "\n",
    "#Display player hand\n",
    "print(\"Player 1:\", *hand1)\n",
    "print(\"Player 2:\", *hand2)"
   ]
  },
  {
   "cell_type": "code",
   "execution_count": null,
   "metadata": {},
   "outputs": [],
   "source": []
  },
  {
   "cell_type": "markdown",
   "metadata": {},
   "source": [
    "### Permutation\n",
    "\n",
    "[random.Generator.permutation(x, axis=0)](https://numpy.org/doc/stable/reference/random/generated/numpy.random.Generator.permutation.html#numpy.random.Generator.permutation)\n",
    "\n",
    "Randomly permute a sequence, or return a permuted range."
   ]
  },
  {
   "cell_type": "markdown",
   "metadata": {},
   "source": [
    "The permutation() method returns a re-arranged array (and leaves the original array un-changed),this method will keep the original array intact and will return a shuffled array.\n",
    "\n",
    "The shuffle() method makes changes to the original array, and you are only left with the shuffled array.[7]\n",
    "\n",
    "The code below shows the original array changing using the shuffle function"
   ]
  },
  {
   "cell_type": "code",
   "execution_count": 27,
   "metadata": {},
   "outputs": [
    {
     "name": "stdout",
     "output_type": "stream",
     "text": [
      "[0 7 2 2 7 3 5 3 3 7]\n",
      "[7 3 2 0 7 5 3 7 2 3]\n"
     ]
    }
   ],
   "source": [
    "#Generate an array of 10 integers\n",
    "arr = rng.integers(10, size=10)\n",
    "print(arr)\n",
    "\n",
    "#Shuffle and show the new array\n",
    "rng.shuffle(arr)\n",
    "print(arr)"
   ]
  },
  {
   "cell_type": "markdown",
   "metadata": {},
   "source": [
    "This code shows the original array is not changed when using permutation"
   ]
  },
  {
   "cell_type": "code",
   "execution_count": 28,
   "metadata": {},
   "outputs": [
    {
     "name": "stdout",
     "output_type": "stream",
     "text": [
      "[9 3 7 5 1 3 1 7 8 2]\n",
      "[7 9 2 7 3 1 8 5 3 1]\n",
      "[9 3 7 5 1 3 1 7 8 2]\n"
     ]
    }
   ],
   "source": [
    "#Generate an array of 10 integers\n",
    "arr = rng.integers(10, size=10)\n",
    "print(arr)\n",
    "\n",
    "#Shuffle and show the original array has been retained\n",
    "print(rng.permutation(arr))\n",
    "print(arr)"
   ]
  },
  {
   "cell_type": "code",
   "execution_count": 29,
   "metadata": {},
   "outputs": [
    {
     "name": "stdout",
     "output_type": "stream",
     "text": [
      "[[16 17 18 19]\n",
      " [12 13 14 15]\n",
      " [ 8  9 10 11]\n",
      " [ 0  1  2  3]\n",
      " [ 4  5  6  7]]\n",
      "-----------------\n",
      "[[ 0  1  2  3]\n",
      " [ 4  5  6  7]\n",
      " [ 8  9 10 11]\n",
      " [12 13 14 15]\n",
      " [16 17 18 19]]\n"
     ]
    }
   ],
   "source": [
    "#Generate 5 arrays of 4 ascending numbers \n",
    "arr = np.arange(20).reshape((5,4))\n",
    "\n",
    "#Shuffle the order of the arrays\n",
    "print(rng.permutation(arr))\n",
    "print(\"-----------------\")\n",
    "print(arr)"
   ]
  },
  {
   "cell_type": "code",
   "execution_count": 30,
   "metadata": {},
   "outputs": [
    {
     "name": "stdout",
     "output_type": "stream",
     "text": [
      "[[ 0  3  1  2]\n",
      " [ 4  7  5  6]\n",
      " [ 8 11  9 10]\n",
      " [12 15 13 14]\n",
      " [16 19 17 18]]\n",
      "-----------------\n",
      "[[ 0  1  2  3]\n",
      " [ 4  5  6  7]\n",
      " [ 8  9 10 11]\n",
      " [12 13 14 15]\n",
      " [16 17 18 19]]\n"
     ]
    }
   ],
   "source": [
    "#Generate 5 arrays of 4 ascending numbers \n",
    "arr = np.arange(20).reshape((5,4))\n",
    "\n",
    "#Shuffle the order of the first array\n",
    "print(rng.permutation(arr, axis=1))\n",
    "print(\"-----------------\")\n",
    "print(arr)"
   ]
  },
  {
   "cell_type": "markdown",
   "metadata": {},
   "source": [
    "### Permuted\n",
    "\n",
    "[random.Generator.permuted(x, axis=None, out=None)](https://numpy.org/doc/stable/reference/random/generated/numpy.random.Generator.permuted.html)\n",
    "\n",
    "Like permutation where the output can be stored as a variable and overwrite the original\n"
   ]
  },
  {
   "cell_type": "markdown",
   "metadata": {},
   "source": [
    "* The code below permuted works in the same way as permutation above. The original array is left unchanged"
   ]
  },
  {
   "cell_type": "code",
   "execution_count": 31,
   "metadata": {},
   "outputs": [
    {
     "name": "stdout",
     "output_type": "stream",
     "text": [
      "[[ 3  2  0  1]\n",
      " [ 5  4  7  6]\n",
      " [10  8  9 11]\n",
      " [13 15 14 12]\n",
      " [16 17 18 19]]\n",
      "-----------------\n",
      "[[ 0  1  2  3]\n",
      " [ 4  5  6  7]\n",
      " [ 8  9 10 11]\n",
      " [12 13 14 15]\n",
      " [16 17 18 19]]\n"
     ]
    }
   ],
   "source": [
    "#Generate 5 arrays of 4 ascending numbers \n",
    "arr = np.arange(20).reshape((5,4))\n",
    "\n",
    "#Shuffle the order of the first array\n",
    "arr2 = rng.permuted(arr,axis=1)\n",
    "\n",
    "print(arr2)\n",
    "print(\"-----------------\")\n",
    "print(arr)"
   ]
  },
  {
   "cell_type": "markdown",
   "metadata": {},
   "source": [
    "The code here uses the out parameter to update the output and replaces the original array"
   ]
  },
  {
   "cell_type": "code",
   "execution_count": 32,
   "metadata": {},
   "outputs": [
    {
     "name": "stdout",
     "output_type": "stream",
     "text": [
      "[[ 3  0  2  1]\n",
      " [ 7  5  4  6]\n",
      " [ 8  9 11 10]\n",
      " [14 13 12 15]\n",
      " [17 19 16 18]]\n",
      "-----------------\n",
      "[[ 3  0  2  1]\n",
      " [ 7  5  4  6]\n",
      " [ 8  9 11 10]\n",
      " [14 13 12 15]\n",
      " [17 19 16 18]]\n"
     ]
    }
   ],
   "source": [
    "#Generate 5 arrays of 4 ascending numbers \n",
    "arr = np.arange(20).reshape((5,4))\n",
    "\n",
    "#Shuffle the order of the first array\n",
    "arr2 = rng.permuted(arr,axis=1, out=arr)\n",
    "\n",
    "print(arr2)\n",
    "print(\"-----------------\")\n",
    "print(arr)"
   ]
  },
  {
   "cell_type": "markdown",
   "metadata": {},
   "source": [
    "* Verification that the arrays are the same"
   ]
  },
  {
   "cell_type": "code",
   "execution_count": 33,
   "metadata": {},
   "outputs": [
    {
     "data": {
      "text/plain": [
       "True"
      ]
     },
     "execution_count": 33,
     "metadata": {},
     "output_type": "execute_result"
    }
   ],
   "source": [
    "arr is arr2"
   ]
  },
  {
   "cell_type": "markdown",
   "metadata": {},
   "source": [
    "## Distributions\n",
    "\n",
    "The distribution of a statistical data set (or a population) is a function showing all the possible values of the data and how often they occur. Data distributions are widely used in statistics, to organise the data into an easily visualised way. There are many different defined types of distribution and are classified based on the type of data, discrete vs continuous. \n",
    "\n",
    "Discrete data is information that can only take certain values, one which may take on only a countable number of distinct values and thus can be quantified. For example, when you roll a die, the possible outcomes can only be 1, 2, 3, 4, 5 or 6\n",
    "\n",
    "Continuous data is data that takes an infinite number of possible values. Height, weight, temperature and length are all examples of continuous data.\n",
    "\n",
    "The following will review 5 different distributions built into NumPy:\n",
    "\n",
    "1. Uniform\n",
    "2. Normal\n",
    "3. Binomial\n",
    "4. Exponential\n",
    "5. Poisson\n",
    "\n"
   ]
  },
  {
   "cell_type": "markdown",
   "metadata": {},
   "source": [
    "### Uniform\n",
    "\n",
    "[random.uniform(low=0.0, high=1.0, size=None)](https://numpy.org/doc/stable/reference/random/generated/numpy.random.uniform.html)\n",
    "\n",
    "In probability theory and statistics, the discrete uniform distribution is a symmetric probability distribution wherein a finite number of values are equally likely to be observed. [8]\n",
    "\n",
    "A simple example of the discrete uniform distribution is throwing a fair dice. The possible values are 1, 2, 3, 4, 5, 6, and each time the die is thrown the probability of a given score is 1/6. If two dice are thrown and their values added, the resulting distribution is no longer uniform because not all sums have equal probability (and is discussed below)."
   ]
  },
  {
   "cell_type": "markdown",
   "metadata": {},
   "source": [
    "Below is an example of discrete uniform distribution as discussed above "
   ]
  },
  {
   "cell_type": "code",
   "execution_count": 135,
   "metadata": {},
   "outputs": [
    {
     "data": {
      "image/png": "[encoded data removed]",
      "text/plain": [
       "<Figure size 432x288 with 1 Axes>"
      ]
     },
     "metadata": {},
     "output_type": "display_data"
    }
   ],
   "source": [
    "data = rng.integers(1,7, size=100)\n",
    "plt.hist(data)\n",
    "plt.show()"
   ]
  },
  {
   "cell_type": "code",
   "execution_count": null,
   "metadata": {},
   "outputs": [],
   "source": [
    "\n"
   ]
  },
  {
   "cell_type": "markdown",
   "metadata": {},
   "source": [
    "Using the Uniform distrubtion built into NumPy is an example of continuous uniform distribution."
   ]
  },
  {
   "cell_type": "code",
   "execution_count": 137,
   "metadata": {},
   "outputs": [
    {
     "data": {
      "text/plain": [
       "array([5.97582538, 3.79328738, 6.48700501, ..., 4.05540026, 4.23024931,\n",
       "       3.37643947])"
      ]
     },
     "execution_count": 137,
     "metadata": {},
     "output_type": "execute_result"
    }
   ],
   "source": [
    "data = rng.uniform(1,7, size = 10000)\n",
    "data"
   ]
  },
  {
   "cell_type": "code",
   "execution_count": 138,
   "metadata": {},
   "outputs": [
    {
     "data": {
      "image/png": "[encoded data removed]",
      "text/plain": [
       "<Figure size 432x288 with 1 Axes>"
      ]
     },
     "metadata": {},
     "output_type": "display_data"
    }
   ],
   "source": [
    "plt.hist(data)\n",
    "plt.show()"
   ]
  },
  {
   "cell_type": "code",
   "execution_count": 133,
   "metadata": {},
   "outputs": [],
   "source": [
    "data = rng.uniform(-1,0,1000)"
   ]
  },
  {
   "cell_type": "code",
   "execution_count": 132,
   "metadata": {},
   "outputs": [
    {
     "data": {
      "image/png": "[encoded data removed]",
      "text/plain": [
       "<Figure size 432x288 with 1 Axes>"
      ]
     },
     "metadata": {},
     "output_type": "display_data"
    }
   ],
   "source": [
    "plt.hist(data, bins=15)\n",
    "plt.show()"
   ]
  },
  {
   "cell_type": "code",
   "execution_count": 131,
   "metadata": {},
   "outputs": [
    {
     "data": {
      "image/png": "[encoded data removed]",
      "text/plain": [
       "<Figure size 432x288 with 1 Axes>"
      ]
     },
     "metadata": {},
     "output_type": "display_data"
    }
   ],
   "source": [
    "data = rng.uniform(-1,0,100000)\n",
    "sns.histplot(data, kde = True)\n",
    "plt.show()"
   ]
  },
  {
   "cell_type": "code",
   "execution_count": null,
   "metadata": {},
   "outputs": [],
   "source": []
  },
  {
   "cell_type": "markdown",
   "metadata": {},
   "source": [
    "### Normal\n",
    "\n",
    "[random.normal(loc=0.0, scale=1.0, size=None)](https://numpy.org/doc/stable/reference/random/generated/numpy.random.normal.html)\n",
    "\n",
    "Normal distribution is also known as Gaussian distribution. It is a symmetrical bell shape curve with higher frequency (probability density) around the central value. The frequency sharply decreasing as values are away from the central value on either side.\n",
    "\n",
    "The funtion is called using the following code np.random.normal(), where numpy is imported as np. The numpy normal distribution has three parameters:\n",
    "\n",
    "* loc - the mean of the data\n",
    "* scale - the standard deviation of the data\n",
    "* size - the shape of the returned array\n",
    "\n",
    "The case where μ(mu) = 0 and σ(sigma) = 1 is called the standard normal distribution, where mu = mean and sigma = standard deviation."
   ]
  },
  {
   "cell_type": "markdown",
   "metadata": {},
   "source": [
    "Using the dice roll example from above, when 1 six sided dice is rolled there is an equal chance of any number appearing, and so presents Uniform distribution. If however 2 dice are rolled and the sum is taken, there is not a 1/12 chance of each number appearing. There are now 36 different possible outcomes with 2 and 12 having a 1/36 chance of appearing and 7 has a 1/6 chance due to the combinations available, this means the distribution of this data will be normal."
   ]
  },
  {
   "cell_type": "markdown",
   "metadata": {},
   "source": [
    "To test this, 2 arrays of 10,000 dice rolls can be generated and the each corresponding element are added together. When plotted a Normal distribution can be seen."
   ]
  },
  {
   "cell_type": "code",
   "execution_count": 155,
   "metadata": {},
   "outputs": [
    {
     "data": {
      "image/png": "[encoded data removed]",
      "text/plain": [
       "<Figure size 432x288 with 1 Axes>"
      ]
     },
     "metadata": {},
     "output_type": "display_data"
    }
   ],
   "source": [
    "data = rng.integers(1,7, size=(10000,2))\n",
    "sum = np.sum(data, axis =1)\n",
    "sns.set_theme();\n",
    "sns.histplot(sum, binwidth=0.99)\n",
    "plt.show()"
   ]
  },
  {
   "cell_type": "markdown",
   "metadata": {},
   "source": [
    "If we take this randomly generated data and use \"Pandas dataframe\" to discover the mean and standard deviation we can then use NumPy Normal Distrbution functioon to simulate this data structure."
   ]
  },
  {
   "cell_type": "code",
   "execution_count": 130,
   "metadata": {},
   "outputs": [
    {
     "data": {
      "text/plain": [
       "count    10000.00\n",
       "mean         7.02\n",
       "std          2.40\n",
       "min          2.00\n",
       "25%          5.00\n",
       "50%          7.00\n",
       "75%          9.00\n",
       "max         12.00\n",
       "dtype: float64"
      ]
     },
     "execution_count": 130,
     "metadata": {},
     "output_type": "execute_result"
    }
   ],
   "source": [
    "s = pd.Series(sum)\n",
    "s.describe().round(2)"
   ]
  },
  {
   "cell_type": "markdown",
   "metadata": {},
   "source": [
    "As seen below when using the mean and SD the expected Normal distribution has been simulated."
   ]
  },
  {
   "cell_type": "code",
   "execution_count": 117,
   "metadata": {},
   "outputs": [
    {
     "data": {
      "image/png": "[encoded data removed]",
      "text/plain": [
       "<Figure size 432x288 with 1 Axes>"
      ]
     },
     "metadata": {},
     "output_type": "display_data"
    }
   ],
   "source": [
    "sum = np.random.normal(6.979, 2.419, 10000)\n",
    "\n",
    "sns.set_theme(); \n",
    "ax = sns.histplot(sum, kde = True)"
   ]
  },
  {
   "cell_type": "code",
   "execution_count": null,
   "metadata": {},
   "outputs": [],
   "source": [
    "\n"
   ]
  },
  {
   "cell_type": "code",
   "execution_count": null,
   "metadata": {},
   "outputs": [],
   "source": []
  },
  {
   "cell_type": "markdown",
   "metadata": {},
   "source": [
    "### Binomial\n",
    "\n",
    "[random.binomial(n, p, size=None)](https://numpy.org/doc/stable/reference/random/generated/numpy.random.binomial.html)\n",
    "\n",
    "A binomial distribution is an example of a discrete distribution, it describes the outcome of a binary operation, for example tossing a coin. A binary distribtion has 3 parameters as follows:\n",
    "\n",
    "* n - numbers of options\n",
    "* p - probability of each iteration\n",
    "* size - the number of iterations\n",
    "\n"
   ]
  },
  {
   "cell_type": "code",
   "execution_count": 160,
   "metadata": {},
   "outputs": [
    {
     "data": {
      "image/png": "[encoded data removed]",
      "text/plain": [
       "<Figure size 432x288 with 1 Axes>"
      ]
     },
     "metadata": {},
     "output_type": "display_data"
    }
   ],
   "source": [
    "coin = np.random.binomial(1, .5, 10)\n",
    "coin\n",
    "ax = sns.histplot(coin, binwidth=0.5)"
   ]
  },
  {
   "cell_type": "markdown",
   "metadata": {},
   "source": [
    "### Exponential"
   ]
  },
  {
   "cell_type": "markdown",
   "metadata": {},
   "source": [
    "### Poisson"
   ]
  },
  {
   "cell_type": "markdown",
   "metadata": {},
   "source": [
    "## Seeds"
   ]
  },
  {
   "cell_type": "markdown",
   "metadata": {},
   "source": [
    "## References\n",
    "\n",
    "[2]. https://numpy.org/doc/stable/user/absolute_beginners.html\n",
    "\n",
    "[1] https://www.mygreatlearning.com/blog/python-numpy-tutorial/\n",
    "\n",
    "https://numpy.org/doc/stable/user/whatisnumpy.html\n",
    "\n",
    "https://numpy.org/doc/stable/reference/random/generator.html\n",
    "\n",
    "https://machinelearningmastery.com/statistical-data-distributions/\n",
    "\n",
    "https://numpy.org/doc/stable/reference/random/generated/numpy.random.Generator.integers.html\n",
    "\n",
    "https://numpy.org/doc/stable/reference/random/generated/numpy.random.Generator.random.html\n",
    "\n",
    "https://numpy.org/doc/stable/reference/random/generated/numpy.random.Generator.choice.html\n",
    "\n",
    "https://numpy.org/doc/stable/reference/random/generated/numpy.random.Generator.bytes.html\n",
    "\n",
    "https://numpy.org/doc/stable/reference/random/generated/numpy.random.Generator.shuffle.html\n",
    "\n",
    "https://numpy.org/doc/stable/reference/random/generated/numpy.random.Generator.permutation.html\n",
    "\n",
    "https://numpy.org/doc/stable/reference/random/generated/numpy.random.Generator.permuted.html\n",
    "\n",
    "https://www.datacamp.com/community/tutorials/probability-distributions-python\n",
    "\n",
    "https://www.analyticsvidhya.com/blog/2017/09/6-probability-distributions-data-science/\n",
    "\n",
    "https://numpy.org/doc/stable/reference/random/generated/numpy.random.Generator.uniform.html\n",
    "\n",
    "[8] https://en.wikipedia.org/wiki/Discrete_uniform_distribution\n",
    "\n",
    "[5] https://numpy.org/doc/stable/reference/random/index.html\n",
    "\n",
    "[6] https://en.wikipedia.org/wiki/Permutation\n",
    "\n",
    "[7] https://newbedev.com/shuffle-vs-permute-numpy\n",
    "\n",
    "https://numpy.org/doc/stable/reference/random/generated/numpy.random.uniform.html\n",
    "\n",
    "https://numpy.org/doc/stable/reference/random/generated/numpy.random.normal.html\n",
    "\n",
    "https://numpy.org/doc/stable/reference/random/generated/numpy.random.binomial.html"
   ]
  },
  {
   "cell_type": "code",
   "execution_count": null,
   "metadata": {},
   "outputs": [],
   "source": []
  }
 ],
 "metadata": {
  "kernelspec": {
   "display_name": "Python 3",
   "language": "python",
   "name": "python3"
  },
  "language_info": {
   "codemirror_mode": {
    "name": "ipython",
    "version": 3
   },
   "file_extension": ".py",
   "mimetype": "text/x-python",
   "name": "python",
   "nbconvert_exporter": "python",
   "pygments_lexer": "ipython3",
   "version": "3.8.5"
  }
 },
 "nbformat": 4,
 "nbformat_minor": 4
}
