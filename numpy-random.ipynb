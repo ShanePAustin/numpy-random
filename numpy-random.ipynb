{
 "cells": [
  {
   "cell_type": "markdown",
   "metadata": {},
   "source": [
    "# The numpy.random package"
   ]
  },
  {
   "cell_type": "markdown",
   "metadata": {},
   "source": [
    "## Overview of the numpy-random package"
   ]
  },
  {
   "cell_type": "markdown",
   "metadata": {},
   "source": [
    "## This Document\n",
    "\n",
    "This notebook is an investigation into random number genration and the functionality of the numpy.random python package, the project brief is outlined below:\n",
    "\n",
    "The following assignment concerns the numpy.random package in Python. You are required to create a Jupyter notebook explaining the use of the package, including detailed explanations of at least five of the distributions provided for in the package.\n",
    "    There are four distinct tasks to be carried out in your Jupyter notebook.\n",
    "    \n",
    "      1. Explain the overall purpose of the package.\n",
    "      2. Explain the use of the “Simple random data” and “Permutations” functions.\n",
    "      3. Explain the use and purpose of at least five “Distributions” functions.\n",
    "      4. Explain the use of seeds in generating pseudorandom numbers.\n",
    "\n",
    "## NumPy\n",
    "\n",
    "NumPy short for Numerical Python is an open source Python Library, consisting of multidimensional array objects and a collection of routines for processing the arrays [1]. It has become the standard for working with numerical data in Python and is used in most fields of science and engineering. The NumPy API is used extensively in other Python libraries such as Pandas, SciPy, Matplotlib, scikit-learn and many other data science packages [2].\n",
    "\n",
    "The NumPy package allows convenient and efficient manipulation of data, especially with the processing of large datasets as NumPy arrays work much faster than the standard Python list structure. The package also includes optimized functions for improved efficiency dealing with complex algebraic operations, this makes programs easier to code, fater to run and more efficient in terms of memory usage. \n",
    "\n",
    "## NumPy.random\n",
    "\n",
    "Random number generation (RNG) is an important aspect of many areas or computing, including crytopgraphy, machine learning, computer simulations and many other applications. RNG is also particularly useful in computer simulations used for tetsing and debugging programs, an example could be the tesitng of sorting algorithms using a series of randomly generated integers.    \n",
    "\n",
    "numpy.random is a sub package of NumPy used fo generating random numbers and utilising statistical probability distrubutions for the replication of \"real-life\" data.\n",
    "\n",
    "    Numpy’s random number routines produce pseudo random numbers using combinations of a BitGenerator to create sequences and a Generator to use those sequences to sample from different statistical distributions:\n",
    "\n",
    "    * BitGenerators: Objects that generate random numbers. These are typically unsigned integer words filled with sequences of either 32 or 64 random bits.\n",
    "\n",
    "    * Generators: Objects that transform sequences of random bits from a BitGenerator into sequences of numbers that follow a specific probability distribution (such as uniform, Normal or Binomial) within a specified interval [5].  \n",
    "\n",
    "-----\n",
    "\n"
   ]
  },
  {
   "cell_type": "markdown",
   "metadata": {},
   "source": [
    "## Modules\n",
    "\n",
    "The libraries below were imported for use within this notebook:"
   ]
  },
  {
   "cell_type": "code",
   "execution_count": 1,
   "metadata": {},
   "outputs": [],
   "source": [
    "#Import Libraries\n",
    "\n",
    "#Import NumPy\n",
    "import numpy as np\n",
    "\n",
    "#Import Matplotlib\n",
    "import matplotlib.pyplot as plt"
   ]
  },
  {
   "cell_type": "code",
   "execution_count": 2,
   "metadata": {},
   "outputs": [
    {
     "name": "stdout",
     "output_type": "stream",
     "text": [
      "0.8594057479249273\n"
     ]
    }
   ],
   "source": [
    "rng = np.random.default_rng()\n",
    "#print(rng)\n",
    "\n",
    "print(rng.random())\n"
   ]
  },
  {
   "cell_type": "markdown",
   "metadata": {},
   "source": [
    "--------\n",
    "## Simple Random Data\n",
    "\n",
    "This section will review the basic functions of RNG within NumPy, the current documentation refers to 4 data types:\n",
    "\n",
    "* Integer\n",
    "* Random\n",
    "* Choice\n",
    "* Bytes"
   ]
  },
  {
   "cell_type": "markdown",
   "metadata": {},
   "source": [
    "### Integers\n",
    "\n",
    "[random.Generator.integers(low, high=None, size=None, dtype=np.int64, endpoint=False)](https://numpy.org/doc/stable/reference/random/generated/numpy.random.Generator.integers.html#numpy.random.Generator.integers)\n",
    "\n",
    "The generation of random integers with a given range and size."
   ]
  },
  {
   "cell_type": "markdown",
   "metadata": {},
   "source": [
    "* The example below generates a random integer between 0-9 (of range 10)"
   ]
  },
  {
   "cell_type": "code",
   "execution_count": 3,
   "metadata": {},
   "outputs": [
    {
     "data": {
      "text/plain": [
       "6"
      ]
     },
     "execution_count": 3,
     "metadata": {},
     "output_type": "execute_result"
    }
   ],
   "source": [
    "rng.integers(10)"
   ]
  },
  {
   "cell_type": "markdown",
   "metadata": {},
   "source": [
    "* The example below is simulating the roll of 10, 6 sided dice, defining the low end and high end of the range as well as the size to the sample."
   ]
  },
  {
   "cell_type": "code",
   "execution_count": 4,
   "metadata": {},
   "outputs": [
    {
     "data": {
      "text/plain": [
       "array([3, 1, 3, 1, 6, 2, 1, 2, 5, 5], dtype=int64)"
      ]
     },
     "execution_count": 4,
     "metadata": {},
     "output_type": "execute_result"
    }
   ],
   "source": [
    "rng.integers(1,7, size=10)"
   ]
  },
  {
   "cell_type": "markdown",
   "metadata": {},
   "source": [
    "* Generate 4 x 4 array of integers between 1 and 6 "
   ]
  },
  {
   "cell_type": "code",
   "execution_count": 5,
   "metadata": {},
   "outputs": [
    {
     "data": {
      "text/plain": [
       "array([[1, 4, 3, 3],\n",
       "       [2, 5, 5, 5],\n",
       "       [5, 5, 5, 1],\n",
       "       [1, 5, 4, 3]], dtype=int64)"
      ]
     },
     "execution_count": 5,
     "metadata": {},
     "output_type": "execute_result"
    }
   ],
   "source": [
    "rng.integers(1, 7, size=(4,4))"
   ]
  },
  {
   "cell_type": "markdown",
   "metadata": {},
   "source": [
    "* The use of endpoint=True makes the range inclusive"
   ]
  },
  {
   "cell_type": "code",
   "execution_count": 6,
   "metadata": {},
   "outputs": [
    {
     "data": {
      "text/plain": [
       "array([[3, 5, 5, 6, 5, 6, 6, 3],\n",
       "       [2, 6, 2, 7, 6, 7, 3, 6],\n",
       "       [2, 2, 6, 6, 3, 5, 5, 6],\n",
       "       [6, 1, 2, 1, 5, 3, 1, 5],\n",
       "       [3, 6, 6, 5, 5, 4, 1, 5],\n",
       "       [5, 1, 4, 1, 2, 4, 2, 6],\n",
       "       [3, 7, 1, 4, 3, 2, 5, 6],\n",
       "       [5, 4, 7, 5, 5, 6, 5, 4]], dtype=int64)"
      ]
     },
     "execution_count": 6,
     "metadata": {},
     "output_type": "execute_result"
    }
   ],
   "source": [
    "rng.integers(1, 7, size=(8,8), endpoint=True )"
   ]
  },
  {
   "cell_type": "markdown",
   "metadata": {},
   "source": [
    "This function produces data using uniform distribution as shown in the plots below: (The higher the sample size the more evident the uniform distribution appears)."
   ]
  },
  {
   "cell_type": "code",
   "execution_count": 7,
   "metadata": {},
   "outputs": [
    {
     "data": {
      "image/png": "[encoded data removed]",
      "text/plain": [
       "<Figure size 432x288 with 1 Axes>"
      ]
     },
     "metadata": {
      "needs_background": "light"
     },
     "output_type": "display_data"
    }
   ],
   "source": [
    "dice = rng.integers(1,7, size = 100)\n",
    "plt.hist(dice)\n",
    "plt.show()"
   ]
  },
  {
   "cell_type": "code",
   "execution_count": 8,
   "metadata": {},
   "outputs": [
    {
     "data": {
      "image/png": "[encoded data removed]",
      "text/plain": [
       "<Figure size 432x288 with 1 Axes>"
      ]
     },
     "metadata": {
      "needs_background": "light"
     },
     "output_type": "display_data"
    }
   ],
   "source": [
    "dice = rng.integers(1,7, size = 100000)\n",
    "plt.hist(dice)\n",
    "plt.show()"
   ]
  },
  {
   "cell_type": "markdown",
   "metadata": {},
   "source": []
  },
  {
   "cell_type": "code",
   "execution_count": null,
   "metadata": {},
   "outputs": [],
   "source": []
  },
  {
   "cell_type": "markdown",
   "metadata": {},
   "source": [
    "### Random\n",
    "\n",
    "[random.Generator.random(size=None, dtype=np.float64, out=None)](https://numpy.org/doc/stable/reference/random/generated/numpy.random.Generator.random.html#numpy.random.Generator.random)\n",
    "\n",
    "The generation of random floats with a given range and size."
   ]
  },
  {
   "cell_type": "markdown",
   "metadata": {},
   "source": [
    "Generate 10 random floats between 0-1"
   ]
  },
  {
   "cell_type": "code",
   "execution_count": 9,
   "metadata": {},
   "outputs": [
    {
     "data": {
      "text/plain": [
       "array([0.88943866, 0.08858206, 0.78845926, 0.70444571, 0.33507571,\n",
       "       0.06316305, 0.67271079, 0.00342085, 0.73619416, 0.4437888 ])"
      ]
     },
     "execution_count": 9,
     "metadata": {},
     "output_type": "execute_result"
    }
   ],
   "source": [
    "rng.random(10)"
   ]
  },
  {
   "cell_type": "code",
   "execution_count": 10,
   "metadata": {},
   "outputs": [
    {
     "data": {
      "text/plain": [
       "array([[0.52134162, 0.6277859 ],\n",
       "       [0.9797991 , 0.77837907],\n",
       "       [0.16738202, 0.08113713],\n",
       "       [0.09703439, 0.08017772],\n",
       "       [0.6972875 , 0.03805617],\n",
       "       [0.59787379, 0.5743508 ],\n",
       "       [0.37528939, 0.13105683],\n",
       "       [0.95866592, 0.99683469],\n",
       "       [0.69511898, 0.86972799],\n",
       "       [0.97657379, 0.78839309]])"
      ]
     },
     "execution_count": 10,
     "metadata": {},
     "output_type": "execute_result"
    }
   ],
   "source": [
    "rng.random((10,2))"
   ]
  },
  {
   "cell_type": "code",
   "execution_count": 11,
   "metadata": {},
   "outputs": [
    {
     "data": {
      "text/plain": [
       "array([[0.27129927, 0.23690461, 0.96721918, 0.02472172, 0.3413533 ,\n",
       "        0.13921529, 0.82409832, 0.50850597, 0.8125242 , 0.78932064],\n",
       "       [0.94703946, 0.94551242, 0.80791959, 0.1259819 , 0.12859595,\n",
       "        0.74635243, 0.36748151, 0.32910896, 0.79620319, 0.3389724 ]])"
      ]
     },
     "execution_count": 11,
     "metadata": {},
     "output_type": "execute_result"
    }
   ],
   "source": [
    "rng.random((2,10))"
   ]
  },
  {
   "cell_type": "code",
   "execution_count": 12,
   "metadata": {},
   "outputs": [
    {
     "data": {
      "text/plain": [
       "array([[2.65100331, 2.69972469],\n",
       "       [2.7329514 , 2.84134759],\n",
       "       [2.95695685, 2.33311109],\n",
       "       [2.19371088, 2.81645316],\n",
       "       [2.24150749, 2.5551724 ]])"
      ]
     },
     "execution_count": 12,
     "metadata": {},
     "output_type": "execute_result"
    }
   ],
   "source": [
    "rng.random((5,2)) +2"
   ]
  },
  {
   "cell_type": "code",
   "execution_count": null,
   "metadata": {},
   "outputs": [],
   "source": []
  },
  {
   "cell_type": "markdown",
   "metadata": {},
   "source": [
    "### Choice\n",
    "\n",
    "[random.Generator.choice(a, size=None, replace=True, p=None, axis=0, shuffle=True)](https://numpy.org/doc/stable/reference/random/generated/numpy.random.Generator.choice.html#numpy.random.Generator.choice)\n",
    "\n",
    "\n",
    "\n",
    "Can set probabilities of a given array\n",
    "\n"
   ]
  },
  {
   "cell_type": "code",
   "execution_count": 13,
   "metadata": {},
   "outputs": [
    {
     "data": {
      "text/plain": [
       "array([4, 0, 2, 2, 1, 2], dtype=int64)"
      ]
     },
     "execution_count": 13,
     "metadata": {},
     "output_type": "execute_result"
    }
   ],
   "source": [
    "rng.choice(6,6)"
   ]
  },
  {
   "cell_type": "code",
   "execution_count": 33,
   "metadata": {},
   "outputs": [
    {
     "data": {
      "text/plain": [
       "array([2, 4, 1, 3, 0, 5], dtype=int64)"
      ]
     },
     "execution_count": 33,
     "metadata": {},
     "output_type": "execute_result"
    }
   ],
   "source": [
    "rng.choice(6,6, replace=False)"
   ]
  },
  {
   "cell_type": "code",
   "execution_count": 15,
   "metadata": {},
   "outputs": [
    {
     "data": {
      "text/plain": [
       "array([2, 1, 4, 1, 1, 1, 4, 2, 1, 2, 1, 4, 1, 1, 1, 2, 1, 1, 5, 1, 1, 1,\n",
       "       1, 5, 1], dtype=int64)"
      ]
     },
     "execution_count": 15,
     "metadata": {},
     "output_type": "execute_result"
    }
   ],
   "source": [
    "rng.choice(6,25, p= [0, 0.5, 0.2, 0, 0.2, 0.1])"
   ]
  },
  {
   "cell_type": "code",
   "execution_count": 16,
   "metadata": {},
   "outputs": [
    {
     "data": {
      "image/png": "[encoded data removed]",
      "text/plain": [
       "<Figure size 432x288 with 1 Axes>"
      ]
     },
     "metadata": {
      "needs_background": "light"
     },
     "output_type": "display_data"
    }
   ],
   "source": [
    "dice = rng.choice(6,10000)\n",
    "plt.hist(dice)\n",
    "plt.show()"
   ]
  },
  {
   "cell_type": "code",
   "execution_count": 17,
   "metadata": {},
   "outputs": [
    {
     "data": {
      "image/png": "[encoded data removed]",
      "text/plain": [
       "<Figure size 432x288 with 1 Axes>"
      ]
     },
     "metadata": {
      "needs_background": "light"
     },
     "output_type": "display_data"
    }
   ],
   "source": [
    "dice = rng.choice(6,10000, p= [0.1, 0.4, 0.2, 0, 0.2, 0.1])\n",
    "plt.hist(dice)\n",
    "plt.show()"
   ]
  },
  {
   "cell_type": "code",
   "execution_count": 18,
   "metadata": {},
   "outputs": [
    {
     "data": {
      "image/png": "[encoded data removed]",
      "text/plain": [
       "<Figure size 432x288 with 1 Axes>"
      ]
     },
     "metadata": {
      "needs_background": "light"
     },
     "output_type": "display_data"
    }
   ],
   "source": [
    "colour = [\"red\", \"orange\", \"yellow\", \"green\", \"blue\", \"indigo\", \"violet\"]\n",
    "rainbow = rng.choice(colour,10000, p= [0.1, 0.3, 0.2, 0, 0.2, 0.1, 0.1])\n",
    "plt.hist(rainbow)\n",
    "plt.show()"
   ]
  },
  {
   "cell_type": "markdown",
   "metadata": {},
   "source": [
    "### Bytes\n",
    "\n",
    "[random.Generator.bytes(length)](https://numpy.org/doc/stable/reference/random/generated/numpy.random.Generator.bytes.html#numpy.random.Generator.bytes)\n",
    "\n",
    "Return Random bytes\n",
    "\n"
   ]
  },
  {
   "cell_type": "code",
   "execution_count": 19,
   "metadata": {},
   "outputs": [
    {
     "data": {
      "text/plain": [
       "b'\\xf3\\xd5\\x17\\x1c\\x83'"
      ]
     },
     "execution_count": 19,
     "metadata": {},
     "output_type": "execute_result"
    }
   ],
   "source": [
    "rng.bytes(5)"
   ]
  },
  {
   "cell_type": "code",
   "execution_count": 20,
   "metadata": {},
   "outputs": [
    {
     "data": {
      "text/plain": [
       "b'N\\xc2k\\xb1\\xc2l\\xc3{\\xdb\\xe0N\\x85\\xbe\\x0bOOi\\xd74\\x05\\xff5\\xdf\\nTN\\x9e\\xc1\\x12.V\\x94\\xe8\\x967\\x96\\xda\\xf53N\\x05\\xa0}\\xb9O\\xdb\\xd2LyC'"
      ]
     },
     "execution_count": 20,
     "metadata": {},
     "output_type": "execute_result"
    }
   ],
   "source": [
    "rng.bytes(50)"
   ]
  },
  {
   "cell_type": "markdown",
   "metadata": {},
   "source": [
    "## Permutations\n",
    "\n",
    ">\"In mathematics, a permutation of a set is, loosely speaking, an arrangement of its members into a sequence or linear order, or if the set is already ordered, a rearrangement of its elements. The word \"permutation\" also refers to the act or process of changing the linear order of an ordered set\" [6].\n",
    "        \n",
    "Numpy.random allows for the modification of the sequence of arrays using the following functions:\n",
    "\n",
    "* Shuffle\n",
    "* Permutation\n",
    "* Permuted\n"
   ]
  },
  {
   "cell_type": "markdown",
   "metadata": {},
   "source": [
    "### Shuffle\n",
    "\n",
    "[random.Generator.shuffle(x, axis=0)](https://numpy.org/doc/stable/reference/random/generated/numpy.random.Generator.shuffle.html#numpy.random.Generator.shuffle)\n",
    "\n",
    "Modify an array or sequence in-place by shuffling its contents.\n",
    "\n",
    "The order of sub-arrays is changed but their contents remains the same."
   ]
  },
  {
   "cell_type": "code",
   "execution_count": 21,
   "metadata": {},
   "outputs": [
    {
     "name": "stdout",
     "output_type": "stream",
     "text": [
      "[0 4 1 1 5 1 0 8 2 9]\n"
     ]
    },
    {
     "data": {
      "text/plain": [
       "array([8, 5, 0, 1, 4, 1, 2, 9, 1, 0], dtype=int64)"
      ]
     },
     "execution_count": 21,
     "metadata": {},
     "output_type": "execute_result"
    }
   ],
   "source": [
    "arr = rng.integers(10, size=10)\n",
    "print(arr)\n",
    "rng.shuffle(arr)\n",
    "arr"
   ]
  },
  {
   "cell_type": "code",
   "execution_count": null,
   "metadata": {},
   "outputs": [],
   "source": []
  },
  {
   "cell_type": "code",
   "execution_count": null,
   "metadata": {},
   "outputs": [],
   "source": [
    "\n"
   ]
  },
  {
   "cell_type": "code",
   "execution_count": 56,
   "metadata": {},
   "outputs": [
    {
     "data": {
      "text/plain": [
       "[('2', 'Clubs'),\n",
       " ('3', 'Clubs'),\n",
       " ('4', 'Clubs'),\n",
       " ('5', 'Clubs'),\n",
       " ('6', 'Clubs'),\n",
       " ('7', 'Clubs'),\n",
       " ('8', 'Clubs'),\n",
       " ('9', 'Clubs'),\n",
       " ('10', 'Clubs'),\n",
       " ('J', 'Clubs'),\n",
       " ('Q', 'Clubs'),\n",
       " ('K', 'Clubs'),\n",
       " ('A', 'Clubs'),\n",
       " ('2', 'Hearts'),\n",
       " ('3', 'Hearts'),\n",
       " ('4', 'Hearts'),\n",
       " ('5', 'Hearts'),\n",
       " ('6', 'Hearts'),\n",
       " ('7', 'Hearts'),\n",
       " ('8', 'Hearts'),\n",
       " ('9', 'Hearts'),\n",
       " ('10', 'Hearts'),\n",
       " ('J', 'Hearts'),\n",
       " ('Q', 'Hearts'),\n",
       " ('K', 'Hearts'),\n",
       " ('A', 'Hearts'),\n",
       " ('2', 'Spades'),\n",
       " ('3', 'Spades'),\n",
       " ('4', 'Spades'),\n",
       " ('5', 'Spades'),\n",
       " ('6', 'Spades'),\n",
       " ('7', 'Spades'),\n",
       " ('8', 'Spades'),\n",
       " ('9', 'Spades'),\n",
       " ('10', 'Spades'),\n",
       " ('J', 'Spades'),\n",
       " ('Q', 'Spades'),\n",
       " ('K', 'Spades'),\n",
       " ('A', 'Spades'),\n",
       " ('2', 'Diamonds'),\n",
       " ('3', 'Diamonds'),\n",
       " ('4', 'Diamonds'),\n",
       " ('5', 'Diamonds'),\n",
       " ('6', 'Diamonds'),\n",
       " ('7', 'Diamonds'),\n",
       " ('8', 'Diamonds'),\n",
       " ('9', 'Diamonds'),\n",
       " ('10', 'Diamonds'),\n",
       " ('J', 'Diamonds'),\n",
       " ('Q', 'Diamonds'),\n",
       " ('K', 'Diamonds'),\n",
       " ('A', 'Diamonds')]"
      ]
     },
     "execution_count": 56,
     "metadata": {},
     "output_type": "execute_result"
    }
   ],
   "source": [
    "suits = [\"Clubs\", \"Hearts\", \"Spades\", \"Diamonds\"]\n",
    "faces = [\"2\", \"3\", \"4\", \"5\", \"6\", \"7\", \"8\", \"9\", \"10\", \"J\", \"Q\", \"K\", \"A\"]\n",
    "\n",
    "deck = []\n",
    "for suit in suits:\n",
    "    for face in faces:\n",
    "        deck.append((face, suit))\n",
    "deck\n"
   ]
  },
  {
   "cell_type": "code",
   "execution_count": 57,
   "metadata": {},
   "outputs": [
    {
     "name": "stdout",
     "output_type": "stream",
     "text": [
      "------------------\n"
     ]
    },
    {
     "data": {
      "text/plain": [
       "[('J', 'Diamonds'),\n",
       " ('2', 'Spades'),\n",
       " ('8', 'Spades'),\n",
       " ('8', 'Diamonds'),\n",
       " ('K', 'Clubs'),\n",
       " ('8', 'Clubs'),\n",
       " ('4', 'Diamonds'),\n",
       " ('10', 'Clubs'),\n",
       " ('9', 'Clubs'),\n",
       " ('5', 'Spades'),\n",
       " ('3', 'Spades'),\n",
       " ('3', 'Clubs'),\n",
       " ('10', 'Spades'),\n",
       " ('6', 'Spades'),\n",
       " ('K', 'Spades'),\n",
       " ('2', 'Diamonds'),\n",
       " ('6', 'Diamonds'),\n",
       " ('A', 'Diamonds'),\n",
       " ('4', 'Spades'),\n",
       " ('4', 'Hearts'),\n",
       " ('6', 'Hearts'),\n",
       " ('5', 'Hearts'),\n",
       " ('Q', 'Hearts'),\n",
       " ('5', 'Diamonds'),\n",
       " ('9', 'Spades'),\n",
       " ('7', 'Diamonds'),\n",
       " ('J', 'Clubs'),\n",
       " ('9', 'Diamonds'),\n",
       " ('J', 'Hearts'),\n",
       " ('6', 'Clubs'),\n",
       " ('10', 'Hearts'),\n",
       " ('K', 'Diamonds'),\n",
       " ('A', 'Hearts'),\n",
       " ('7', 'Hearts'),\n",
       " ('Q', 'Clubs'),\n",
       " ('2', 'Clubs'),\n",
       " ('8', 'Hearts'),\n",
       " ('7', 'Clubs'),\n",
       " ('Q', 'Diamonds'),\n",
       " ('2', 'Hearts'),\n",
       " ('10', 'Diamonds'),\n",
       " ('9', 'Hearts'),\n",
       " ('Q', 'Spades'),\n",
       " ('7', 'Spades'),\n",
       " ('3', 'Diamonds'),\n",
       " ('A', 'Clubs'),\n",
       " ('K', 'Hearts'),\n",
       " ('5', 'Clubs'),\n",
       " ('J', 'Spades'),\n",
       " ('A', 'Spades'),\n",
       " ('3', 'Hearts'),\n",
       " ('4', 'Clubs')]"
      ]
     },
     "execution_count": 57,
     "metadata": {},
     "output_type": "execute_result"
    }
   ],
   "source": [
    "rng.shuffle(deck)\n",
    "print(\"------------------\")\n",
    "deck"
   ]
  },
  {
   "cell_type": "code",
   "execution_count": 59,
   "metadata": {},
   "outputs": [
    {
     "data": {
      "text/plain": [
       "[('J', 'Diamonds'),\n",
       " ('2', 'Spades'),\n",
       " ('8', 'Spades'),\n",
       " ('8', 'Diamonds'),\n",
       " ('K', 'Clubs'),\n",
       " ('8', 'Clubs')]"
      ]
     },
     "execution_count": 59,
     "metadata": {},
     "output_type": "execute_result"
    }
   ],
   "source": [
    "hand = deck[0:6]\n",
    "hand"
   ]
  },
  {
   "cell_type": "markdown",
   "metadata": {},
   "source": [
    "### Permutation"
   ]
  },
  {
   "cell_type": "code",
   "execution_count": 67,
   "metadata": {},
   "outputs": [
    {
     "data": {
      "text/plain": [
       "array([[39, 40, 41, 42, 43, 44, 45, 46, 47, 48, 49, 50, 51],\n",
       "       [13, 14, 15, 16, 17, 18, 19, 20, 21, 22, 23, 24, 25],\n",
       "       [ 0,  1,  2,  3,  4,  5,  6,  7,  8,  9, 10, 11, 12],\n",
       "       [26, 27, 28, 29, 30, 31, 32, 33, 34, 35, 36, 37, 38]])"
      ]
     },
     "execution_count": 67,
     "metadata": {},
     "output_type": "execute_result"
    }
   ],
   "source": []
  },
  {
   "cell_type": "markdown",
   "metadata": {},
   "source": [
    "### Permuted"
   ]
  },
  {
   "cell_type": "markdown",
   "metadata": {},
   "source": [
    "## Distrubutions"
   ]
  },
  {
   "cell_type": "markdown",
   "metadata": {},
   "source": [
    "### Uniform"
   ]
  },
  {
   "cell_type": "markdown",
   "metadata": {},
   "source": [
    "### Normal"
   ]
  },
  {
   "cell_type": "markdown",
   "metadata": {},
   "source": [
    "### Standard-t"
   ]
  },
  {
   "cell_type": "markdown",
   "metadata": {},
   "source": [
    "### Chi-Squared"
   ]
  },
  {
   "cell_type": "markdown",
   "metadata": {},
   "source": [
    "### Poisson"
   ]
  },
  {
   "cell_type": "markdown",
   "metadata": {},
   "source": [
    "## Seeds"
   ]
  },
  {
   "cell_type": "markdown",
   "metadata": {},
   "source": [
    "## References\n",
    "\n",
    "[2]. https://numpy.org/doc/stable/user/absolute_beginners.html\n",
    "\n",
    "[1] https://www.mygreatlearning.com/blog/python-numpy-tutorial/\n",
    "\n",
    "https://numpy.org/doc/stable/user/whatisnumpy.html\n",
    "\n",
    "https://numpy.org/doc/stable/reference/random/generator.html\n",
    "\n",
    "https://machinelearningmastery.com/statistical-data-distributions/\n",
    "\n",
    "[5] https://numpy.org/doc/stable/reference/random/index.html\n",
    "\n",
    "[6] https://en.wikipedia.org/wiki/Permutation"
   ]
  },
  {
   "cell_type": "code",
   "execution_count": null,
   "metadata": {},
   "outputs": [],
   "source": []
  }
 ],
 "metadata": {
  "kernelspec": {
   "display_name": "Python 3",
   "language": "python",
   "name": "python3"
  },
  "language_info": {
   "codemirror_mode": {
    "name": "ipython",
    "version": 3
   },
   "file_extension": ".py",
   "mimetype": "text/x-python",
   "name": "python",
   "nbconvert_exporter": "python",
   "pygments_lexer": "ipython3",
   "version": "3.8.5"
  }
 },
 "nbformat": 4,
 "nbformat_minor": 4
}
