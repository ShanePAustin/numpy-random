{
 "cells": [
  {
   "cell_type": "markdown",
   "metadata": {},
   "source": [
    "# The numpy.random package"
   ]
  },
  {
   "cell_type": "markdown",
   "metadata": {},
   "source": [
    "## Overview of the numpy-random package"
   ]
  },
  {
   "cell_type": "markdown",
   "metadata": {},
   "source": [
    "## This Document\n",
    "\n",
    "This notebook is an investigation into random number genration and the functionality of the numpy.random python package, the project brief is outlined below:\n",
    "\n",
    "The following assignment concerns the numpy.random package in Python. You are required to create a Jupyter notebook explaining the use of the package, including detailed explanations of at least five of the distributions provided for in the package.\n",
    "    There are four distinct tasks to be carried out in your Jupyter notebook.\n",
    "    \n",
    "      1. Explain the overall purpose of the package.\n",
    "      2. Explain the use of the “Simple random data” and “Permutations” functions.\n",
    "      3. Explain the use and purpose of at least five “Distributions” functions.\n",
    "      4. Explain the use of seeds in generating pseudorandom numbers.\n",
    "\n",
    "## NumPy\n",
    "\n",
    "NumPy short for Numerical Python is an open source Python Library, consisting of multidimensional array objects and a collection of routines for processing the arrays [1]. It has become the standard for working with numerical data in Python and is used in most fields of science and engineering. The NumPy API is used extensively in other Python libraries such as Pandas, SciPy, Matplotlib, scikit-learn and many other data science packages [2].\n",
    "\n",
    "The NumPy package allows convenient and efficient manipulation of data, especially with the processing of large datasets as NumPy arrays work much faster than the standard Python list structure. The package also includes optimized functions for improved efficiency dealing with complex algebraic operations, this makes programs easier to code, fater to run and more efficient in terms of memory usage. \n",
    "\n",
    "## NumPy.random\n",
    "\n",
    "Random number generation (RNG) is an important aspect of many areas or computing, including crytopgraphy, machine learning, computer simulations and many other applications. RNG is also particularly useful in computer simulations used for tetsing and debugging programs, an example could be the tesitng of sorting algorithms using a series of randomly generated integers.    \n",
    "\n",
    "numpy.random is a sub package of NumPy used fo generating random numbers and utilising statistical probability distrubutions for the replication of \"real-life\" data.\n",
    "\n",
    "    Numpy’s random number routines produce pseudo random numbers using combinations of a BitGenerator to create sequences and a Generator to use those sequences to sample from different statistical distributions:\n",
    "\n",
    "    * BitGenerators: Objects that generate random numbers. These are typically unsigned integer words filled with sequences of either 32 or 64 random bits.\n",
    "\n",
    "    * Generators: Objects that transform sequences of random bits from a BitGenerator into sequences of numbers that follow a specific probability distribution (such as uniform, Normal or Binomial) within a specified interval [5].  \n",
    "\n",
    "-----\n",
    "\n"
   ]
  },
  {
   "cell_type": "markdown",
   "metadata": {},
   "source": [
    "## Modules\n",
    "\n",
    "The libraries below were imported for use within this notebook:"
   ]
  },
  {
   "cell_type": "code",
   "execution_count": 1,
   "metadata": {},
   "outputs": [],
   "source": [
    "#Import Libraries\n",
    "\n",
    "#Import NumPy\n",
    "import numpy as np\n",
    "\n",
    "#Import Matplotlib\n",
    "import matplotlib.pyplot as plt"
   ]
  },
  {
   "cell_type": "code",
   "execution_count": 2,
   "metadata": {},
   "outputs": [
    {
     "name": "stdout",
     "output_type": "stream",
     "text": [
      "0.005791885230323701\n"
     ]
    }
   ],
   "source": [
    "#creating a variable for Random Number Generation\n",
    "rng = np.random.default_rng()\n",
    "\n",
    "#test the variable\n",
    "print(rng.random())"
   ]
  },
  {
   "cell_type": "markdown",
   "metadata": {},
   "source": [
    "--------\n",
    "## Simple Random Data\n",
    "\n",
    "This section will review the basic functions of RNG within NumPy, the current documentation refers to 4 data types:\n",
    "\n",
    "* Integer\n",
    "* Random\n",
    "* Choice\n",
    "* Bytes"
   ]
  },
  {
   "cell_type": "markdown",
   "metadata": {},
   "source": [
    "### Integers\n",
    "\n",
    "[random.Generator.integers(low, high=None, size=None, dtype=np.int64, endpoint=False)](https://numpy.org/doc/stable/reference/random/generated/numpy.random.Generator.integers.html#numpy.random.Generator.integers)\n",
    "\n",
    "The generation of random integers with a given range and size."
   ]
  },
  {
   "cell_type": "markdown",
   "metadata": {},
   "source": [
    "* The example below generates a random integer between 0-9 (of range 10)"
   ]
  },
  {
   "cell_type": "code",
   "execution_count": 3,
   "metadata": {},
   "outputs": [
    {
     "data": {
      "text/plain": [
       "8"
      ]
     },
     "execution_count": 3,
     "metadata": {},
     "output_type": "execute_result"
    }
   ],
   "source": [
    "#Generate an integer between 0-9\n",
    "rng.integers(10)"
   ]
  },
  {
   "cell_type": "markdown",
   "metadata": {},
   "source": [
    "* The example below is simulating the roll of 10, 6 sided dice, defining the low end and high end of the range as well as the size to the sample."
   ]
  },
  {
   "cell_type": "code",
   "execution_count": 4,
   "metadata": {},
   "outputs": [
    {
     "data": {
      "text/plain": [
       "array([4, 6, 6, 2, 1, 6, 1, 3, 3, 6], dtype=int64)"
      ]
     },
     "execution_count": 4,
     "metadata": {},
     "output_type": "execute_result"
    }
   ],
   "source": [
    "#Roll 10 dice\n",
    "#Generate 10 ranmdom integers between 1-6\n",
    "rng.integers(1,7, size=10)"
   ]
  },
  {
   "cell_type": "markdown",
   "metadata": {},
   "source": [
    "* Generate 4 x 4 array of integers between 1 and 6 "
   ]
  },
  {
   "cell_type": "code",
   "execution_count": 5,
   "metadata": {},
   "outputs": [
    {
     "data": {
      "text/plain": [
       "array([[5, 5, 6, 1],\n",
       "       [3, 4, 4, 4],\n",
       "       [3, 3, 6, 1],\n",
       "       [2, 3, 5, 6]], dtype=int64)"
      ]
     },
     "execution_count": 5,
     "metadata": {},
     "output_type": "execute_result"
    }
   ],
   "source": [
    "#Generate 4 arrays of 4 random numbers between 1-6\n",
    "rng.integers(1, 7, size=(4,4))"
   ]
  },
  {
   "cell_type": "markdown",
   "metadata": {},
   "source": [
    "* The use of endpoint=True makes the range inclusive"
   ]
  },
  {
   "cell_type": "code",
   "execution_count": 6,
   "metadata": {},
   "outputs": [
    {
     "data": {
      "text/plain": [
       "array([[2, 2, 1, 1, 4, 7, 4, 5],\n",
       "       [2, 1, 6, 1, 2, 1, 4, 5],\n",
       "       [3, 7, 3, 1, 5, 6, 1, 6],\n",
       "       [7, 4, 5, 6, 3, 7, 3, 4],\n",
       "       [6, 6, 7, 4, 7, 1, 2, 6],\n",
       "       [1, 1, 1, 7, 4, 4, 6, 1],\n",
       "       [5, 3, 7, 5, 2, 6, 7, 4],\n",
       "       [5, 5, 5, 3, 5, 1, 3, 1]], dtype=int64)"
      ]
     },
     "execution_count": 6,
     "metadata": {},
     "output_type": "execute_result"
    }
   ],
   "source": [
    "#Generate 8 arrays of 8 random numbers between 1-7\n",
    "#\"endpoint=True\" makes the range inclusive\n",
    "rng.integers(1, 7, size=(8,8), endpoint=True )"
   ]
  },
  {
   "cell_type": "markdown",
   "metadata": {},
   "source": [
    "This function produces data using uniform distribution as shown in the plots below: (The higher the sample size the more evident the uniform distribution appears)."
   ]
  },
  {
   "cell_type": "code",
   "execution_count": 7,
   "metadata": {},
   "outputs": [
    {
     "data": {
      "image/png": "[encoded data removed]",
      "text/plain": [
       "<Figure size 432x288 with 1 Axes>"
      ]
     },
     "metadata": {
      "needs_background": "light"
     },
     "output_type": "display_data"
    }
   ],
   "source": [
    "#Replicate the roll of 100 dice\n",
    "dice = rng.integers(1,7, size = 100)\n",
    "#Plot histogram of the results\n",
    "plt.hist(dice)\n",
    "plt.show()"
   ]
  },
  {
   "cell_type": "markdown",
   "metadata": {},
   "source": [
    "Clearly show the uniform distrubution of the number generation"
   ]
  },
  {
   "cell_type": "code",
   "execution_count": 8,
   "metadata": {},
   "outputs": [
    {
     "data": {
      "image/png": "[encoded data removed]",
      "text/plain": [
       "<Figure size 432x288 with 1 Axes>"
      ]
     },
     "metadata": {
      "needs_background": "light"
     },
     "output_type": "display_data"
    }
   ],
   "source": [
    "#Replicate the roll of 100000 dice\n",
    "dice = rng.integers(1,7, size = 100000)\n",
    "plt.hist(dice)\n",
    "plt.show()"
   ]
  },
  {
   "cell_type": "markdown",
   "metadata": {},
   "source": []
  },
  {
   "cell_type": "code",
   "execution_count": null,
   "metadata": {},
   "outputs": [],
   "source": []
  },
  {
   "cell_type": "markdown",
   "metadata": {},
   "source": [
    "### Random\n",
    "\n",
    "[random.Generator.random(size=None, dtype=np.float64, out=None)](https://numpy.org/doc/stable/reference/random/generated/numpy.random.Generator.random.html#numpy.random.Generator.random)\n",
    "\n",
    "The generation of random floats with a given range and size."
   ]
  },
  {
   "cell_type": "markdown",
   "metadata": {},
   "source": [
    "Generate 10 random floats between 0-1"
   ]
  },
  {
   "cell_type": "code",
   "execution_count": 9,
   "metadata": {},
   "outputs": [
    {
     "data": {
      "text/plain": [
       "array([0.70746924, 0.96263832, 0.7751974 , 0.30740097, 0.5397155 ,\n",
       "       0.10397671, 0.01529783, 0.07909905, 0.40096386, 0.65993257])"
      ]
     },
     "execution_count": 9,
     "metadata": {},
     "output_type": "execute_result"
    }
   ],
   "source": [
    "#Generate 10 random floats between 0-1\n",
    "rng.random(10)"
   ]
  },
  {
   "cell_type": "code",
   "execution_count": 10,
   "metadata": {},
   "outputs": [
    {
     "data": {
      "text/plain": [
       "array([[0.60306056, 0.83297785],\n",
       "       [0.26549102, 0.65859324],\n",
       "       [0.04944009, 0.10769709],\n",
       "       [0.07223797, 0.81579401],\n",
       "       [0.70429274, 0.9641831 ],\n",
       "       [0.02748204, 0.19804364],\n",
       "       [0.20526286, 0.81690246],\n",
       "       [0.26113009, 0.69707853],\n",
       "       [0.26956123, 0.03120099],\n",
       "       [0.85047105, 0.96704537]])"
      ]
     },
     "execution_count": 10,
     "metadata": {},
     "output_type": "execute_result"
    }
   ],
   "source": [
    "#Generate 10 arrays of 2 random floats between 0-1\n",
    "rng.random((10,2))"
   ]
  },
  {
   "cell_type": "code",
   "execution_count": 11,
   "metadata": {},
   "outputs": [
    {
     "data": {
      "text/plain": [
       "array([[0.52908683, 0.79910632, 0.92001607, 0.75415046, 0.24828525,\n",
       "        0.22780229, 0.2403411 , 0.39524383, 0.66831909, 0.3451018 ],\n",
       "       [0.0331023 , 0.26835007, 0.17655751, 0.74219815, 0.46320434,\n",
       "        0.97108542, 0.64609209, 0.76634327, 0.94451949, 0.84353311]])"
      ]
     },
     "execution_count": 11,
     "metadata": {},
     "output_type": "execute_result"
    }
   ],
   "source": [
    "#Generate 2 arrays of 10 random floats between 0-1\n",
    "rng.random((2,10))"
   ]
  },
  {
   "cell_type": "code",
   "execution_count": 12,
   "metadata": {},
   "outputs": [
    {
     "data": {
      "text/plain": [
       "array([[2.24827606, 2.15572753],\n",
       "       [2.687549  , 2.96176058],\n",
       "       [2.22630922, 2.2419247 ],\n",
       "       [2.08689554, 2.6860195 ],\n",
       "       [2.78612588, 2.68835535]])"
      ]
     },
     "execution_count": 12,
     "metadata": {},
     "output_type": "execute_result"
    }
   ],
   "source": [
    "#Generate 5 arrays of 2 random floats between 2-3\n",
    "#+2 increases the range bounds from 0-1 to 2-3\n",
    "rng.random((5,2)) + 2"
   ]
  },
  {
   "cell_type": "code",
   "execution_count": null,
   "metadata": {},
   "outputs": [],
   "source": []
  },
  {
   "cell_type": "markdown",
   "metadata": {},
   "source": [
    "### Choice\n",
    "\n",
    "[random.Generator.choice(a, size=None, replace=True, p=None, axis=0, shuffle=True)](https://numpy.org/doc/stable/reference/random/generated/numpy.random.Generator.choice.html#numpy.random.Generator.choice)\n",
    "\n",
    "\n",
    "\n",
    "Can set probabilities of a given array\n",
    "\n"
   ]
  },
  {
   "cell_type": "code",
   "execution_count": 13,
   "metadata": {},
   "outputs": [
    {
     "data": {
      "text/plain": [
       "array([3, 1, 2, 3, 3, 0], dtype=int64)"
      ]
     },
     "execution_count": 13,
     "metadata": {},
     "output_type": "execute_result"
    }
   ],
   "source": [
    "#Generate 6 integers between 0-5\n",
    "rng.choice(6,6)"
   ]
  },
  {
   "cell_type": "code",
   "execution_count": 14,
   "metadata": {},
   "outputs": [
    {
     "data": {
      "text/plain": [
       "array([5, 2, 3, 1, 4, 0], dtype=int64)"
      ]
     },
     "execution_count": 14,
     "metadata": {},
     "output_type": "execute_result"
    }
   ],
   "source": [
    "#\"replace=False\" means no duplicates are allowed\n",
    "rng.choice(6,6, replace=False)"
   ]
  },
  {
   "cell_type": "markdown",
   "metadata": {},
   "source": [
    "The probablities of each element being generated can be altered"
   ]
  },
  {
   "cell_type": "code",
   "execution_count": 15,
   "metadata": {},
   "outputs": [
    {
     "data": {
      "text/plain": [
       "array([1, 4, 2, 5, 4, 1, 1, 1, 4, 1, 4, 1, 1, 1, 1, 2, 4, 2, 4, 2, 2, 1,\n",
       "       5, 1, 1], dtype=int64)"
      ]
     },
     "execution_count": 15,
     "metadata": {},
     "output_type": "execute_result"
    }
   ],
   "source": [
    "#The chances of each element appearing can be changed with p=[]\n",
    "#This generates 25 integers between 0-5 \n",
    "#with 0-50% chance of certain numbers appearing\n",
    "rng.choice(6,25, p= [0, 0.5, 0.2, 0, 0.2, 0.1])"
   ]
  },
  {
   "cell_type": "markdown",
   "metadata": {},
   "source": [
    "The altered probablities can be seen in the following 2 plots, the first displaying a uniform distrubution and the second shows the affect of adjusted probabilities."
   ]
  },
  {
   "cell_type": "code",
   "execution_count": 16,
   "metadata": {},
   "outputs": [
    {
     "data": {
      "image/png": "[encoded data removed]",
      "text/plain": [
       "<Figure size 432x288 with 1 Axes>"
      ]
     },
     "metadata": {
      "needs_background": "light"
     },
     "output_type": "display_data"
    }
   ],
   "source": [
    "#Generate 100000 numbers from 0-9\n",
    "arr = rng.choice((10),100000)\n",
    "#Plot the Histogram\n",
    "plt.hist(arr)\n",
    "plt.show()"
   ]
  },
  {
   "cell_type": "code",
   "execution_count": 17,
   "metadata": {},
   "outputs": [
    {
     "data": {
      "image/png": "[encoded data removed]",
      "text/plain": [
       "<Figure size 432x288 with 1 Axes>"
      ]
     },
     "metadata": {
      "needs_background": "light"
     },
     "output_type": "display_data"
    }
   ],
   "source": [
    "#Generates 100,000 integers between 0-9 with probabilties between 0-40%\n",
    "arr = rng.choice(10,100000, p= [0.05, 0.4, 0.1, 0, 0.01, 0.1, 0.04, 0.2, 0.08, 0.02])\n",
    "#Plot the Histogram\n",
    "plt.hist(arr)\n",
    "plt.show()"
   ]
  },
  {
   "cell_type": "markdown",
   "metadata": {},
   "source": [
    "Choice can be used on arrays of strings."
   ]
  },
  {
   "cell_type": "code",
   "execution_count": 18,
   "metadata": {},
   "outputs": [
    {
     "data": {
      "image/png": "[encoded data removed]",
      "text/plain": [
       "<Figure size 432x288 with 1 Axes>"
      ]
     },
     "metadata": {
      "needs_background": "light"
     },
     "output_type": "display_data"
    }
   ],
   "source": [
    "#Create an array of colours\n",
    "colour = [\"red\", \"orange\", \"yellow\", \"green\", \"blue\", \"indigo\", \"violet\"]\n",
    "#Alter the probabilites of the colours appearing\n",
    "rainbow = rng.choice(colour,10000, p= [0.1, 0.3, 0.2, 0, 0.2, 0.1, 0.1])\n",
    "#Plot the Histogram\n",
    "plt.hist(rainbow)\n",
    "plt.show()"
   ]
  },
  {
   "cell_type": "markdown",
   "metadata": {},
   "source": [
    "### Bytes\n",
    "\n",
    "[random.Generator.bytes(length)](https://numpy.org/doc/stable/reference/random/generated/numpy.random.Generator.bytes.html#numpy.random.Generator.bytes)\n",
    "\n",
    "Return Random bytes\n",
    "\n"
   ]
  },
  {
   "cell_type": "code",
   "execution_count": 19,
   "metadata": {},
   "outputs": [
    {
     "data": {
      "text/plain": [
       "b'\\xa3e\\xe9?*'"
      ]
     },
     "execution_count": 19,
     "metadata": {},
     "output_type": "execute_result"
    }
   ],
   "source": [
    "rng.bytes(5)"
   ]
  },
  {
   "cell_type": "code",
   "execution_count": 20,
   "metadata": {},
   "outputs": [
    {
     "data": {
      "text/plain": [
       "b'ex\\x0b\\xa0\\x1f@\\xcc\\x1b\\xc1|\\xd7A\\xe2\\xd0\\x18\\xd34y\\x0c\\xc0\\t\\x02r\\xa5\\\\\\x836\\xd5\\xe4A\\xab\\x92fP\\t\\x8c\\xad\\x00\\xa1\\x19\\xac\\xc5!w\\xf5W\\xd5\\xa0\\xe2)'"
      ]
     },
     "execution_count": 20,
     "metadata": {},
     "output_type": "execute_result"
    }
   ],
   "source": [
    "rng.bytes(50)"
   ]
  },
  {
   "cell_type": "markdown",
   "metadata": {},
   "source": [
    "## Permutations\n",
    "\n",
    ">\"In mathematics, a permutation of a set is, loosely speaking, an arrangement of its members into a sequence or linear order, or if the set is already ordered, a rearrangement of its elements. The word \"permutation\" also refers to the act or process of changing the linear order of an ordered set\" [6].\n",
    "        \n",
    "Numpy.random allows for the modification of the sequence of arrays using the following functions:\n",
    "\n",
    "* Shuffle\n",
    "* Permutation\n",
    "* Permuted\n"
   ]
  },
  {
   "cell_type": "markdown",
   "metadata": {},
   "source": [
    "### Shuffle\n",
    "\n",
    "[random.Generator.shuffle(x, axis=0)](https://numpy.org/doc/stable/reference/random/generated/numpy.random.Generator.shuffle.html#numpy.random.Generator.shuffle)\n",
    "\n",
    "Modify an array or sequence in-place by shuffling its contents.\n",
    "\n",
    "The order of sub-arrays is changed but their contents remains the same."
   ]
  },
  {
   "cell_type": "code",
   "execution_count": 21,
   "metadata": {},
   "outputs": [
    {
     "name": "stdout",
     "output_type": "stream",
     "text": [
      "[1 7 6 5 1 6 2 6 6 4]\n",
      "[6 5 6 6 2 1 7 6 4 1]\n"
     ]
    }
   ],
   "source": [
    "#Generate 10 integers between 0-9\n",
    "arr = rng.integers(10, size=10)\n",
    "print(arr)\n",
    "\n",
    "#Shuffle and display form previous array\n",
    "rng.shuffle(arr)\n",
    "print(arr)"
   ]
  },
  {
   "cell_type": "markdown",
   "metadata": {},
   "source": [
    "Shuffle can work between multidimensional arrays, with reshape"
   ]
  },
  {
   "cell_type": "code",
   "execution_count": 22,
   "metadata": {},
   "outputs": [
    {
     "data": {
      "text/plain": [
       "array([[16, 17, 18, 19],\n",
       "       [ 8,  9, 10, 11],\n",
       "       [12, 13, 14, 15],\n",
       "       [ 4,  5,  6,  7],\n",
       "       [ 0,  1,  2,  3]])"
      ]
     },
     "execution_count": 22,
     "metadata": {},
     "output_type": "execute_result"
    }
   ],
   "source": [
    "#Generate 5 arrays of 4 ascending numbers \n",
    "arr = np.arange(20).reshape((5,4))\n",
    "\n",
    "#Shuffle and order of the arrays\n",
    "rng.shuffle(arr)\n",
    "arr"
   ]
  },
  {
   "cell_type": "markdown",
   "metadata": {},
   "source": [
    "Adding axis=1 shuffles the content within the first array"
   ]
  },
  {
   "cell_type": "code",
   "execution_count": 23,
   "metadata": {},
   "outputs": [
    {
     "data": {
      "text/plain": [
       "array([[ 1,  2,  3,  0],\n",
       "       [ 5,  6,  7,  4],\n",
       "       [ 9, 10, 11,  8],\n",
       "       [13, 14, 15, 12],\n",
       "       [17, 18, 19, 16]])"
      ]
     },
     "execution_count": 23,
     "metadata": {},
     "output_type": "execute_result"
    }
   ],
   "source": [
    "#Generate 5 arrays of 4 ascending numbers \n",
    "arr = np.arange(20).reshape((5,4))\n",
    "\n",
    "#Shuffle the contents of the first array\n",
    "rng.shuffle(arr, axis=1)\n",
    "arr"
   ]
  },
  {
   "cell_type": "markdown",
   "metadata": {},
   "source": [
    "Shuffle can also work on strings and more complex arrays. Below code simulates creating a deck of 52 cards and shuffling the order."
   ]
  },
  {
   "cell_type": "code",
   "execution_count": 24,
   "metadata": {},
   "outputs": [
    {
     "data": {
      "text/plain": [
       "[('A', '♣'),\n",
       " ('2', '♣'),\n",
       " ('3', '♣'),\n",
       " ('4', '♣'),\n",
       " ('5', '♣'),\n",
       " ('6', '♣'),\n",
       " ('7', '♣'),\n",
       " ('8', '♣'),\n",
       " ('9', '♣'),\n",
       " ('10', '♣'),\n",
       " ('J', '♣'),\n",
       " ('Q', '♣'),\n",
       " ('K', '♣'),\n",
       " ('A', '♥'),\n",
       " ('2', '♥'),\n",
       " ('3', '♥'),\n",
       " ('4', '♥'),\n",
       " ('5', '♥'),\n",
       " ('6', '♥'),\n",
       " ('7', '♥'),\n",
       " ('8', '♥'),\n",
       " ('9', '♥'),\n",
       " ('10', '♥'),\n",
       " ('J', '♥'),\n",
       " ('Q', '♥'),\n",
       " ('K', '♥'),\n",
       " ('A', '♠'),\n",
       " ('2', '♠'),\n",
       " ('3', '♠'),\n",
       " ('4', '♠'),\n",
       " ('5', '♠'),\n",
       " ('6', '♠'),\n",
       " ('7', '♠'),\n",
       " ('8', '♠'),\n",
       " ('9', '♠'),\n",
       " ('10', '♠'),\n",
       " ('J', '♠'),\n",
       " ('Q', '♠'),\n",
       " ('K', '♠'),\n",
       " ('A', '♦'),\n",
       " ('2', '♦'),\n",
       " ('3', '♦'),\n",
       " ('4', '♦'),\n",
       " ('5', '♦'),\n",
       " ('6', '♦'),\n",
       " ('7', '♦'),\n",
       " ('8', '♦'),\n",
       " ('9', '♦'),\n",
       " ('10', '♦'),\n",
       " ('J', '♦'),\n",
       " ('Q', '♦'),\n",
       " ('K', '♦')]"
      ]
     },
     "execution_count": 24,
     "metadata": {},
     "output_type": "execute_result"
    }
   ],
   "source": [
    "#Create the 2 arrays for a deck of cards\n",
    "#Unicode for the Suit symbols\n",
    "suits = [\"\\u2663\", \"\\u2665\", \"\\u2660\", \"\\u2666\"]\n",
    "faces = [ \"A\", \"2\", \"3\", \"4\", \"5\", \"6\", \"7\", \"8\", \"9\", \"10\", \"J\", \"Q\", \"K\"]\n",
    "\n",
    "#Generate a deck of cards by looping through the arrays above\n",
    "deck = []\n",
    "for suit in suits:\n",
    "    for face in faces:\n",
    "        deck.append((face, suit))\n",
    "        \n",
    "#Display the deck     \n",
    "deck"
   ]
  },
  {
   "cell_type": "code",
   "execution_count": 25,
   "metadata": {},
   "outputs": [
    {
     "data": {
      "text/plain": [
       "[('5', '♥'),\n",
       " ('8', '♣'),\n",
       " ('3', '♥'),\n",
       " ('8', '♠'),\n",
       " ('2', '♥'),\n",
       " ('3', '♦'),\n",
       " ('4', '♦'),\n",
       " ('J', '♠'),\n",
       " ('8', '♥'),\n",
       " ('9', '♦'),\n",
       " ('5', '♦'),\n",
       " ('Q', '♥'),\n",
       " ('9', '♠'),\n",
       " ('6', '♦'),\n",
       " ('K', '♥'),\n",
       " ('9', '♣'),\n",
       " ('3', '♠'),\n",
       " ('3', '♣'),\n",
       " ('7', '♣'),\n",
       " ('6', '♠'),\n",
       " ('7', '♥'),\n",
       " ('10', '♥'),\n",
       " ('10', '♣'),\n",
       " ('2', '♠'),\n",
       " ('4', '♥'),\n",
       " ('4', '♠'),\n",
       " ('8', '♦'),\n",
       " ('7', '♦'),\n",
       " ('7', '♠'),\n",
       " ('Q', '♦'),\n",
       " ('5', '♠'),\n",
       " ('Q', '♠'),\n",
       " ('J', '♥'),\n",
       " ('10', '♠'),\n",
       " ('K', '♦'),\n",
       " ('A', '♣'),\n",
       " ('6', '♣'),\n",
       " ('9', '♥'),\n",
       " ('2', '♦'),\n",
       " ('10', '♦'),\n",
       " ('Q', '♣'),\n",
       " ('J', '♣'),\n",
       " ('K', '♣'),\n",
       " ('K', '♠'),\n",
       " ('A', '♠'),\n",
       " ('4', '♣'),\n",
       " ('6', '♥'),\n",
       " ('2', '♣'),\n",
       " ('A', '♦'),\n",
       " ('J', '♦'),\n",
       " ('5', '♣'),\n",
       " ('A', '♥')]"
      ]
     },
     "execution_count": 25,
     "metadata": {},
     "output_type": "execute_result"
    }
   ],
   "source": [
    "#Use Shuffle to reorganise the deck array\n",
    "rng.shuffle(deck)\n",
    "deck"
   ]
  },
  {
   "cell_type": "markdown",
   "metadata": {},
   "source": [
    "After the deck has been shuffled you can extract defined cards from the list to replicate dealing a hand."
   ]
  },
  {
   "cell_type": "code",
   "execution_count": 26,
   "metadata": {},
   "outputs": [
    {
     "name": "stdout",
     "output_type": "stream",
     "text": [
      "Player 1: ('5', '♥') ('3', '♥') ('2', '♥') ('4', '♦') ('8', '♥') ('5', '♦')\n",
      "Player 2: ('8', '♣') ('8', '♠') ('3', '♦') ('J', '♠') ('9', '♦') ('Q', '♥')\n"
     ]
    }
   ],
   "source": [
    "#Index every other card starting at 0 and 1 for 12 cards\n",
    "hand1 = deck[0:12:2]\n",
    "hand2 = deck[1:12:2]\n",
    "\n",
    "#Display player hand\n",
    "print(\"Player 1:\", *hand1)\n",
    "print(\"Player 2:\", *hand2)"
   ]
  },
  {
   "cell_type": "code",
   "execution_count": null,
   "metadata": {},
   "outputs": [],
   "source": []
  },
  {
   "cell_type": "markdown",
   "metadata": {},
   "source": [
    "### Permutation\n",
    "\n",
    "[random.Generator.permutation(x, axis=0)](https://numpy.org/doc/stable/reference/random/generated/numpy.random.Generator.permutation.html#numpy.random.Generator.permutation)\n",
    "\n",
    "Randomly permute a sequence, or return a permuted range."
   ]
  },
  {
   "cell_type": "markdown",
   "metadata": {},
   "source": [
    "The permutation() method returns a re-arranged array (and leaves the original array un-changed),this method will keep the original array intact and will return a shuffled array.\n",
    "\n",
    "The shuffle() method makes changes to the original array, and you are only left with the shuffled array.[7]\n",
    "\n",
    "The code below shows the original array changing using the shuffle function"
   ]
  },
  {
   "cell_type": "code",
   "execution_count": 27,
   "metadata": {},
   "outputs": [
    {
     "name": "stdout",
     "output_type": "stream",
     "text": [
      "[5 8 9 1 0 8 7 1 7 0]\n",
      "[7 8 9 7 8 1 0 5 1 0]\n"
     ]
    }
   ],
   "source": [
    "#Generate an array of 10 integers\n",
    "arr = rng.integers(10, size=10)\n",
    "print(arr)\n",
    "\n",
    "#Shuffle and show the new array\n",
    "rng.shuffle(arr)\n",
    "print(arr)"
   ]
  },
  {
   "cell_type": "markdown",
   "metadata": {},
   "source": [
    "This code shows the original array is not changed when using permutation"
   ]
  },
  {
   "cell_type": "code",
   "execution_count": 28,
   "metadata": {},
   "outputs": [
    {
     "name": "stdout",
     "output_type": "stream",
     "text": [
      "[5 9 4 5 3 7 9 6 6 9]\n",
      "[9 3 9 5 6 4 6 5 7 9]\n",
      "[5 9 4 5 3 7 9 6 6 9]\n"
     ]
    }
   ],
   "source": [
    "#Generate an array of 10 integers\n",
    "arr = rng.integers(10, size=10)\n",
    "print(arr)\n",
    "\n",
    "#Shuffle and show the original array has been retained\n",
    "print(rng.permutation(arr))\n",
    "print(arr)"
   ]
  },
  {
   "cell_type": "code",
   "execution_count": 29,
   "metadata": {},
   "outputs": [
    {
     "name": "stdout",
     "output_type": "stream",
     "text": [
      "[[12 13 14 15]\n",
      " [ 4  5  6  7]\n",
      " [16 17 18 19]\n",
      " [ 0  1  2  3]\n",
      " [ 8  9 10 11]]\n",
      "-----------------\n",
      "[[ 0  1  2  3]\n",
      " [ 4  5  6  7]\n",
      " [ 8  9 10 11]\n",
      " [12 13 14 15]\n",
      " [16 17 18 19]]\n"
     ]
    }
   ],
   "source": [
    "#Generate 5 arrays of 4 ascending numbers \n",
    "arr = np.arange(20).reshape((5,4))\n",
    "\n",
    "#Shuffle the order of the arrays\n",
    "print(rng.permutation(arr))\n",
    "print(\"-----------------\")\n",
    "print(arr)"
   ]
  },
  {
   "cell_type": "code",
   "execution_count": 30,
   "metadata": {},
   "outputs": [
    {
     "name": "stdout",
     "output_type": "stream",
     "text": [
      "[[ 3  0  2  1]\n",
      " [ 7  4  6  5]\n",
      " [11  8 10  9]\n",
      " [15 12 14 13]\n",
      " [19 16 18 17]]\n",
      "-----------------\n",
      "[[ 0  1  2  3]\n",
      " [ 4  5  6  7]\n",
      " [ 8  9 10 11]\n",
      " [12 13 14 15]\n",
      " [16 17 18 19]]\n"
     ]
    }
   ],
   "source": [
    "#Generate 5 arrays of 4 ascending numbers \n",
    "arr = np.arange(20).reshape((5,4))\n",
    "\n",
    "#Shuffle the order of the first array\n",
    "print(rng.permutation(arr, axis=1))\n",
    "print(\"-----------------\")\n",
    "print(arr)"
   ]
  },
  {
   "cell_type": "markdown",
   "metadata": {},
   "source": [
    "### Permuted\n",
    "\n",
    "[random.Generator.permuted(x, axis=None, out=None)](https://numpy.org/doc/stable/reference/random/generated/numpy.random.Generator.permuted.html)\n",
    "\n",
    "Like permutation where the output can be stored as a variable and overwrite the original\n"
   ]
  },
  {
   "cell_type": "markdown",
   "metadata": {},
   "source": [
    "* The code below permuted works in the same way as permutation above. The original array is left unchanged"
   ]
  },
  {
   "cell_type": "code",
   "execution_count": 31,
   "metadata": {},
   "outputs": [
    {
     "name": "stdout",
     "output_type": "stream",
     "text": [
      "[[ 1  3  2  0]\n",
      " [ 7  6  5  4]\n",
      " [ 8 10  9 11]\n",
      " [13 14 12 15]\n",
      " [18 17 16 19]]\n",
      "-----------------\n",
      "[[ 0  1  2  3]\n",
      " [ 4  5  6  7]\n",
      " [ 8  9 10 11]\n",
      " [12 13 14 15]\n",
      " [16 17 18 19]]\n"
     ]
    }
   ],
   "source": [
    "#Generate 5 arrays of 4 ascending numbers \n",
    "arr = np.arange(20).reshape((5,4))\n",
    "\n",
    "#Shuffle the order of the first array\n",
    "arr2 = rng.permuted(arr,axis=1)\n",
    "\n",
    "print(arr2)\n",
    "print(\"-----------------\")\n",
    "print(arr)"
   ]
  },
  {
   "cell_type": "markdown",
   "metadata": {},
   "source": [
    "The code here uses the out parameter to update the output and replaces the original array"
   ]
  },
  {
   "cell_type": "code",
   "execution_count": 32,
   "metadata": {},
   "outputs": [
    {
     "name": "stdout",
     "output_type": "stream",
     "text": [
      "[[ 2  3  1  0]\n",
      " [ 6  5  4  7]\n",
      " [10  8  9 11]\n",
      " [13 14 15 12]\n",
      " [18 16 17 19]]\n",
      "-----------------\n",
      "[[ 2  3  1  0]\n",
      " [ 6  5  4  7]\n",
      " [10  8  9 11]\n",
      " [13 14 15 12]\n",
      " [18 16 17 19]]\n"
     ]
    }
   ],
   "source": [
    "#Generate 5 arrays of 4 ascending numbers \n",
    "arr = np.arange(20).reshape((5,4))\n",
    "\n",
    "#Shuffle the order of the first array\n",
    "arr2 = rng.permuted(arr,axis=1, out=arr)\n",
    "\n",
    "print(arr2)\n",
    "print(\"-----------------\")\n",
    "print(arr)"
   ]
  },
  {
   "cell_type": "markdown",
   "metadata": {},
   "source": [
    "* Verification that the arrays are the same"
   ]
  },
  {
   "cell_type": "code",
   "execution_count": 33,
   "metadata": {},
   "outputs": [
    {
     "data": {
      "text/plain": [
       "True"
      ]
     },
     "execution_count": 33,
     "metadata": {},
     "output_type": "execute_result"
    }
   ],
   "source": [
    "arr is arr2"
   ]
  },
  {
   "cell_type": "markdown",
   "metadata": {},
   "source": [
    "## Distributions\n",
    "\n",
    "The distribution of a statistical data set (or a population) is a function showing all the possible values of the data and how often they occur. Data distributions are widely used in statistics, to organise the data into an easily visualised way. There are many different defined types of distribution and are classified based on the type of data, discrete vs continuous. \n",
    "\n",
    "Discrete data is information that can only take certain values, one which may take on only a countable number of distinct values and thus can be quantified. For example, when you roll a die, the possible outcomes can only be 1, 2, 3, 4, 5 or 6\n",
    "\n",
    "Continuous data is data that takes an infinite number of possible values. Height, weight, temperature and length are all examples of continuous data.\n",
    "\n",
    "The following will review 5 different distributions built into NumPy:\n",
    "\n",
    "1. Uniform\n",
    "2. Normal\n",
    "3. Binomial\n",
    "4. Exponential\n",
    "5. Poisson\n",
    "\n"
   ]
  },
  {
   "cell_type": "markdown",
   "metadata": {},
   "source": [
    "### Uniform\n",
    "\n",
    "In probability theory and statistics, the discrete uniform distribution is a symmetric probability distribution wherein a finite number of values are equally likely to be observed. [8]\n",
    "\n",
    "A simple example of the discrete uniform distribution is throwing a fair dice. The possible values are 1, 2, 3, 4, 5, 6, and each time the die is thrown the probability of a given score is 1/6. If two dice are thrown and their values added, the resulting distribution is no longer uniform because not all sums have equal probability (and is discussed below)."
   ]
  },
  {
   "cell_type": "markdown",
   "metadata": {},
   "source": [
    "Below is an example of discrete uniform distribution as discussed above "
   ]
  },
  {
   "cell_type": "code",
   "execution_count": 64,
   "metadata": {},
   "outputs": [
    {
     "data": {
      "image/png": "[encoded data removed]",
      "text/plain": [
       "<Figure size 432x288 with 1 Axes>"
      ]
     },
     "metadata": {
      "needs_background": "light"
     },
     "output_type": "display_data"
    }
   ],
   "source": [
    "data = rng.integers(1,7, size=1000)\n",
    "plt.hist(data)\n",
    "plt.show()"
   ]
  },
  {
   "cell_type": "code",
   "execution_count": null,
   "metadata": {},
   "outputs": [],
   "source": [
    "Using the Uniform distrubtion built into NumPy is an example of continuous uniform distribution."
   ]
  },
  {
   "cell_type": "code",
   "execution_count": 71,
   "metadata": {},
   "outputs": [
    {
     "data": {
      "text/plain": [
       "array([3.31209045, 6.49696251, 3.55765538, ..., 6.36613327, 1.03332163,\n",
       "       5.48612888])"
      ]
     },
     "execution_count": 71,
     "metadata": {},
     "output_type": "execute_result"
    }
   ],
   "source": [
    "data = rng.uniform(1,7, size = 10000)\n",
    "data"
   ]
  },
  {
   "cell_type": "code",
   "execution_count": 72,
   "metadata": {},
   "outputs": [
    {
     "data": {
      "image/png": "[encoded data removed]",
      "text/plain": [
       "<Figure size 432x288 with 1 Axes>"
      ]
     },
     "metadata": {
      "needs_background": "light"
     },
     "output_type": "display_data"
    }
   ],
   "source": [
    "plt.hist(data)\n",
    "plt.show()"
   ]
  },
  {
   "cell_type": "code",
   "execution_count": 59,
   "metadata": {},
   "outputs": [
    {
     "data": {
      "text/plain": [
       "array([-5.42089553e-01, -7.51762401e-01, -4.84067117e-01, -8.60937072e-01,\n",
       "       -2.34895876e-02, -4.33717619e-01, -2.02070638e-01, -1.86577591e-01,\n",
       "       -1.94953663e-01, -8.56799766e-01, -5.86474907e-01, -1.20429411e-01,\n",
       "       -6.46311931e-01, -3.59889077e-01, -7.78346132e-01, -4.03050759e-01,\n",
       "       -4.18838005e-01, -2.77470001e-01, -6.62649988e-01, -2.71040550e-01,\n",
       "       -7.93333039e-01, -2.95549554e-01, -6.75504808e-01, -6.23525355e-01,\n",
       "       -9.59718502e-01, -7.35542004e-01, -7.46604876e-01, -3.06968657e-01,\n",
       "       -4.27926788e-01, -3.94632364e-01, -6.72500420e-01, -8.35380683e-01,\n",
       "       -3.38692503e-01, -3.28107274e-02, -4.55123623e-01, -1.56367079e-01,\n",
       "       -4.91681700e-01, -4.86618938e-01, -2.74020449e-01, -1.86755517e-01,\n",
       "       -4.74868917e-01, -5.19510347e-01, -4.24501328e-01, -8.59473496e-02,\n",
       "       -4.92582688e-01, -2.63766542e-02, -4.15299256e-01, -9.69756629e-01,\n",
       "       -7.48666720e-01, -1.39090012e-01, -7.24050156e-01, -4.46231560e-01,\n",
       "       -4.48726671e-01, -6.72957157e-01, -5.32559533e-01, -7.56272134e-01,\n",
       "       -7.13440507e-01, -9.90815583e-01, -4.95535936e-01, -7.07622669e-01,\n",
       "       -8.42708900e-01, -6.78419953e-01, -1.35385989e-01, -2.93381716e-01,\n",
       "       -6.06141280e-01, -4.19882175e-01, -8.25881757e-01, -2.13928907e-02,\n",
       "       -8.25508034e-01, -2.90642216e-01, -5.02490744e-01, -9.38381522e-01,\n",
       "       -8.53322093e-01, -1.19466255e-01, -1.37204656e-01, -2.91445524e-01,\n",
       "       -2.32851422e-01, -8.54632057e-03, -8.89840028e-02, -6.12521915e-01,\n",
       "       -1.89400129e-01, -5.87250708e-01, -5.17359372e-01, -9.83103179e-01,\n",
       "       -8.17913128e-01, -5.03574891e-01, -9.33313890e-01, -4.78038480e-01,\n",
       "       -8.26866797e-01, -3.31671676e-01, -5.43161334e-01, -6.05758601e-01,\n",
       "       -6.09456964e-01, -8.12587587e-01, -3.03720540e-02, -1.17416401e-01,\n",
       "       -9.87476650e-02, -9.60951834e-01, -6.50059214e-01, -7.76073799e-01,\n",
       "       -9.89928524e-01, -3.13946643e-02, -2.60972046e-01, -3.86056370e-01,\n",
       "       -8.68272527e-01, -5.16699230e-01, -6.74426384e-02, -1.83200716e-01,\n",
       "       -5.64672215e-01, -8.84559108e-02, -4.33556866e-01, -8.67159172e-01,\n",
       "       -9.07285178e-01, -9.76953229e-01, -1.11539826e-01, -6.11923536e-02,\n",
       "       -9.55757305e-01, -6.77726424e-01, -3.69353560e-01, -9.94192972e-01,\n",
       "       -5.45915124e-01, -1.42310970e-01, -3.56569941e-01, -9.91202360e-01,\n",
       "       -7.85534423e-01, -3.39063776e-01, -5.20701984e-01, -6.04214144e-01,\n",
       "       -2.13500892e-01, -1.81497485e-01, -7.80957714e-01, -9.19707215e-01,\n",
       "       -9.31176048e-01, -9.27861222e-01, -8.67825800e-01, -8.27879059e-02,\n",
       "       -6.33518261e-01, -8.42708577e-01, -5.17060895e-01, -3.75461334e-01,\n",
       "       -9.98162644e-02, -3.41486193e-01, -4.92036348e-02, -7.98222008e-01,\n",
       "       -9.42789731e-01, -2.93298395e-01, -9.01432905e-01, -2.52877532e-01,\n",
       "       -1.28017360e-01, -2.52736389e-01, -8.37673976e-02, -9.68132625e-01,\n",
       "       -1.80191754e-01, -9.17461040e-01, -1.39283838e-01, -3.77143894e-01,\n",
       "       -5.54443932e-01, -1.35449613e-02, -7.39880736e-01, -5.15814928e-01,\n",
       "       -3.47546219e-01, -8.66062147e-01, -3.59995418e-01, -3.11124995e-01,\n",
       "       -5.41093262e-01, -7.77128426e-01, -6.46145208e-01, -9.78791790e-02,\n",
       "       -6.43055615e-01, -5.01555534e-01, -7.93724864e-02, -4.06463998e-01,\n",
       "       -5.13869368e-01, -4.82351231e-01, -5.43242755e-01, -9.06958145e-01,\n",
       "       -2.35319449e-01, -5.53825532e-01, -9.00468272e-01, -7.44909917e-01,\n",
       "       -4.45843778e-01, -4.58203991e-01, -8.37250959e-02, -6.94142222e-01,\n",
       "       -8.21201437e-01, -3.00247067e-01, -3.08823530e-01, -2.24229054e-01,\n",
       "       -9.28126677e-01, -4.87603006e-01, -8.09506048e-01, -6.44399110e-01,\n",
       "       -7.35873848e-01, -7.66556693e-01, -7.64783871e-01, -7.45733084e-01,\n",
       "       -8.28368954e-01, -4.71032455e-01, -2.04096320e-01, -8.47168113e-01,\n",
       "       -6.56905419e-01, -7.92428976e-01, -5.40031598e-01, -1.07744516e-01,\n",
       "       -6.93170022e-02, -5.61349079e-01, -3.93979712e-01, -9.13406910e-01,\n",
       "       -3.13176067e-01, -6.67245169e-01, -9.79858528e-01, -6.88280591e-01,\n",
       "       -1.78827361e-01, -5.01040547e-01, -8.81921294e-01, -7.64082477e-01,\n",
       "       -4.27944951e-01, -3.46911638e-01, -2.37714933e-01, -9.02690868e-01,\n",
       "       -2.34771914e-01, -6.85926961e-01, -2.20816558e-01, -6.67421190e-01,\n",
       "       -8.36533284e-01, -1.94063528e-01, -5.20595478e-01, -3.66463195e-01,\n",
       "       -3.65515949e-01, -5.94588479e-01, -5.89204413e-01, -2.63079608e-01,\n",
       "       -7.65982787e-01, -7.30263566e-01, -4.93772308e-01, -9.82007714e-01,\n",
       "       -8.07397997e-01, -4.19967578e-01, -3.88800881e-01, -4.10601269e-02,\n",
       "       -3.58564058e-01, -2.12868808e-02, -5.38871593e-02, -9.36539999e-01,\n",
       "       -7.32954491e-01, -4.56986593e-01, -7.89052624e-01, -9.15038524e-01,\n",
       "       -2.73637691e-01, -7.14641299e-01, -3.20389481e-02, -7.49717753e-01,\n",
       "       -1.99123893e-01, -9.21298182e-03, -2.14263206e-01, -5.67881779e-01,\n",
       "       -3.48511195e-01, -5.85949016e-01, -9.62270876e-01, -7.07640429e-01,\n",
       "       -9.50677862e-01, -8.10415198e-01, -9.53895047e-01, -8.78026466e-01,\n",
       "       -1.04700853e-01, -4.03755310e-02, -5.41773593e-01, -3.91728133e-01,\n",
       "       -2.57108616e-01, -3.58370830e-01, -1.21782651e-01, -3.54105268e-01,\n",
       "       -9.83561518e-01, -4.98667440e-01, -8.36431286e-01, -1.43536113e-01,\n",
       "       -8.01361784e-01, -5.69175464e-01, -9.01592541e-01, -8.83571919e-01,\n",
       "       -6.19039433e-01, -6.68155008e-01, -8.08652947e-01, -8.42212647e-01,\n",
       "       -4.53090875e-01, -5.86937957e-01, -1.63110245e-01, -8.10259960e-01,\n",
       "       -8.04146251e-01, -9.88167641e-01, -5.09722661e-01, -9.81517971e-01,\n",
       "       -4.89553954e-01, -4.94714408e-01, -6.99339894e-01, -7.77575055e-01,\n",
       "       -7.97251155e-01, -8.70861251e-01, -7.04504680e-01, -7.66912691e-01,\n",
       "       -1.00734259e-01, -2.71106330e-01, -1.98390303e-01, -4.54963596e-01,\n",
       "       -7.53195155e-01, -5.43602907e-01, -8.65226776e-01, -3.31597042e-01,\n",
       "       -6.44031124e-01, -4.10654264e-01, -7.29623251e-01, -7.44892001e-01,\n",
       "       -5.57178353e-01, -3.59690863e-01, -8.56632901e-01, -5.38510233e-01,\n",
       "       -7.73237064e-01, -7.16037290e-01, -1.79285877e-01, -7.11951440e-02,\n",
       "       -2.65366464e-01, -3.23047411e-01, -3.32117533e-01, -3.48984673e-01,\n",
       "       -5.41492186e-01, -7.25998163e-01, -4.43062999e-02, -9.69685150e-01,\n",
       "       -2.37226119e-01, -2.23927886e-01, -9.44163808e-01, -6.54092399e-01,\n",
       "       -6.56354231e-01, -4.86308608e-01, -7.49181079e-03, -7.95232325e-01,\n",
       "       -6.28143654e-01, -5.75092972e-01, -8.78239066e-01, -7.90729785e-01,\n",
       "       -5.87412738e-01, -9.28465604e-01, -4.01320425e-01, -3.45222897e-01,\n",
       "       -7.18215607e-01, -6.99868828e-01, -5.50837263e-01, -7.98868260e-01,\n",
       "       -8.25763809e-01, -7.00051277e-01, -9.04351519e-01, -9.92463330e-02,\n",
       "       -5.32681422e-03, -6.19886095e-02, -8.27906730e-01, -9.87496499e-01,\n",
       "       -1.52008385e-01, -6.21923804e-01, -7.29739635e-01, -3.52853808e-01,\n",
       "       -3.33831653e-01, -4.55189979e-01, -7.28754837e-01, -9.28251589e-01,\n",
       "       -9.80046475e-01, -7.31938326e-01, -4.99990247e-01, -8.84669131e-01,\n",
       "       -4.25523842e-01, -7.33935590e-01, -1.74543037e-02, -6.51083369e-01,\n",
       "       -3.64957128e-01, -5.88617259e-01, -1.60086539e-02, -5.29622551e-01,\n",
       "       -7.34339278e-01, -6.55815093e-02, -8.25560361e-01, -8.05335999e-01,\n",
       "       -2.58364744e-01, -9.94812050e-01, -3.33620579e-01, -4.52575670e-01,\n",
       "       -4.54156395e-01, -5.84487446e-01, -1.43008815e-01, -5.64303932e-01,\n",
       "       -5.10427191e-01, -5.64941510e-02, -5.79235953e-01, -6.98032477e-01,\n",
       "       -6.75173523e-01, -5.36104489e-01, -8.60824641e-01, -4.04071730e-01,\n",
       "       -8.91348352e-01, -6.98244129e-01, -4.35261659e-01, -9.31188231e-01,\n",
       "       -6.93251042e-01, -5.02050550e-01, -1.60703761e-01, -1.45926106e-01,\n",
       "       -9.71001414e-01, -2.59237792e-01, -4.41716618e-01, -1.02986268e-01,\n",
       "       -3.62814612e-01, -7.85314086e-01, -6.31399797e-01, -8.62728924e-01,\n",
       "       -9.90238567e-01, -3.15181410e-01, -4.93648916e-02, -7.50975599e-01,\n",
       "       -7.21410387e-01, -9.91326606e-01, -8.13648398e-01, -3.61138624e-01,\n",
       "       -8.73796278e-01, -4.95313729e-01, -1.57259388e-01, -8.98914104e-01,\n",
       "       -4.41170785e-01, -5.78765727e-01, -6.30314446e-01, -8.95943319e-01,\n",
       "       -3.31735347e-02, -2.62237377e-02, -9.27213511e-02, -4.25751248e-01,\n",
       "       -2.82621613e-01, -1.79157999e-01, -4.34317617e-01, -7.21415784e-01,\n",
       "       -1.54685950e-01, -3.95878145e-01, -2.02325050e-02, -2.16263709e-02,\n",
       "       -9.52404598e-01, -5.46376591e-01, -8.72248695e-01, -2.26572421e-01,\n",
       "       -4.76675937e-01, -9.13577540e-01, -6.00111774e-01, -1.38015616e-01,\n",
       "       -6.66149865e-01, -3.36455303e-01, -4.02763758e-01, -2.76001675e-01,\n",
       "       -1.00238462e-02, -6.31610259e-01, -2.18474731e-01, -7.95685749e-01,\n",
       "       -3.63951639e-01, -1.88495255e-01, -6.12874190e-01, -5.37983770e-02,\n",
       "       -1.98275977e-01, -9.10536156e-01, -8.91901762e-01, -3.25362090e-01,\n",
       "       -8.58124126e-01, -3.08005239e-01, -9.43668643e-01, -9.07913074e-01,\n",
       "       -8.78146059e-01, -1.31723374e-01, -5.98035270e-01, -9.43874046e-01,\n",
       "       -9.50592140e-01, -4.47005111e-03, -8.31610114e-01, -5.92349543e-01,\n",
       "       -9.15296907e-01, -9.36184340e-02, -3.87353118e-01, -7.43266075e-02,\n",
       "       -3.72714789e-02, -9.00144068e-04, -5.73007765e-01, -5.74842394e-01,\n",
       "       -7.46824634e-01, -4.06657068e-01, -9.78566068e-01, -1.50607193e-01,\n",
       "       -9.47919553e-01, -3.01519799e-01, -1.52660705e-01, -4.62381712e-01,\n",
       "       -7.09445543e-01, -7.12507840e-01, -4.57576018e-01, -1.99711303e-01,\n",
       "       -1.10932678e-01, -4.84927359e-01, -4.29835543e-01, -7.57323265e-01,\n",
       "       -5.85420394e-01, -6.24719704e-01, -2.19993323e-01, -1.87589055e-01,\n",
       "       -5.81409208e-02, -7.82906364e-01, -3.02365798e-01, -8.86825728e-02,\n",
       "       -7.73718498e-01, -8.28403220e-01, -7.87176184e-02, -8.64347890e-01,\n",
       "       -8.33765311e-01, -2.43244963e-01, -6.96984178e-01, -8.75282551e-01,\n",
       "       -4.77492813e-01, -9.70479869e-01, -9.98437852e-01, -1.37800867e-01,\n",
       "       -1.34922319e-01, -9.35318237e-01, -8.56215829e-01, -4.75228629e-01,\n",
       "       -4.87984844e-01, -1.41184980e-01, -5.48689653e-01, -9.88528430e-01,\n",
       "       -9.96157747e-01, -4.38366745e-01, -2.04569863e-01, -7.35090500e-01,\n",
       "       -1.21574895e-01, -9.59209463e-01, -3.33592939e-01, -6.22342704e-01,\n",
       "       -1.48263427e-01, -8.48535205e-01, -9.48915992e-01, -5.92348812e-01,\n",
       "       -9.92677160e-01, -3.79639269e-01, -1.21604949e-01, -5.94229037e-02,\n",
       "       -5.63883595e-01, -6.63425982e-01, -2.99381794e-01, -5.33367639e-01,\n",
       "       -4.58127688e-01, -1.19600454e-01, -2.56380217e-02, -1.37770229e-01,\n",
       "       -4.78133366e-01, -8.21468616e-01, -7.89375358e-01, -3.12463261e-01,\n",
       "       -5.73465003e-02, -7.97821573e-02, -3.87945029e-01, -7.80056049e-01,\n",
       "       -3.11956206e-01, -6.02056907e-01, -5.95662122e-01, -2.86259155e-01,\n",
       "       -9.75253304e-01, -5.96233948e-01, -1.23021460e-02, -6.17803010e-01,\n",
       "       -5.38921655e-01, -7.18991417e-01, -9.06285499e-02, -8.45515666e-01,\n",
       "       -1.27505295e-01, -3.31684630e-01, -8.63610885e-01, -9.54947964e-01,\n",
       "       -1.03084804e-01, -2.85042175e-02, -8.63149712e-01, -3.38458184e-01,\n",
       "       -3.69204136e-01, -7.96435178e-01, -2.44399389e-01, -4.09439224e-01,\n",
       "       -3.88514254e-02, -8.85864630e-01, -6.29910331e-01, -4.02925208e-01,\n",
       "       -7.56960211e-01, -3.29835732e-01, -4.00478682e-01, -4.13342038e-01,\n",
       "       -8.19045626e-01, -6.10561765e-01, -8.66772364e-01, -1.51754829e-01,\n",
       "       -8.61174850e-01, -3.07500263e-01, -4.58904449e-01, -7.38906750e-01,\n",
       "       -9.26508270e-01, -4.59052712e-01, -4.18342397e-01, -2.40539299e-01,\n",
       "       -9.64830944e-01, -2.93165191e-01, -5.80165372e-01, -3.11787562e-02,\n",
       "       -1.78892926e-01, -6.53029717e-01, -6.32906687e-01, -8.08951895e-01,\n",
       "       -7.16882575e-01, -8.53558832e-01, -3.32707515e-01, -6.14789326e-01,\n",
       "       -5.18212539e-01, -3.49525160e-01, -3.31869963e-01, -9.81302623e-01,\n",
       "       -2.43656032e-01, -1.61660186e-01, -7.28240559e-01, -8.13288996e-01,\n",
       "       -9.32996576e-01, -3.66175938e-01, -1.87865240e-01, -5.15426242e-01,\n",
       "       -6.59047689e-01, -2.28912206e-02, -9.46582462e-01, -2.49483645e-01,\n",
       "       -2.73589478e-01, -2.47502265e-01, -3.41239090e-01, -2.50297051e-01,\n",
       "       -8.69826764e-01, -9.95284836e-01, -5.66186924e-01, -2.56578723e-01,\n",
       "       -5.25084465e-01, -2.67913232e-01, -1.50019061e-01, -4.47773043e-02,\n",
       "       -7.23995566e-01, -8.52401060e-01, -4.00111410e-01, -9.61548975e-02,\n",
       "       -6.80067001e-01, -7.51770157e-02, -8.99771943e-01, -4.00911042e-03,\n",
       "       -2.79109152e-01, -8.92573822e-03, -9.43075336e-01, -5.09930815e-02,\n",
       "       -3.54500606e-01, -6.21754186e-01, -4.28866079e-01, -7.85535415e-01,\n",
       "       -6.83895701e-01, -2.55826307e-01, -7.17623019e-01, -8.11830548e-01,\n",
       "       -1.00676812e-01, -7.54092228e-01, -9.91915403e-02, -4.58450069e-01,\n",
       "       -1.32644193e-01, -3.63480381e-01, -5.47484962e-01, -4.26674027e-01,\n",
       "       -9.16824449e-01, -2.77251972e-02, -1.75826922e-01, -9.36865432e-01,\n",
       "       -4.52020702e-02, -5.20120418e-01, -9.66453076e-01, -5.84604328e-01,\n",
       "       -2.86952786e-01, -9.03129468e-01, -6.57980265e-01, -7.35769684e-01,\n",
       "       -6.93489450e-01, -2.59756919e-01, -5.12099165e-01, -1.63273517e-01,\n",
       "       -7.51871639e-02, -3.19781429e-01, -1.51645891e-02, -6.28062562e-01,\n",
       "       -9.21841509e-01, -6.66824746e-01, -3.25734915e-01, -9.37866732e-01,\n",
       "       -8.08760304e-01, -6.10432262e-01, -8.14261578e-01, -8.63361230e-01,\n",
       "       -2.39135502e-02, -7.17708444e-01, -2.68725006e-01, -3.32599121e-02,\n",
       "       -3.10969324e-01, -8.39553381e-01, -6.90842904e-01, -4.77636867e-01,\n",
       "       -9.34757712e-01, -6.60951746e-01, -6.74038139e-01, -6.73152028e-01,\n",
       "       -4.49227469e-01, -7.65798114e-01, -1.87615693e-02, -6.22957931e-02,\n",
       "       -7.89965678e-01, -8.82214324e-01, -3.11975119e-01, -1.18172250e-01,\n",
       "       -6.50277501e-01, -5.97172159e-01, -1.45200674e-03, -4.77123879e-01,\n",
       "       -1.18480977e-01, -5.70021784e-01, -1.09427312e-01, -8.21827933e-01,\n",
       "       -4.49910818e-01, -5.85977742e-01, -7.47776737e-01, -5.94095572e-01,\n",
       "       -8.16858359e-01, -1.94344367e-01, -7.00137501e-01, -6.41657902e-01,\n",
       "       -1.95629739e-01, -5.25304870e-01, -4.62200358e-01, -6.93136568e-01,\n",
       "       -9.73047401e-01, -2.27622573e-02, -2.01474270e-01, -6.14322578e-01,\n",
       "       -1.04538280e-01, -9.94359841e-01, -7.65107216e-02, -6.23473660e-01,\n",
       "       -6.79069182e-01, -9.64602335e-01, -1.50211358e-02, -7.98066441e-01,\n",
       "       -9.87167222e-01, -6.21002018e-01, -4.82810192e-01, -4.95233790e-01,\n",
       "       -8.48916700e-01, -6.65405411e-01, -7.41158027e-01, -7.09333971e-01,\n",
       "       -2.12046598e-01, -8.76209084e-01, -8.77243233e-01, -1.75861094e-01,\n",
       "       -3.63889991e-02, -6.30974392e-01, -5.57827610e-01, -6.74997954e-01,\n",
       "       -7.22767808e-01, -3.97552314e-02, -3.44726090e-01, -8.57315875e-01,\n",
       "       -9.00469412e-01, -6.56242008e-01, -3.74950732e-01, -3.27854212e-01,\n",
       "       -6.59695186e-01, -3.93001420e-02, -8.80038063e-01, -2.70673494e-01,\n",
       "       -5.85517425e-01, -7.29778059e-01, -2.50210662e-01, -2.62082284e-01,\n",
       "       -8.58377646e-01, -3.84153303e-01, -8.48071964e-01, -4.66045161e-01,\n",
       "       -3.50995065e-01, -7.77727849e-01, -8.34720467e-01, -3.98174755e-01,\n",
       "       -2.16437917e-01, -2.97513221e-01, -1.55063812e-01, -8.24424275e-01,\n",
       "       -6.33906057e-01, -2.36641524e-01, -7.71930974e-01, -5.07122252e-01,\n",
       "       -9.61711374e-01, -2.88873066e-01, -5.69536041e-01, -9.48333965e-01,\n",
       "       -4.07273633e-01, -2.19954730e-02, -1.21717958e-02, -5.11934975e-01,\n",
       "       -4.25185569e-01, -6.75713717e-01, -4.18707053e-01, -3.64511728e-01,\n",
       "       -2.86749954e-01, -7.43499812e-01, -1.56851773e-01, -1.32143990e-01,\n",
       "       -5.92480337e-02, -8.57379964e-02, -1.03688420e-01, -9.16494714e-01,\n",
       "       -9.58618666e-01, -7.28652150e-01, -7.22601265e-01, -6.10611187e-01,\n",
       "       -3.87584815e-01, -6.84390467e-02, -4.10408188e-01, -6.14653461e-01,\n",
       "       -3.00200740e-01, -8.29966716e-01, -4.02855917e-01, -7.51211466e-01,\n",
       "       -3.29345994e-01, -5.21377695e-01, -5.10446348e-01, -4.99932862e-01,\n",
       "       -6.90817515e-01, -6.12085061e-01, -8.92422419e-01, -6.90078151e-01,\n",
       "       -2.72393921e-01, -3.70626768e-01, -9.29691364e-02, -6.27720793e-01,\n",
       "       -5.90429744e-03, -4.72934997e-01, -5.39767879e-01, -5.99158116e-02,\n",
       "       -2.69544236e-01, -5.39000182e-01, -9.87492916e-01, -5.90457787e-01,\n",
       "       -6.12083628e-01, -6.69185290e-01, -1.88964870e-01, -1.42500945e-01,\n",
       "       -2.17542051e-01, -6.64305616e-02, -9.76156343e-01, -4.61832020e-01,\n",
       "       -5.69120655e-02, -7.93206520e-01, -9.00241938e-01, -2.40920679e-02,\n",
       "       -8.55084982e-01, -3.81890821e-01, -5.48364264e-01, -8.21303364e-01,\n",
       "       -3.67731020e-01, -6.57488312e-01, -5.61268653e-01, -1.95095381e-01,\n",
       "       -8.38006023e-01, -1.79452818e-01, -3.86545055e-01, -3.37122249e-01,\n",
       "       -1.02277965e-01, -1.10497417e-01, -3.90991744e-01, -5.66440083e-01,\n",
       "       -8.65501600e-01, -7.34251737e-01, -3.55232530e-01, -8.93000042e-01,\n",
       "       -9.64437952e-01, -7.31246715e-01, -5.92170555e-01, -3.92627549e-01,\n",
       "       -3.44869709e-01, -1.60283554e-01, -8.13478551e-01, -5.04389768e-01,\n",
       "       -4.99391718e-01, -1.42486114e-01, -1.19141255e-02, -2.44394114e-01,\n",
       "       -7.85952442e-01, -6.59046070e-01, -2.00096104e-01, -7.52334133e-01,\n",
       "       -7.05726898e-01, -8.56877909e-01, -3.03754509e-01, -5.36206811e-01,\n",
       "       -8.83930200e-01, -5.20077552e-01, -1.87613454e-01, -9.08082668e-01,\n",
       "       -9.85816947e-01, -8.70436219e-01, -3.49014100e-01, -2.53421848e-01,\n",
       "       -2.97239108e-02, -1.94351282e-01, -8.44361203e-01, -1.12351047e-01,\n",
       "       -9.40347778e-01, -7.40552855e-01, -1.99161880e-01, -9.72895169e-01,\n",
       "       -5.34374210e-01, -9.31424822e-02, -7.65260598e-01, -3.49209067e-01,\n",
       "       -4.63351348e-01, -6.15630889e-01, -6.77914637e-01, -7.71127018e-01,\n",
       "       -6.09221386e-01, -6.55260079e-01, -8.56943031e-01, -9.38565297e-01,\n",
       "       -7.26790561e-01, -5.51990544e-01, -8.59942791e-01, -7.31530814e-01,\n",
       "       -8.18128871e-01, -8.91178930e-01, -3.52253054e-01, -1.13673582e-01,\n",
       "       -9.79417430e-01, -5.14763341e-01, -5.38707507e-01, -9.52884782e-01,\n",
       "       -3.89730250e-02, -5.27294769e-01, -4.55164159e-01, -7.12978338e-02,\n",
       "       -1.57246352e-01, -6.74826616e-01, -5.49571963e-01, -3.26208802e-01,\n",
       "       -4.23899677e-01, -2.32965448e-01, -4.36578329e-01, -5.83039744e-01,\n",
       "       -5.99447041e-01, -7.26830915e-01, -4.54540494e-01, -5.06764365e-01,\n",
       "       -7.01803676e-01, -7.72588871e-01, -6.71903488e-01, -9.19383640e-01,\n",
       "       -5.32350756e-03, -2.02260263e-02, -3.56081693e-01, -9.89212627e-01,\n",
       "       -7.42058516e-02, -7.33258954e-01, -4.89520720e-01, -7.42356088e-01,\n",
       "       -1.81002125e-01, -5.66752166e-01, -6.23196237e-01, -3.71255341e-01,\n",
       "       -9.89435701e-01, -2.11223550e-01, -2.26717269e-02, -3.19024354e-02,\n",
       "       -2.35190298e-01, -7.91330159e-01, -4.90840881e-01, -7.85004047e-01,\n",
       "       -4.20983426e-01, -8.51517043e-01, -4.78625047e-01, -6.11332853e-01,\n",
       "       -7.29970150e-01, -1.42063544e-01, -8.25314191e-01, -1.17386287e-02,\n",
       "       -5.09655551e-01, -3.03698572e-02, -7.07631272e-01, -9.60897186e-01,\n",
       "       -9.49946095e-01, -4.70796874e-01, -1.22259611e-01, -2.22094397e-02])"
      ]
     },
     "execution_count": 59,
     "metadata": {},
     "output_type": "execute_result"
    }
   ],
   "source": [
    "data = rng.uniform(-1,0,1000)\n",
    "data"
   ]
  },
  {
   "cell_type": "code",
   "execution_count": 61,
   "metadata": {},
   "outputs": [
    {
     "data": {
      "image/png": "[encoded data removed]",
      "text/plain": [
       "<Figure size 432x288 with 1 Axes>"
      ]
     },
     "metadata": {
      "needs_background": "light"
     },
     "output_type": "display_data"
    }
   ],
   "source": [
    "plt.hist(data, bins=15)\n",
    "plt.show()"
   ]
  },
  {
   "cell_type": "code",
   "execution_count": 62,
   "metadata": {},
   "outputs": [
    {
     "data": {
      "image/png": "[encoded data removed]",
      "text/plain": [
       "<Figure size 432x288 with 1 Axes>"
      ]
     },
     "metadata": {
      "needs_background": "light"
     },
     "output_type": "display_data"
    }
   ],
   "source": [
    "data = rng.uniform(-1,0,100000)\n",
    "plt.hist(data, bins = 15)\n",
    "plt.show()"
   ]
  },
  {
   "cell_type": "code",
   "execution_count": null,
   "metadata": {},
   "outputs": [],
   "source": []
  },
  {
   "cell_type": "code",
   "execution_count": null,
   "metadata": {},
   "outputs": [],
   "source": []
  },
  {
   "cell_type": "code",
   "execution_count": null,
   "metadata": {},
   "outputs": [],
   "source": []
  },
  {
   "cell_type": "markdown",
   "metadata": {},
   "source": [
    "### Normal"
   ]
  },
  {
   "cell_type": "markdown",
   "metadata": {},
   "source": [
    "### Binomial\n"
   ]
  },
  {
   "cell_type": "markdown",
   "metadata": {},
   "source": [
    "### Exponential"
   ]
  },
  {
   "cell_type": "markdown",
   "metadata": {},
   "source": [
    "### Poisson"
   ]
  },
  {
   "cell_type": "markdown",
   "metadata": {},
   "source": [
    "## Seeds"
   ]
  },
  {
   "cell_type": "markdown",
   "metadata": {},
   "source": [
    "## References\n",
    "\n",
    "[2]. https://numpy.org/doc/stable/user/absolute_beginners.html\n",
    "\n",
    "[1] https://www.mygreatlearning.com/blog/python-numpy-tutorial/\n",
    "\n",
    "https://numpy.org/doc/stable/user/whatisnumpy.html\n",
    "\n",
    "https://numpy.org/doc/stable/reference/random/generator.html\n",
    "\n",
    "https://machinelearningmastery.com/statistical-data-distributions/\n",
    "\n",
    "https://numpy.org/doc/stable/reference/random/generated/numpy.random.Generator.integers.html\n",
    "\n",
    "https://numpy.org/doc/stable/reference/random/generated/numpy.random.Generator.random.html\n",
    "\n",
    "https://numpy.org/doc/stable/reference/random/generated/numpy.random.Generator.choice.html\n",
    "\n",
    "https://numpy.org/doc/stable/reference/random/generated/numpy.random.Generator.bytes.html\n",
    "\n",
    "https://numpy.org/doc/stable/reference/random/generated/numpy.random.Generator.shuffle.html\n",
    "\n",
    "https://numpy.org/doc/stable/reference/random/generated/numpy.random.Generator.permutation.html\n",
    "\n",
    "https://numpy.org/doc/stable/reference/random/generated/numpy.random.Generator.permuted.html\n",
    "\n",
    "https://www.datacamp.com/community/tutorials/probability-distributions-python\n",
    "\n",
    "https://www.analyticsvidhya.com/blog/2017/09/6-probability-distributions-data-science/\n",
    "\n",
    "https://numpy.org/doc/stable/reference/random/generated/numpy.random.Generator.uniform.html\n",
    "\n",
    "[8] https://en.wikipedia.org/wiki/Discrete_uniform_distribution\n",
    "\n",
    "[5] https://numpy.org/doc/stable/reference/random/index.html\n",
    "\n",
    "[6] https://en.wikipedia.org/wiki/Permutation\n",
    "\n",
    "[7] https://newbedev.com/shuffle-vs-permute-numpy"
   ]
  },
  {
   "cell_type": "code",
   "execution_count": null,
   "metadata": {},
   "outputs": [],
   "source": []
  }
 ],
 "metadata": {
  "kernelspec": {
   "display_name": "Python 3",
   "language": "python",
   "name": "python3"
  },
  "language_info": {
   "codemirror_mode": {
    "name": "ipython",
    "version": 3
   },
   "file_extension": ".py",
   "mimetype": "text/x-python",
   "name": "python",
   "nbconvert_exporter": "python",
   "pygments_lexer": "ipython3",
   "version": "3.8.5"
  }
 },
 "nbformat": 4,
 "nbformat_minor": 4
}
