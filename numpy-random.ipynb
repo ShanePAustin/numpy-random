{
 "cells": [
  {
   "cell_type": "markdown",
   "metadata": {},
   "source": [
    "# The numpy.random package"
   ]
  },
  {
   "cell_type": "markdown",
   "metadata": {},
   "source": [
    "## Overview of the numpy-random package"
   ]
  },
  {
   "cell_type": "markdown",
   "metadata": {},
   "source": [
    "## This Document\n",
    "\n",
    "This notebook is an investigation into random number genration and the functionality of the numpy.random python package, the project brief is outlined below:\n",
    "\n",
    "The following assignment concerns the numpy.random package in Python. You are required to create a Jupyter notebook explaining the use of the package, including detailed explanations of at least five of the distributions provided for in the package.\n",
    "    There are four distinct tasks to be carried out in your Jupyter notebook.\n",
    "    \n",
    "      1. Explain the overall purpose of the package.\n",
    "      2. Explain the use of the “Simple random data” and “Permutations” functions.\n",
    "      3. Explain the use and purpose of at least five “Distributions” functions.\n",
    "      4. Explain the use of seeds in generating pseudorandom numbers.\n",
    "\n",
    "## NumPy\n",
    "\n",
    "NumPy short for Numerical Python is an open source Python Library, consisting of multidimensional array objects and a collection of routines for processing the arrays [1]. It has become the standard for working with numerical data in Python and is used in most fields of science and engineering. The NumPy API is used extensively in other Python libraries such as Pandas, SciPy, Matplotlib, scikit-learn and many other data science packages [2].\n",
    "\n",
    "The NumPy package allows convenient and efficient manipulation of data, especially with the processing of large datasets as NumPy arrays work much faster than the standard Python list structure. The package also includes optimized functions for improved efficiency dealing with complex algebraic operations, this makes programs easier to code, fater to run and more efficient in terms of memory usage. \n",
    "\n",
    "## NumPy.random\n",
    "\n",
    "Random number generation (RNG) is an important aspect of many areas or computing, including crytopgraphy, machine learning, computer simulations and many other applications. RNG is also particularly useful in computer simulations used for tetsing and debugging programs, an example could be the tesitng of sorting algorithms using a series of randomly generated integers.    \n",
    "\n",
    "numpy.random is a sub package of NumPy used fo generating random numbers and utilising statistical probability distrubutions for the replication of \"real-life\" data.\n",
    "\n",
    "    Numpy’s random number routines produce pseudo random numbers using combinations of a BitGenerator to create sequences and a Generator to use those sequences to sample from different statistical distributions:\n",
    "\n",
    "    * BitGenerators: Objects that generate random numbers. These are typically unsigned integer words filled with sequences of either 32 or 64 random bits.\n",
    "\n",
    "    * Generators: Objects that transform sequences of random bits from a BitGenerator into sequences of numbers that follow a specific probability distribution (such as uniform, Normal or Binomial) within a specified interval [5].  \n",
    "\n",
    "-----\n",
    "\n"
   ]
  },
  {
   "cell_type": "markdown",
   "metadata": {},
   "source": [
    "## Modules\n",
    "\n",
    "The libraries below were imported for use within this notebook:"
   ]
  },
  {
   "cell_type": "code",
   "execution_count": 1,
   "metadata": {},
   "outputs": [],
   "source": [
    "#Import Libraries\n",
    "\n",
    "#Import NumPy\n",
    "import numpy as np\n",
    "\n",
    "#Import Matplotlib\n",
    "import matplotlib.pyplot as plt"
   ]
  },
  {
   "cell_type": "code",
   "execution_count": 31,
   "metadata": {},
   "outputs": [
    {
     "name": "stdout",
     "output_type": "stream",
     "text": [
      "0.5086576951314933\n"
     ]
    }
   ],
   "source": [
    "#creating a variable for Random Number Generation\n",
    "rng = np.random.default_rng()\n",
    "\n",
    "#test the variable\n",
    "print(rng.random())"
   ]
  },
  {
   "cell_type": "markdown",
   "metadata": {},
   "source": [
    "--------\n",
    "## Simple Random Data\n",
    "\n",
    "This section will review the basic functions of RNG within NumPy, the current documentation refers to 4 data types:\n",
    "\n",
    "* Integer\n",
    "* Random\n",
    "* Choice\n",
    "* Bytes"
   ]
  },
  {
   "cell_type": "markdown",
   "metadata": {},
   "source": [
    "### Integers\n",
    "\n",
    "[random.Generator.integers(low, high=None, size=None, dtype=np.int64, endpoint=False)](https://numpy.org/doc/stable/reference/random/generated/numpy.random.Generator.integers.html#numpy.random.Generator.integers)\n",
    "\n",
    "The generation of random integers with a given range and size."
   ]
  },
  {
   "cell_type": "markdown",
   "metadata": {},
   "source": [
    "* The example below generates a random integer between 0-9 (of range 10)"
   ]
  },
  {
   "cell_type": "code",
   "execution_count": 39,
   "metadata": {},
   "outputs": [
    {
     "data": {
      "text/plain": [
       "9"
      ]
     },
     "execution_count": 39,
     "metadata": {},
     "output_type": "execute_result"
    }
   ],
   "source": [
    "#Generate an integer between 0-9\n",
    "rng.integers(10)"
   ]
  },
  {
   "cell_type": "markdown",
   "metadata": {},
   "source": [
    "* The example below is simulating the roll of 10, 6 sided dice, defining the low end and high end of the range as well as the size to the sample."
   ]
  },
  {
   "cell_type": "code",
   "execution_count": 4,
   "metadata": {},
   "outputs": [
    {
     "data": {
      "text/plain": [
       "array([2, 4, 1, 6, 5, 2, 4, 5, 6, 3], dtype=int64)"
      ]
     },
     "execution_count": 4,
     "metadata": {},
     "output_type": "execute_result"
    }
   ],
   "source": [
    "#Roll 10 dice\n",
    "#Generate 10 ranmdom integers between 1-6\n",
    "rng.integers(1,7, size=10)"
   ]
  },
  {
   "cell_type": "markdown",
   "metadata": {},
   "source": [
    "* Generate 4 x 4 array of integers between 1 and 6 "
   ]
  },
  {
   "cell_type": "code",
   "execution_count": 5,
   "metadata": {},
   "outputs": [
    {
     "data": {
      "text/plain": [
       "array([[1, 2, 4, 6],\n",
       "       [5, 4, 4, 5],\n",
       "       [5, 3, 3, 4],\n",
       "       [4, 3, 5, 2]], dtype=int64)"
      ]
     },
     "execution_count": 5,
     "metadata": {},
     "output_type": "execute_result"
    }
   ],
   "source": [
    "#Generate 4 arrays of 4 random numbers between 1-6\n",
    "rng.integers(1, 7, size=(4,4))"
   ]
  },
  {
   "cell_type": "markdown",
   "metadata": {},
   "source": [
    "* The use of endpoint=True makes the range inclusive"
   ]
  },
  {
   "cell_type": "code",
   "execution_count": 6,
   "metadata": {},
   "outputs": [
    {
     "data": {
      "text/plain": [
       "array([[3, 3, 6, 5, 7, 1, 7, 2],\n",
       "       [2, 2, 7, 4, 6, 1, 4, 7],\n",
       "       [6, 1, 1, 4, 2, 5, 7, 4],\n",
       "       [3, 7, 2, 3, 3, 5, 5, 2],\n",
       "       [7, 1, 2, 6, 4, 3, 4, 4],\n",
       "       [7, 2, 2, 2, 5, 7, 2, 7],\n",
       "       [5, 6, 1, 3, 6, 7, 7, 1],\n",
       "       [4, 5, 2, 1, 3, 5, 2, 5]], dtype=int64)"
      ]
     },
     "execution_count": 6,
     "metadata": {},
     "output_type": "execute_result"
    }
   ],
   "source": [
    "#Generate 8 arrays of 8 random numbers between 1-7\n",
    "#\"endpoint=True\" makes the range inclusive\n",
    "rng.integers(1, 7, size=(8,8), endpoint=True )"
   ]
  },
  {
   "cell_type": "markdown",
   "metadata": {},
   "source": [
    "This function produces data using uniform distribution as shown in the plots below: (The higher the sample size the more evident the uniform distribution appears)."
   ]
  },
  {
   "cell_type": "code",
   "execution_count": 7,
   "metadata": {},
   "outputs": [
    {
     "data": {
      "image/png": "[encoded data removed]",
      "text/plain": [
       "<Figure size 432x288 with 1 Axes>"
      ]
     },
     "metadata": {
      "needs_background": "light"
     },
     "output_type": "display_data"
    }
   ],
   "source": [
    "#Replicate the roll of 100 dice\n",
    "dice = rng.integers(1,7, size = 100)\n",
    "#Plot histogram of the results\n",
    "plt.hist(dice)\n",
    "plt.show()"
   ]
  },
  {
   "cell_type": "markdown",
   "metadata": {},
   "source": [
    "Clearly show the uniform distrubution of the number generation"
   ]
  },
  {
   "cell_type": "code",
   "execution_count": 40,
   "metadata": {},
   "outputs": [
    {
     "data": {
      "image/png": "[encoded data removed]",
      "text/plain": [
       "<Figure size 432x288 with 1 Axes>"
      ]
     },
     "metadata": {
      "needs_background": "light"
     },
     "output_type": "display_data"
    }
   ],
   "source": [
    "#Replicate the roll of 100000 dice\n",
    "dice = rng.integers(1,7, size = 100000)\n",
    "plt.hist(dice)\n",
    "plt.show()"
   ]
  },
  {
   "cell_type": "code",
   "execution_count": null,
   "metadata": {},
   "outputs": [],
   "source": []
  },
  {
   "cell_type": "markdown",
   "metadata": {},
   "source": [
    "### Random\n",
    "\n",
    "[random.Generator.random(size=None, dtype=np.float64, out=None)](https://numpy.org/doc/stable/reference/random/generated/numpy.random.Generator.random.html#numpy.random.Generator.random)\n",
    "\n",
    "The generation of random floats with a given range and size."
   ]
  },
  {
   "cell_type": "markdown",
   "metadata": {},
   "source": [
    "Generate 10 random floats between 0-1"
   ]
  },
  {
   "cell_type": "code",
   "execution_count": 9,
   "metadata": {},
   "outputs": [
    {
     "data": {
      "text/plain": [
       "array([0.63343773, 0.79623332, 0.11119184, 0.53877602, 0.01663473,\n",
       "       0.57922004, 0.27232133, 0.30513556, 0.91322409, 0.68067472])"
      ]
     },
     "execution_count": 9,
     "metadata": {},
     "output_type": "execute_result"
    }
   ],
   "source": [
    "#Generate 10 random floats between 0-1\n",
    "rng.random(10)"
   ]
  },
  {
   "cell_type": "code",
   "execution_count": 10,
   "metadata": {},
   "outputs": [
    {
     "data": {
      "text/plain": [
       "array([[0.03417964, 0.57648497],\n",
       "       [0.06461625, 0.63570125],\n",
       "       [0.1112187 , 0.85797426],\n",
       "       [0.97381339, 0.18796202],\n",
       "       [0.65949732, 0.28793941],\n",
       "       [0.73954686, 0.6834047 ],\n",
       "       [0.60185158, 0.84974817],\n",
       "       [0.70845281, 0.0346788 ],\n",
       "       [0.56653525, 0.13738528],\n",
       "       [0.49815586, 0.67870922]])"
      ]
     },
     "execution_count": 10,
     "metadata": {},
     "output_type": "execute_result"
    }
   ],
   "source": [
    "#Generate 10 arrays of 2 random floats between 0-1\n",
    "rng.random((10,2))"
   ]
  },
  {
   "cell_type": "code",
   "execution_count": 11,
   "metadata": {},
   "outputs": [
    {
     "data": {
      "text/plain": [
       "array([[0.05596895, 0.62328558, 0.68642733, 0.60798037, 0.456437  ,\n",
       "        0.85996068, 0.16684644, 0.24756198, 0.2617994 , 0.15603557],\n",
       "       [0.23186023, 0.43410995, 0.60008247, 0.38825148, 0.83398253,\n",
       "        0.33870803, 0.51018928, 0.25226027, 0.64819115, 0.71158343]])"
      ]
     },
     "execution_count": 11,
     "metadata": {},
     "output_type": "execute_result"
    }
   ],
   "source": [
    "#Generate 2 arrays of 10 random floats between 0-1\n",
    "rng.random((2,10))"
   ]
  },
  {
   "cell_type": "code",
   "execution_count": 12,
   "metadata": {},
   "outputs": [
    {
     "data": {
      "text/plain": [
       "array([[2.17515641, 2.72883188],\n",
       "       [2.60498435, 2.57611579],\n",
       "       [2.83686578, 2.93250797],\n",
       "       [2.11369345, 2.70694306],\n",
       "       [2.40496773, 2.51938029]])"
      ]
     },
     "execution_count": 12,
     "metadata": {},
     "output_type": "execute_result"
    }
   ],
   "source": [
    "#Generate 5 arrays of 2 random floats between 2-3\n",
    "#+2 increases the range bounds from 0-1 to 2-3\n",
    "rng.random((5,2)) + 2"
   ]
  },
  {
   "cell_type": "code",
   "execution_count": null,
   "metadata": {},
   "outputs": [],
   "source": []
  },
  {
   "cell_type": "markdown",
   "metadata": {},
   "source": [
    "### Choice\n",
    "\n",
    "[random.Generator.choice(a, size=None, replace=True, p=None, axis=0, shuffle=True)](https://numpy.org/doc/stable/reference/random/generated/numpy.random.Generator.choice.html#numpy.random.Generator.choice)\n",
    "\n",
    "\n",
    "\n",
    "Can set probabilities of a given array\n",
    "\n"
   ]
  },
  {
   "cell_type": "code",
   "execution_count": 13,
   "metadata": {},
   "outputs": [
    {
     "data": {
      "text/plain": [
       "array([4, 3, 4, 0, 2, 3], dtype=int64)"
      ]
     },
     "execution_count": 13,
     "metadata": {},
     "output_type": "execute_result"
    }
   ],
   "source": [
    "#Generate 6 integers between 0-5\n",
    "rng.choice(6,6)"
   ]
  },
  {
   "cell_type": "code",
   "execution_count": 14,
   "metadata": {},
   "outputs": [
    {
     "data": {
      "text/plain": [
       "array([3, 4, 1, 0, 2, 5], dtype=int64)"
      ]
     },
     "execution_count": 14,
     "metadata": {},
     "output_type": "execute_result"
    }
   ],
   "source": [
    "#\"replace=False\" means no duplicates are allowed\n",
    "rng.choice(6,6, replace=False)"
   ]
  },
  {
   "cell_type": "markdown",
   "metadata": {},
   "source": [
    "The probablities of each element being generated can be altered"
   ]
  },
  {
   "cell_type": "code",
   "execution_count": 41,
   "metadata": {},
   "outputs": [
    {
     "data": {
      "text/plain": [
       "array([1, 4, 2, 1, 2, 5, 1, 2, 4, 2, 4, 1, 4, 1, 2, 2, 1, 2, 1, 1, 1, 1,\n",
       "       1, 1, 1], dtype=int64)"
      ]
     },
     "execution_count": 41,
     "metadata": {},
     "output_type": "execute_result"
    }
   ],
   "source": [
    "#The chances of each element appearing can be changed with p=[]\n",
    "#This generates 25 integers between 0-5 \n",
    "#with 0-50% chance of certain numbers appearing\n",
    "rng.choice(6,25, p= [0, 0.5, 0.2, 0, 0.2, 0.1])"
   ]
  },
  {
   "cell_type": "markdown",
   "metadata": {},
   "source": [
    "The altered probablities can be seen in the following 2 plots, the first displaying a uniform distrubution and the second shows the affect of adjusted probabilities."
   ]
  },
  {
   "cell_type": "code",
   "execution_count": 50,
   "metadata": {},
   "outputs": [
    {
     "data": {
      "image/png": "[encoded data removed]",
      "text/plain": [
       "<Figure size 432x288 with 1 Axes>"
      ]
     },
     "metadata": {
      "needs_background": "light"
     },
     "output_type": "display_data"
    }
   ],
   "source": [
    "#Generate 100000 numbers from 0-9\n",
    "arr = rng.choice((10),100000)\n",
    "#Plot the Histogram\n",
    "plt.hist(arr)\n",
    "plt.show()"
   ]
  },
  {
   "cell_type": "code",
   "execution_count": 58,
   "metadata": {},
   "outputs": [
    {
     "data": {
      "image/png": "[encoded data removed]",
      "text/plain": [
       "<Figure size 432x288 with 1 Axes>"
      ]
     },
     "metadata": {
      "needs_background": "light"
     },
     "output_type": "display_data"
    }
   ],
   "source": [
    "#Generates 100,000 integers between 0-9 with probabilties between 0-40%\n",
    "arr = rng.choice(10,100000, p= [0.05, 0.4, 0.1, 0, 0.01, 0.1, 0.04, 0.2, 0.08, 0.02])\n",
    "#Plot the Histogram\n",
    "plt.hist(arr)\n",
    "plt.show()"
   ]
  },
  {
   "cell_type": "markdown",
   "metadata": {},
   "source": [
    "Choice can be used on arrays of strings."
   ]
  },
  {
   "cell_type": "code",
   "execution_count": 18,
   "metadata": {},
   "outputs": [
    {
     "data": {
      "image/png": "[encoded data removed]",
      "text/plain": [
       "<Figure size 432x288 with 1 Axes>"
      ]
     },
     "metadata": {
      "needs_background": "light"
     },
     "output_type": "display_data"
    }
   ],
   "source": [
    "#Create an array of colours\n",
    "colour = [\"red\", \"orange\", \"yellow\", \"green\", \"blue\", \"indigo\", \"violet\"]\n",
    "#Alter the probabilites of the colours appearing\n",
    "rainbow = rng.choice(colour,10000, p= [0.1, 0.3, 0.2, 0, 0.2, 0.1, 0.1])\n",
    "#Plot the Histogram\n",
    "plt.hist(rainbow)\n",
    "plt.show()"
   ]
  },
  {
   "cell_type": "markdown",
   "metadata": {},
   "source": [
    "### Bytes\n",
    "\n",
    "[random.Generator.bytes(length)](https://numpy.org/doc/stable/reference/random/generated/numpy.random.Generator.bytes.html#numpy.random.Generator.bytes)\n",
    "\n",
    "Return Random bytes\n",
    "\n"
   ]
  },
  {
   "cell_type": "code",
   "execution_count": 19,
   "metadata": {},
   "outputs": [
    {
     "data": {
      "text/plain": [
       "b'\\x02\\x8bn^\\xe0'"
      ]
     },
     "execution_count": 19,
     "metadata": {},
     "output_type": "execute_result"
    }
   ],
   "source": [
    "rng.bytes(5)"
   ]
  },
  {
   "cell_type": "code",
   "execution_count": 20,
   "metadata": {},
   "outputs": [
    {
     "data": {
      "text/plain": [
       "b'<\\x1d\\t\\xc4\\xc0\\x08\\x1dMN\\xa0.,}\\xd3{)\\xd9{\\xb4\\xc5\\x9b\\x0b\\xa7\\x84,%8\\xee\\xb8\\xc4\\xf6\\x83(R\\xc9\\x9e\\xc7O\\x8f\\x032\\x16\\xc0\\x87\\xc4\\xa3r\\xcf\\x1e\\xbd'"
      ]
     },
     "execution_count": 20,
     "metadata": {},
     "output_type": "execute_result"
    }
   ],
   "source": [
    "rng.bytes(50)"
   ]
  },
  {
   "cell_type": "markdown",
   "metadata": {},
   "source": [
    "## Permutations\n",
    "\n",
    ">\"In mathematics, a permutation of a set is, loosely speaking, an arrangement of its members into a sequence or linear order, or if the set is already ordered, a rearrangement of its elements. The word \"permutation\" also refers to the act or process of changing the linear order of an ordered set\" [6].\n",
    "        \n",
    "Numpy.random allows for the modification of the sequence of arrays using the following functions:\n",
    "\n",
    "* Shuffle\n",
    "* Permutation\n",
    "* Permuted\n"
   ]
  },
  {
   "cell_type": "markdown",
   "metadata": {},
   "source": [
    "### Shuffle\n",
    "\n",
    "[random.Generator.shuffle(x, axis=0)](https://numpy.org/doc/stable/reference/random/generated/numpy.random.Generator.shuffle.html#numpy.random.Generator.shuffle)\n",
    "\n",
    "Modify an array or sequence in-place by shuffling its contents.\n",
    "\n",
    "The order of sub-arrays is changed but their contents remains the same."
   ]
  },
  {
   "cell_type": "code",
   "execution_count": 21,
   "metadata": {},
   "outputs": [
    {
     "name": "stdout",
     "output_type": "stream",
     "text": [
      "[4 4 8 7 9 1 2 7 0 9]\n",
      "[1 9 9 7 2 8 4 7 0 4]\n"
     ]
    }
   ],
   "source": [
    "#Generate 10 integers between 0-9\n",
    "arr = rng.integers(10, size=10)\n",
    "print(arr)\n",
    "\n",
    "#Shuffle and display form previous array\n",
    "rng.shuffle(arr)\n",
    "print(arr)"
   ]
  },
  {
   "cell_type": "markdown",
   "metadata": {},
   "source": [
    "Shuffle can work between multidimensional arrays, with reshape"
   ]
  },
  {
   "cell_type": "code",
   "execution_count": 22,
   "metadata": {},
   "outputs": [
    {
     "data": {
      "text/plain": [
       "array([[ 0,  1,  2,  3],\n",
       "       [16, 17, 18, 19],\n",
       "       [ 8,  9, 10, 11],\n",
       "       [ 4,  5,  6,  7],\n",
       "       [12, 13, 14, 15]])"
      ]
     },
     "execution_count": 22,
     "metadata": {},
     "output_type": "execute_result"
    }
   ],
   "source": [
    "#Generate 5 arrays of 4 ascending numbers \n",
    "arr = np.arange(20).reshape((5,4))\n",
    "\n",
    "#Shuffle and order of the arrays\n",
    "rng.shuffle(arr)\n",
    "arr"
   ]
  },
  {
   "cell_type": "markdown",
   "metadata": {},
   "source": [
    "Adding axis=1 shuffles the content within the first array"
   ]
  },
  {
   "cell_type": "code",
   "execution_count": 61,
   "metadata": {},
   "outputs": [
    {
     "data": {
      "text/plain": [
       "array([[ 0,  1,  3,  2],\n",
       "       [ 4,  5,  7,  6],\n",
       "       [ 8,  9, 11, 10],\n",
       "       [12, 13, 15, 14],\n",
       "       [16, 17, 19, 18]])"
      ]
     },
     "execution_count": 61,
     "metadata": {},
     "output_type": "execute_result"
    }
   ],
   "source": [
    "#Generate 5 arrays of 4 ascending numbers \n",
    "arr = np.arange(20).reshape((5,4))\n",
    "\n",
    "#Shuffle the contents of the first array\n",
    "rng.shuffle(arr, axis=1)\n",
    "arr"
   ]
  },
  {
   "cell_type": "markdown",
   "metadata": {},
   "source": [
    "Shuffle can also work on strings and more complex arrays. Below code simulates creating a deck of 52 cards and shuffling the order."
   ]
  },
  {
   "cell_type": "code",
   "execution_count": 24,
   "metadata": {},
   "outputs": [
    {
     "data": {
      "text/plain": [
       "[('A', '♣'),\n",
       " ('2', '♣'),\n",
       " ('3', '♣'),\n",
       " ('4', '♣'),\n",
       " ('5', '♣'),\n",
       " ('6', '♣'),\n",
       " ('7', '♣'),\n",
       " ('8', '♣'),\n",
       " ('9', '♣'),\n",
       " ('10', '♣'),\n",
       " ('J', '♣'),\n",
       " ('Q', '♣'),\n",
       " ('K', '♣'),\n",
       " ('A', '♥'),\n",
       " ('2', '♥'),\n",
       " ('3', '♥'),\n",
       " ('4', '♥'),\n",
       " ('5', '♥'),\n",
       " ('6', '♥'),\n",
       " ('7', '♥'),\n",
       " ('8', '♥'),\n",
       " ('9', '♥'),\n",
       " ('10', '♥'),\n",
       " ('J', '♥'),\n",
       " ('Q', '♥'),\n",
       " ('K', '♥'),\n",
       " ('A', '♠'),\n",
       " ('2', '♠'),\n",
       " ('3', '♠'),\n",
       " ('4', '♠'),\n",
       " ('5', '♠'),\n",
       " ('6', '♠'),\n",
       " ('7', '♠'),\n",
       " ('8', '♠'),\n",
       " ('9', '♠'),\n",
       " ('10', '♠'),\n",
       " ('J', '♠'),\n",
       " ('Q', '♠'),\n",
       " ('K', '♠'),\n",
       " ('A', '♦'),\n",
       " ('2', '♦'),\n",
       " ('3', '♦'),\n",
       " ('4', '♦'),\n",
       " ('5', '♦'),\n",
       " ('6', '♦'),\n",
       " ('7', '♦'),\n",
       " ('8', '♦'),\n",
       " ('9', '♦'),\n",
       " ('10', '♦'),\n",
       " ('J', '♦'),\n",
       " ('Q', '♦'),\n",
       " ('K', '♦')]"
      ]
     },
     "execution_count": 24,
     "metadata": {},
     "output_type": "execute_result"
    }
   ],
   "source": [
    "#Create the 2 arrays for a deck of cards\n",
    "#Unicode for the Suit symbols\n",
    "suits = [\"\\u2663\", \"\\u2665\", \"\\u2660\", \"\\u2666\"]\n",
    "faces = [ \"A\", \"2\", \"3\", \"4\", \"5\", \"6\", \"7\", \"8\", \"9\", \"10\", \"J\", \"Q\", \"K\"]\n",
    "\n",
    "#Generate a deck of cards by looping through the arrays above\n",
    "deck = []\n",
    "for suit in suits:\n",
    "    for face in faces:\n",
    "        deck.append((face, suit))\n",
    "        \n",
    "#Display the deck     \n",
    "deck"
   ]
  },
  {
   "cell_type": "code",
   "execution_count": 25,
   "metadata": {},
   "outputs": [
    {
     "data": {
      "text/plain": [
       "[('6', '♣'),\n",
       " ('8', '♥'),\n",
       " ('9', '♣'),\n",
       " ('4', '♠'),\n",
       " ('K', '♦'),\n",
       " ('6', '♠'),\n",
       " ('9', '♦'),\n",
       " ('Q', '♠'),\n",
       " ('2', '♣'),\n",
       " ('5', '♦'),\n",
       " ('5', '♥'),\n",
       " ('7', '♠'),\n",
       " ('5', '♣'),\n",
       " ('K', '♥'),\n",
       " ('J', '♣'),\n",
       " ('10', '♦'),\n",
       " ('2', '♦'),\n",
       " ('10', '♣'),\n",
       " ('Q', '♣'),\n",
       " ('2', '♥'),\n",
       " ('3', '♦'),\n",
       " ('4', '♣'),\n",
       " ('10', '♠'),\n",
       " ('9', '♠'),\n",
       " ('6', '♦'),\n",
       " ('7', '♦'),\n",
       " ('K', '♣'),\n",
       " ('A', '♥'),\n",
       " ('7', '♥'),\n",
       " ('5', '♠'),\n",
       " ('2', '♠'),\n",
       " ('A', '♠'),\n",
       " ('8', '♦'),\n",
       " ('3', '♥'),\n",
       " ('3', '♣'),\n",
       " ('6', '♥'),\n",
       " ('Q', '♥'),\n",
       " ('7', '♣'),\n",
       " ('10', '♥'),\n",
       " ('J', '♠'),\n",
       " ('A', '♦'),\n",
       " ('9', '♥'),\n",
       " ('J', '♥'),\n",
       " ('A', '♣'),\n",
       " ('3', '♠'),\n",
       " ('K', '♠'),\n",
       " ('4', '♦'),\n",
       " ('8', '♣'),\n",
       " ('Q', '♦'),\n",
       " ('J', '♦'),\n",
       " ('4', '♥'),\n",
       " ('8', '♠')]"
      ]
     },
     "execution_count": 25,
     "metadata": {},
     "output_type": "execute_result"
    }
   ],
   "source": [
    "#Use Shuffle to reorganise the deck array\n",
    "rng.shuffle(deck)\n",
    "deck"
   ]
  },
  {
   "cell_type": "markdown",
   "metadata": {},
   "source": [
    "After the deck has been shuffled you can extract defined cards from the list to replicate dealing a hand."
   ]
  },
  {
   "cell_type": "code",
   "execution_count": 26,
   "metadata": {},
   "outputs": [
    {
     "name": "stdout",
     "output_type": "stream",
     "text": [
      "Player 1: ('6', '♣') ('9', '♣') ('K', '♦') ('9', '♦') ('2', '♣') ('5', '♥')\n",
      "Player 2: ('8', '♥') ('4', '♠') ('6', '♠') ('Q', '♠') ('5', '♦') ('7', '♠')\n"
     ]
    }
   ],
   "source": [
    "#Index every other card starting at 0 and 1 for 12 cards\n",
    "hand1 = deck[0:12:2]\n",
    "hand2 = deck[1:12:2]\n",
    "\n",
    "#Display player hand\n",
    "print(\"Player 1:\", *hand1)\n",
    "print(\"Player 2:\", *hand2)"
   ]
  },
  {
   "cell_type": "markdown",
   "metadata": {},
   "source": [
    "### Permutation"
   ]
  },
  {
   "cell_type": "code",
   "execution_count": null,
   "metadata": {},
   "outputs": [],
   "source": []
  },
  {
   "cell_type": "markdown",
   "metadata": {},
   "source": [
    "### Permuted"
   ]
  },
  {
   "cell_type": "markdown",
   "metadata": {},
   "source": [
    "## Distrubutions"
   ]
  },
  {
   "cell_type": "markdown",
   "metadata": {},
   "source": [
    "### Uniform"
   ]
  },
  {
   "cell_type": "markdown",
   "metadata": {},
   "source": [
    "### Normal"
   ]
  },
  {
   "cell_type": "markdown",
   "metadata": {},
   "source": [
    "### Standard-t"
   ]
  },
  {
   "cell_type": "markdown",
   "metadata": {},
   "source": [
    "### Chi-Squared"
   ]
  },
  {
   "cell_type": "markdown",
   "metadata": {},
   "source": [
    "### Poisson"
   ]
  },
  {
   "cell_type": "markdown",
   "metadata": {},
   "source": [
    "## Seeds"
   ]
  },
  {
   "cell_type": "markdown",
   "metadata": {},
   "source": [
    "## References\n",
    "\n",
    "[2]. https://numpy.org/doc/stable/user/absolute_beginners.html\n",
    "\n",
    "[1] https://www.mygreatlearning.com/blog/python-numpy-tutorial/\n",
    "\n",
    "https://numpy.org/doc/stable/user/whatisnumpy.html\n",
    "\n",
    "https://numpy.org/doc/stable/reference/random/generator.html\n",
    "\n",
    "https://machinelearningmastery.com/statistical-data-distributions/\n",
    "\n",
    "[5] https://numpy.org/doc/stable/reference/random/index.html\n",
    "\n",
    "[6] https://en.wikipedia.org/wiki/Permutation"
   ]
  },
  {
   "cell_type": "code",
   "execution_count": null,
   "metadata": {},
   "outputs": [],
   "source": []
  }
 ],
 "metadata": {
  "kernelspec": {
   "display_name": "Python 3",
   "language": "python",
   "name": "python3"
  },
  "language_info": {
   "codemirror_mode": {
    "name": "ipython",
    "version": 3
   },
   "file_extension": ".py",
   "mimetype": "text/x-python",
   "name": "python",
   "nbconvert_exporter": "python",
   "pygments_lexer": "ipython3",
   "version": "3.8.5"
  }
 },
 "nbformat": 4,
 "nbformat_minor": 4
}
